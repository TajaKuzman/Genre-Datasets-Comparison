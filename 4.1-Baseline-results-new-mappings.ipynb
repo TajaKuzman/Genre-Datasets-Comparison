{
 "cells": [
  {
   "cell_type": "markdown",
   "metadata": {},
   "source": [
    "An analysis of baseline results based on the mapped categories. I mapped the new categories to the original ones and analysed the predictions. I calculated the F1 scores only on labels that were not discarded from the joint schema."
   ]
  },
  {
   "cell_type": "code",
   "execution_count": 13,
   "metadata": {},
   "outputs": [],
   "source": [
    "import pandas as pd\n",
    "import numpy as np\n",
    "import matplotlib.pyplot as plt\n",
    "from sklearn import metrics\n",
    "from sklearn.metrics import classification_report, confusion_matrix, f1_score,precision_score, recall_score"
   ]
  },
  {
   "cell_type": "code",
   "execution_count": 5,
   "metadata": {},
   "outputs": [],
   "source": [
    "map_FTD = {'A1 (argumentative)': 'discarded', 'A17 (review)': 'discarded', 'A14 (academic)': 'Information/Explanation', 'A16 (information)': 'Information/Explanation', 'A7 (instruction)': 'Instruction', 'A9 (legal)': 'Legal', 'A8 (news)': 'News', 'A11 (personal)': 'Opinion/Argumentation', 'A12 (promotion)': 'Promotion', 'A4 (fiction)': 'Prose/Lyrical'}\n",
    "\n",
    "map_GINCO = {'FAQ': 'discarded', 'List of Summaries/Excerpts': 'discarded', 'Forum': 'Forum', 'Information/Explanation': 'Information/Explanation', 'Research Article': 'Information/Explanation', 'Instruction': 'Instruction', 'Recipe': 'Instruction', 'Legal/Regulation': 'Legal', 'Announcement': 'News', 'News/Reporting': 'News', 'Opinionated News': 'News', 'Opinion/Argumentation': 'Opinion/Argumentation', 'Review': 'Opinion/Argumentation', 'Call': 'Other', 'Correspondence': 'Other', 'Interview': 'Other', 'Other': 'Other', 'Script/Drama': 'Other', 'Invitation': 'Promotion', 'Promotion': 'Promotion', 'Promotion of a Product': 'Promotion', 'Promotion of Services': 'Promotion', 'Lyrical': 'Prose/Lyrical', 'Prose': 'Prose/Lyrical'}\n",
    "\n",
    "\n",
    "map_CORE = {'Advice': 'discarded', 'Course Materials': 'discarded', 'Description of a Person': 'discarded', 'Description of a Thing': 'discarded', 'Description with Intent to Sell': 'discarded', 'FAQ about How-to': 'discarded', 'FAQ about Information': 'discarded', 'Historical Article': 'discarded', 'Information Blog': 'discarded', 'Magazine Article': 'discarded', 'Other Forum': 'discarded', 'Other Information': 'discarded', 'Other Informational Persuasion': 'discarded', 'Other Opinion': 'discarded', 'Other Spoken': 'discarded', 'Poem': 'discarded', 'Question/Answer Forum': 'discarded', 'Reader/Viewer Responses': 'discarded', 'Religious Blogs/Sermons': 'discarded', 'Technical Report': 'discarded', 'Transcript of Video/Audio': 'discarded', 'Travel Blog': 'discarded', 'Discussion Forum': 'Forum', 'Encyclopedia Article': 'Information/Explanation', 'Research Article': 'Information/Explanation', 'How-to': 'Instruction', 'Recipe': 'Instruction', 'Technical Support': 'Instruction', 'Legal terms': 'Legal', 'News Report/Blog': 'News', 'Sports Report': 'News', 'Editorial': 'Opinion/Argumentation', 'Formal Speech': 'Opinion/Argumentation', 'Letter to Editor': 'Opinion/Argumentation', 'Opinion Blog': 'Opinion/Argumentation', 'Personal Blog': 'Opinion/Argumentation', 'Persuasive Article or Essay': 'Opinion/Argumentation', 'Reviews': 'Opinion/Argumentation', 'Interview': 'Other', 'TV/Movie Script': 'Other', 'Advertisement': 'Promotion', 'Prayer': 'Prose/Lyrical', 'Short Story': 'Prose/Lyrical', 'Song Lyrics': 'Prose/Lyrical', 'Other Narrative': 'discarded', 'Other Lyrical': 'discarded', 'Other How-to': 'discarded'}"
   ]
  },
  {
   "cell_type": "markdown",
   "metadata": {},
   "source": [
    "# GINCO classifier"
   ]
  },
  {
   "cell_type": "markdown",
   "metadata": {},
   "source": [
    "### GINCO-full set"
   ]
  },
  {
   "cell_type": "code",
   "execution_count": 4,
   "metadata": {},
   "outputs": [
    {
     "data": {
      "text/html": [
       "<div>\n",
       "<style scoped>\n",
       "    .dataframe tbody tr th:only-of-type {\n",
       "        vertical-align: middle;\n",
       "    }\n",
       "\n",
       "    .dataframe tbody tr th {\n",
       "        vertical-align: top;\n",
       "    }\n",
       "\n",
       "    .dataframe thead th {\n",
       "        text-align: right;\n",
       "    }\n",
       "</style>\n",
       "<table border=\"1\" class=\"dataframe\">\n",
       "  <thead>\n",
       "    <tr style=\"text-align: right;\">\n",
       "      <th></th>\n",
       "      <th>text</th>\n",
       "      <th>labels</th>\n",
       "      <th>y_pred_GINCO_full_set</th>\n",
       "    </tr>\n",
       "  </thead>\n",
       "  <tbody>\n",
       "    <tr>\n",
       "      <th>574</th>\n",
       "      <td>Italijanke, doslej še edine neporažene, so že ...</td>\n",
       "      <td>Opinionated News</td>\n",
       "      <td>News/Reporting</td>\n",
       "    </tr>\n",
       "    <tr>\n",
       "      <th>636</th>\n",
       "      <td>Novice &lt;p/&gt; Oglasi &lt;p/&gt; MX Proga &lt;p/&gt; Motocros...</td>\n",
       "      <td>Information/Explanation</td>\n",
       "      <td>Information/Explanation</td>\n",
       "    </tr>\n",
       "    <tr>\n",
       "      <th>297</th>\n",
       "      <td>Iskanje - forma &lt;p/&gt; Zakaj Demanda &lt;p/&gt; Verjam...</td>\n",
       "      <td>Promotion of Services</td>\n",
       "      <td>Promotion of Services</td>\n",
       "    </tr>\n",
       "    <tr>\n",
       "      <th>589</th>\n",
       "      <td>Vabilo lokalnim ponudnikom k sodelovanju pri p...</td>\n",
       "      <td>Invitation</td>\n",
       "      <td>Invitation</td>\n",
       "    </tr>\n",
       "    <tr>\n",
       "      <th>19</th>\n",
       "      <td>Prispevki &lt;p/&gt; Vedno več novogradenj in obnov ...</td>\n",
       "      <td>Promotion of a Product</td>\n",
       "      <td>Information/Explanation</td>\n",
       "    </tr>\n",
       "    <tr>\n",
       "      <th>...</th>\n",
       "      <td>...</td>\n",
       "      <td>...</td>\n",
       "      <td>...</td>\n",
       "    </tr>\n",
       "    <tr>\n",
       "      <th>151</th>\n",
       "      <td>odgovor &lt;p/&gt; K sicer pravilnemu opozorilu na k...</td>\n",
       "      <td>Forum</td>\n",
       "      <td>Forum</td>\n",
       "    </tr>\n",
       "    <tr>\n",
       "      <th>643</th>\n",
       "      <td>Povpraševanje po leseni gradnji je na splošno ...</td>\n",
       "      <td>Opinionated News</td>\n",
       "      <td>News/Reporting</td>\n",
       "    </tr>\n",
       "    <tr>\n",
       "      <th>436</th>\n",
       "      <td>Medtem ko smo razmišljali, smo tudi že veliko ...</td>\n",
       "      <td>Promotion</td>\n",
       "      <td>Promotion of Services</td>\n",
       "    </tr>\n",
       "    <tr>\n",
       "      <th>592</th>\n",
       "      <td>Objektivnost v času daril &lt;p/&gt; Darila vsi radi...</td>\n",
       "      <td>Opinion/Argumentation</td>\n",
       "      <td>Opinion/Argumentation</td>\n",
       "    </tr>\n",
       "    <tr>\n",
       "      <th>946</th>\n",
       "      <td>Peter Svetina : El anillo mágico &lt;p/&gt; Podrobno...</td>\n",
       "      <td>Other</td>\n",
       "      <td>Promotion of a Product</td>\n",
       "    </tr>\n",
       "  </tbody>\n",
       "</table>\n",
       "<p>193 rows × 3 columns</p>\n",
       "</div>"
      ],
      "text/plain": [
       "                                                  text  \\\n",
       "574  Italijanke, doslej še edine neporažene, so že ...   \n",
       "636  Novice <p/> Oglasi <p/> MX Proga <p/> Motocros...   \n",
       "297  Iskanje - forma <p/> Zakaj Demanda <p/> Verjam...   \n",
       "589  Vabilo lokalnim ponudnikom k sodelovanju pri p...   \n",
       "19   Prispevki <p/> Vedno več novogradenj in obnov ...   \n",
       "..                                                 ...   \n",
       "151  odgovor <p/> K sicer pravilnemu opozorilu na k...   \n",
       "643  Povpraševanje po leseni gradnji je na splošno ...   \n",
       "436  Medtem ko smo razmišljali, smo tudi že veliko ...   \n",
       "592  Objektivnost v času daril <p/> Darila vsi radi...   \n",
       "946  Peter Svetina : El anillo mágico <p/> Podrobno...   \n",
       "\n",
       "                      labels    y_pred_GINCO_full_set  \n",
       "574         Opinionated News           News/Reporting  \n",
       "636  Information/Explanation  Information/Explanation  \n",
       "297    Promotion of Services    Promotion of Services  \n",
       "589               Invitation               Invitation  \n",
       "19    Promotion of a Product  Information/Explanation  \n",
       "..                       ...                      ...  \n",
       "151                    Forum                    Forum  \n",
       "643         Opinionated News           News/Reporting  \n",
       "436                Promotion    Promotion of Services  \n",
       "592    Opinion/Argumentation    Opinion/Argumentation  \n",
       "946                    Other   Promotion of a Product  \n",
       "\n",
       "[193 rows x 3 columns]"
      ]
     },
     "execution_count": 4,
     "metadata": {},
     "output_type": "execute_result"
    }
   ],
   "source": [
    "# Import data\n",
    "from operator import index\n",
    "\n",
    "\n",
    "ginco_pred = pd.read_csv(\"results/GINCO-full-set-classifier-predictions-on-test-sheet-with-predictions.csv\", sep=\"\\t\", index_col = 0)\n",
    "\n",
    "ginco_pred"
   ]
  },
  {
   "cell_type": "code",
   "execution_count": 8,
   "metadata": {},
   "outputs": [
    {
     "data": {
      "text/plain": [
       "News                       45\n",
       "Promotion                  41\n",
       "Opinion/Argumentation      27\n",
       "Information/Explanation    26\n",
       "discarded                  21\n",
       "Other                      12\n",
       "Forum                      11\n",
       "Instruction                 7\n",
       "Legal                       3\n",
       "Name: labels_to-X-GENRE, dtype: int64"
      ]
     },
     "execution_count": 8,
     "metadata": {},
     "output_type": "execute_result"
    }
   ],
   "source": [
    "# Map the labels\n",
    "ginco_pred[\"labels_to-X-GENRE\"] = ginco_pred[\"labels\"].map(map_GINCO).fillna(\"check\")\n",
    "\n",
    "ginco_pred[\"labels_to-X-GENRE\"].value_counts()"
   ]
  },
  {
   "cell_type": "code",
   "execution_count": 9,
   "metadata": {},
   "outputs": [
    {
     "data": {
      "text/html": [
       "<div>\n",
       "<style scoped>\n",
       "    .dataframe tbody tr th:only-of-type {\n",
       "        vertical-align: middle;\n",
       "    }\n",
       "\n",
       "    .dataframe tbody tr th {\n",
       "        vertical-align: top;\n",
       "    }\n",
       "\n",
       "    .dataframe thead th {\n",
       "        text-align: right;\n",
       "    }\n",
       "</style>\n",
       "<table border=\"1\" class=\"dataframe\">\n",
       "  <thead>\n",
       "    <tr style=\"text-align: right;\">\n",
       "      <th></th>\n",
       "      <th>text</th>\n",
       "      <th>labels</th>\n",
       "      <th>y_pred_GINCO_full_set</th>\n",
       "      <th>labels_to-X-GENRE</th>\n",
       "    </tr>\n",
       "  </thead>\n",
       "  <tbody>\n",
       "    <tr>\n",
       "      <th>count</th>\n",
       "      <td>172</td>\n",
       "      <td>172</td>\n",
       "      <td>172</td>\n",
       "      <td>172</td>\n",
       "    </tr>\n",
       "    <tr>\n",
       "      <th>unique</th>\n",
       "      <td>172</td>\n",
       "      <td>16</td>\n",
       "      <td>14</td>\n",
       "      <td>8</td>\n",
       "    </tr>\n",
       "    <tr>\n",
       "      <th>top</th>\n",
       "      <td>Italijanke, doslej še edine neporažene, so že ...</td>\n",
       "      <td>Information/Explanation</td>\n",
       "      <td>News/Reporting</td>\n",
       "      <td>News</td>\n",
       "    </tr>\n",
       "    <tr>\n",
       "      <th>freq</th>\n",
       "      <td>1</td>\n",
       "      <td>26</td>\n",
       "      <td>26</td>\n",
       "      <td>45</td>\n",
       "    </tr>\n",
       "  </tbody>\n",
       "</table>\n",
       "</div>"
      ],
      "text/plain": [
       "                                                     text  \\\n",
       "count                                                 172   \n",
       "unique                                                172   \n",
       "top     Italijanke, doslej še edine neporažene, so že ...   \n",
       "freq                                                    1   \n",
       "\n",
       "                         labels y_pred_GINCO_full_set labels_to-X-GENRE  \n",
       "count                       172                   172               172  \n",
       "unique                       16                    14                 8  \n",
       "top     Information/Explanation        News/Reporting              News  \n",
       "freq                         26                    26                45  "
      ]
     },
     "execution_count": 9,
     "metadata": {},
     "output_type": "execute_result"
    }
   ],
   "source": [
    "# Discard texts with \"discarded\" labels\n",
    "ginco_pred = ginco_pred[ginco_pred[\"labels_to-X-GENRE\"] != \"discarded\"]\n",
    "\n",
    "ginco_pred.describe()"
   ]
  },
  {
   "cell_type": "code",
   "execution_count": 10,
   "metadata": {},
   "outputs": [
    {
     "name": "stderr",
     "output_type": "stream",
     "text": [
      "C:\\Users\\TajaK\\AppData\\Local\\Temp\\ipykernel_13596\\1976273367.py:2: SettingWithCopyWarning: \n",
      "A value is trying to be set on a copy of a slice from a DataFrame.\n",
      "Try using .loc[row_indexer,col_indexer] = value instead\n",
      "\n",
      "See the caveats in the documentation: https://pandas.pydata.org/pandas-docs/stable/user_guide/indexing.html#returning-a-view-versus-a-copy\n",
      "  ginco_pred[\"y_pred_to-X-GENRE\"] = ginco_pred[\"y_pred_GINCO_full_set\"].map(map_GINCO).fillna(\"check\")\n"
     ]
    },
    {
     "data": {
      "text/plain": [
       "News                       49\n",
       "Promotion                  48\n",
       "Information/Explanation    26\n",
       "Opinion/Argumentation      23\n",
       "Forum                      10\n",
       "Instruction                 7\n",
       "discarded                   5\n",
       "Legal                       3\n",
       "Other                       1\n",
       "Name: y_pred_to-X-GENRE, dtype: int64"
      ]
     },
     "execution_count": 10,
     "metadata": {},
     "output_type": "execute_result"
    }
   ],
   "source": [
    "# Map the predicted labels as well\n",
    "ginco_pred[\"y_pred_to-X-GENRE\"] = ginco_pred[\"y_pred_GINCO_full_set\"].map(map_GINCO).fillna(\"check\")\n",
    "\n",
    "ginco_pred[\"y_pred_to-X-GENRE\"].value_counts()"
   ]
  },
  {
   "cell_type": "code",
   "execution_count": 11,
   "metadata": {},
   "outputs": [
    {
     "data": {
      "text/html": [
       "<div>\n",
       "<style scoped>\n",
       "    .dataframe tbody tr th:only-of-type {\n",
       "        vertical-align: middle;\n",
       "    }\n",
       "\n",
       "    .dataframe tbody tr th {\n",
       "        vertical-align: top;\n",
       "    }\n",
       "\n",
       "    .dataframe thead th {\n",
       "        text-align: right;\n",
       "    }\n",
       "</style>\n",
       "<table border=\"1\" class=\"dataframe\">\n",
       "  <thead>\n",
       "    <tr style=\"text-align: right;\">\n",
       "      <th></th>\n",
       "      <th>text</th>\n",
       "      <th>labels</th>\n",
       "      <th>y_pred_GINCO_full_set</th>\n",
       "      <th>labels_to-X-GENRE</th>\n",
       "      <th>y_pred_to-X-GENRE</th>\n",
       "    </tr>\n",
       "  </thead>\n",
       "  <tbody>\n",
       "    <tr>\n",
       "      <th>count</th>\n",
       "      <td>167</td>\n",
       "      <td>167</td>\n",
       "      <td>167</td>\n",
       "      <td>167</td>\n",
       "      <td>167</td>\n",
       "    </tr>\n",
       "    <tr>\n",
       "      <th>unique</th>\n",
       "      <td>167</td>\n",
       "      <td>16</td>\n",
       "      <td>13</td>\n",
       "      <td>8</td>\n",
       "      <td>8</td>\n",
       "    </tr>\n",
       "    <tr>\n",
       "      <th>top</th>\n",
       "      <td>Italijanke, doslej še edine neporažene, so že ...</td>\n",
       "      <td>Information/Explanation</td>\n",
       "      <td>News/Reporting</td>\n",
       "      <td>News</td>\n",
       "      <td>News</td>\n",
       "    </tr>\n",
       "    <tr>\n",
       "      <th>freq</th>\n",
       "      <td>1</td>\n",
       "      <td>26</td>\n",
       "      <td>26</td>\n",
       "      <td>45</td>\n",
       "      <td>49</td>\n",
       "    </tr>\n",
       "  </tbody>\n",
       "</table>\n",
       "</div>"
      ],
      "text/plain": [
       "                                                     text  \\\n",
       "count                                                 167   \n",
       "unique                                                167   \n",
       "top     Italijanke, doslej še edine neporažene, so že ...   \n",
       "freq                                                    1   \n",
       "\n",
       "                         labels y_pred_GINCO_full_set labels_to-X-GENRE  \\\n",
       "count                       167                   167               167   \n",
       "unique                       16                    13                 8   \n",
       "top     Information/Explanation        News/Reporting              News   \n",
       "freq                         26                    26                45   \n",
       "\n",
       "       y_pred_to-X-GENRE  \n",
       "count                167  \n",
       "unique                 8  \n",
       "top                 News  \n",
       "freq                  49  "
      ]
     },
     "execution_count": 11,
     "metadata": {},
     "output_type": "execute_result"
    }
   ],
   "source": [
    "# Discard texts with \"discarded\" labels\n",
    "ginco_pred = ginco_pred[ginco_pred[\"y_pred_to-X-GENRE\"] != \"discarded\"]\n",
    "\n",
    "ginco_pred.describe()"
   ]
  },
  {
   "cell_type": "markdown",
   "metadata": {},
   "source": [
    "Analysis of prediction results of the GINCO-full set classifier on 167 texts from the test split. 26 texts were not included, because they belong to the discarded categories."
   ]
  },
  {
   "cell_type": "code",
   "execution_count": 15,
   "metadata": {},
   "outputs": [
    {
     "data": {
      "text/plain": [
       "['News',\n",
       " 'Information/Explanation',\n",
       " 'Promotion',\n",
       " 'Other',\n",
       " 'Opinion/Argumentation',\n",
       " 'Forum',\n",
       " 'Legal',\n",
       " 'Instruction']"
      ]
     },
     "execution_count": 15,
     "metadata": {},
     "output_type": "execute_result"
    }
   ],
   "source": [
    "LABELS = list(ginco_pred[\"labels_to-X-GENRE\"].unique())\n",
    "LABELS"
   ]
  },
  {
   "cell_type": "code",
   "execution_count": 17,
   "metadata": {},
   "outputs": [
    {
     "name": "stdout",
     "output_type": "stream",
     "text": [
      "Macro f1: 0.715, Micro f1: 0.725\n"
     ]
    },
    {
     "data": {
      "image/png": "[encoded data removed]",
      "text/plain": [
       "<Figure size 648x648 with 1 Axes>"
      ]
     },
     "metadata": {
      "needs_background": "light"
     },
     "output_type": "display_data"
    },
    {
     "data": {
      "text/plain": [
       "<Figure size 432x288 with 0 Axes>"
      ]
     },
     "metadata": {},
     "output_type": "display_data"
    }
   ],
   "source": [
    "y_true = list(ginco_pred[\"labels_to-X-GENRE\"])\n",
    "y_pred = list(ginco_pred[\"y_pred_to-X-GENRE\"])\n",
    "\n",
    "macro = f1_score(y_true, y_pred, labels=LABELS, average=\"macro\")\n",
    "micro = f1_score(y_true, y_pred, labels=LABELS,  average=\"micro\")\n",
    "print(f\"Macro f1: {macro:0.3}, Micro f1: {micro:0.3}\")\n",
    "\n",
    "# Plot the confusion matrix:\n",
    "cm = confusion_matrix(y_true, y_pred, labels=LABELS)\n",
    "plt.figure(figsize=(9, 9))\n",
    "plt.imshow(cm, cmap=\"Oranges\")\n",
    "for (i, j), z in np.ndenumerate(cm):\n",
    "    plt.text(j, i, '{:d}'.format(z), ha='center', va='center')\n",
    "classNames = LABELS\n",
    "plt.ylabel('True label')\n",
    "plt.xlabel('Predicted label')\n",
    "tick_marks = np.arange(len(classNames))\n",
    "plt.xticks(tick_marks, classNames, rotation=90)\n",
    "plt.yticks(tick_marks, classNames)\n",
    "\n",
    "plt.tight_layout()\n",
    "fig1 = plt.gcf()\n",
    "plt.show()\n",
    "plt.draw()"
   ]
  },
  {
   "cell_type": "markdown",
   "metadata": {},
   "source": [
    "### GINCO-downcast set"
   ]
  },
  {
   "cell_type": "code",
   "execution_count": 18,
   "metadata": {},
   "outputs": [
    {
     "data": {
      "text/html": [
       "<div>\n",
       "<style scoped>\n",
       "    .dataframe tbody tr th:only-of-type {\n",
       "        vertical-align: middle;\n",
       "    }\n",
       "\n",
       "    .dataframe tbody tr th {\n",
       "        vertical-align: top;\n",
       "    }\n",
       "\n",
       "    .dataframe thead th {\n",
       "        text-align: right;\n",
       "    }\n",
       "</style>\n",
       "<table border=\"1\" class=\"dataframe\">\n",
       "  <thead>\n",
       "    <tr style=\"text-align: right;\">\n",
       "      <th></th>\n",
       "      <th>text</th>\n",
       "      <th>labels</th>\n",
       "      <th>y_pred_GINCO_downcast</th>\n",
       "    </tr>\n",
       "  </thead>\n",
       "  <tbody>\n",
       "    <tr>\n",
       "      <th>677</th>\n",
       "      <td>Gibanje za dostojno delo in socialno družbo da...</td>\n",
       "      <td>List of Summaries/Excerpts</td>\n",
       "      <td>List of Summaries/Excerpts</td>\n",
       "    </tr>\n",
       "    <tr>\n",
       "      <th>355</th>\n",
       "      <td>Toronto Drug Bust v tujini &lt;p/&gt; Na letošnji pr...</td>\n",
       "      <td>Information/Explanation</td>\n",
       "      <td>News/Reporting</td>\n",
       "    </tr>\n",
       "    <tr>\n",
       "      <th>500</th>\n",
       "      <td>Član Judo kluba Drava Klemen Ferjan je ta kone...</td>\n",
       "      <td>News/Reporting</td>\n",
       "      <td>News/Reporting</td>\n",
       "    </tr>\n",
       "    <tr>\n",
       "      <th>545</th>\n",
       "      <td>prva stran &gt; Vadba &gt; Ostalo &gt; Kaj je MaxxFIT P...</td>\n",
       "      <td>Promotion</td>\n",
       "      <td>Promotion</td>\n",
       "    </tr>\n",
       "    <tr>\n",
       "      <th>892</th>\n",
       "      <td>Opis izdelka &lt;p/&gt; Sightmark Boresight, Najhitr...</td>\n",
       "      <td>Promotion</td>\n",
       "      <td>List of Summaries/Excerpts</td>\n",
       "    </tr>\n",
       "    <tr>\n",
       "      <th>...</th>\n",
       "      <td>...</td>\n",
       "      <td>...</td>\n",
       "      <td>...</td>\n",
       "    </tr>\n",
       "    <tr>\n",
       "      <th>963</th>\n",
       "      <td>Nahajate se tukaj &lt;p/&gt; White Stain &lt;p/&gt; Ljublj...</td>\n",
       "      <td>Promotion</td>\n",
       "      <td>Promotion</td>\n",
       "    </tr>\n",
       "    <tr>\n",
       "      <th>781</th>\n",
       "      <td>Arhiv novic &lt;p/&gt; Vlada izdala uredbo o manjših...</td>\n",
       "      <td>Information/Explanation</td>\n",
       "      <td>News/Reporting</td>\n",
       "    </tr>\n",
       "    <tr>\n",
       "      <th>757</th>\n",
       "      <td>TKD Sovica vabi na nov pohod s predavanjem! Te...</td>\n",
       "      <td>List of Summaries/Excerpts</td>\n",
       "      <td>Promotion</td>\n",
       "    </tr>\n",
       "    <tr>\n",
       "      <th>871</th>\n",
       "      <td>Znani nasprotniki v kvalifikacijah &lt;p/&gt; Idrija...</td>\n",
       "      <td>News/Reporting</td>\n",
       "      <td>News/Reporting</td>\n",
       "    </tr>\n",
       "    <tr>\n",
       "      <th>359</th>\n",
       "      <td>Za bralce &lt;p/&gt; Družba Delo je bila obveščena, ...</td>\n",
       "      <td>News/Reporting</td>\n",
       "      <td>News/Reporting</td>\n",
       "    </tr>\n",
       "  </tbody>\n",
       "</table>\n",
       "<p>200 rows × 3 columns</p>\n",
       "</div>"
      ],
      "text/plain": [
       "                                                  text  \\\n",
       "677  Gibanje za dostojno delo in socialno družbo da...   \n",
       "355  Toronto Drug Bust v tujini <p/> Na letošnji pr...   \n",
       "500  Član Judo kluba Drava Klemen Ferjan je ta kone...   \n",
       "545  prva stran > Vadba > Ostalo > Kaj je MaxxFIT P...   \n",
       "892  Opis izdelka <p/> Sightmark Boresight, Najhitr...   \n",
       "..                                                 ...   \n",
       "963  Nahajate se tukaj <p/> White Stain <p/> Ljublj...   \n",
       "781  Arhiv novic <p/> Vlada izdala uredbo o manjših...   \n",
       "757  TKD Sovica vabi na nov pohod s predavanjem! Te...   \n",
       "871  Znani nasprotniki v kvalifikacijah <p/> Idrija...   \n",
       "359  Za bralce <p/> Družba Delo je bila obveščena, ...   \n",
       "\n",
       "                         labels       y_pred_GINCO_downcast  \n",
       "677  List of Summaries/Excerpts  List of Summaries/Excerpts  \n",
       "355     Information/Explanation              News/Reporting  \n",
       "500              News/Reporting              News/Reporting  \n",
       "545                   Promotion                   Promotion  \n",
       "892                   Promotion  List of Summaries/Excerpts  \n",
       "..                          ...                         ...  \n",
       "963                   Promotion                   Promotion  \n",
       "781     Information/Explanation              News/Reporting  \n",
       "757  List of Summaries/Excerpts                   Promotion  \n",
       "871              News/Reporting              News/Reporting  \n",
       "359              News/Reporting              News/Reporting  \n",
       "\n",
       "[200 rows x 3 columns]"
      ]
     },
     "execution_count": 18,
     "metadata": {},
     "output_type": "execute_result"
    }
   ],
   "source": [
    "# Import data\n",
    "ginco_pred = pd.read_csv(\"results/testing-GINCO-downcast-on-test-sheet-with-predictions.csv\", sep=\"\\t\", index_col = 0)\n",
    "\n",
    "ginco_pred"
   ]
  },
  {
   "cell_type": "code",
   "execution_count": 19,
   "metadata": {},
   "outputs": [
    {
     "data": {
      "text/plain": [
       "News                       44\n",
       "Promotion                  42\n",
       "Information/Explanation    28\n",
       "Opinion/Argumentation      26\n",
       "discarded                  21\n",
       "Other                      16\n",
       "Forum                      10\n",
       "Instruction                 9\n",
       "Legal                       4\n",
       "Name: labels_to-X-GENRE, dtype: int64"
      ]
     },
     "execution_count": 19,
     "metadata": {},
     "output_type": "execute_result"
    }
   ],
   "source": [
    "# Map the labels\n",
    "ginco_pred[\"labels_to-X-GENRE\"] = ginco_pred[\"labels\"].map(map_GINCO).fillna(\"check\")\n",
    "\n",
    "ginco_pred[\"labels_to-X-GENRE\"].value_counts()"
   ]
  },
  {
   "cell_type": "code",
   "execution_count": 20,
   "metadata": {},
   "outputs": [
    {
     "data": {
      "text/html": [
       "<div>\n",
       "<style scoped>\n",
       "    .dataframe tbody tr th:only-of-type {\n",
       "        vertical-align: middle;\n",
       "    }\n",
       "\n",
       "    .dataframe tbody tr th {\n",
       "        vertical-align: top;\n",
       "    }\n",
       "\n",
       "    .dataframe thead th {\n",
       "        text-align: right;\n",
       "    }\n",
       "</style>\n",
       "<table border=\"1\" class=\"dataframe\">\n",
       "  <thead>\n",
       "    <tr style=\"text-align: right;\">\n",
       "      <th></th>\n",
       "      <th>text</th>\n",
       "      <th>labels</th>\n",
       "      <th>y_pred_GINCO_downcast</th>\n",
       "      <th>labels_to-X-GENRE</th>\n",
       "    </tr>\n",
       "  </thead>\n",
       "  <tbody>\n",
       "    <tr>\n",
       "      <th>count</th>\n",
       "      <td>179</td>\n",
       "      <td>179</td>\n",
       "      <td>179</td>\n",
       "      <td>179</td>\n",
       "    </tr>\n",
       "    <tr>\n",
       "      <th>unique</th>\n",
       "      <td>179</td>\n",
       "      <td>8</td>\n",
       "      <td>9</td>\n",
       "      <td>8</td>\n",
       "    </tr>\n",
       "    <tr>\n",
       "      <th>top</th>\n",
       "      <td>Toronto Drug Bust v tujini &lt;p/&gt; Na letošnji pr...</td>\n",
       "      <td>News/Reporting</td>\n",
       "      <td>News/Reporting</td>\n",
       "      <td>News</td>\n",
       "    </tr>\n",
       "    <tr>\n",
       "      <th>freq</th>\n",
       "      <td>1</td>\n",
       "      <td>44</td>\n",
       "      <td>49</td>\n",
       "      <td>44</td>\n",
       "    </tr>\n",
       "  </tbody>\n",
       "</table>\n",
       "</div>"
      ],
      "text/plain": [
       "                                                     text          labels  \\\n",
       "count                                                 179             179   \n",
       "unique                                                179               8   \n",
       "top     Toronto Drug Bust v tujini <p/> Na letošnji pr...  News/Reporting   \n",
       "freq                                                    1              44   \n",
       "\n",
       "       y_pred_GINCO_downcast labels_to-X-GENRE  \n",
       "count                    179               179  \n",
       "unique                     9                 8  \n",
       "top           News/Reporting              News  \n",
       "freq                      49                44  "
      ]
     },
     "execution_count": 20,
     "metadata": {},
     "output_type": "execute_result"
    }
   ],
   "source": [
    "# Discard texts with \"discarded\" labels\n",
    "ginco_pred = ginco_pred[ginco_pred[\"labels_to-X-GENRE\"] != \"discarded\"]\n",
    "\n",
    "ginco_pred.describe()"
   ]
  },
  {
   "cell_type": "code",
   "execution_count": 22,
   "metadata": {},
   "outputs": [
    {
     "name": "stderr",
     "output_type": "stream",
     "text": [
      "C:\\Users\\TajaK\\AppData\\Local\\Temp\\ipykernel_13596\\1008752452.py:2: SettingWithCopyWarning: \n",
      "A value is trying to be set on a copy of a slice from a DataFrame.\n",
      "Try using .loc[row_indexer,col_indexer] = value instead\n",
      "\n",
      "See the caveats in the documentation: https://pandas.pydata.org/pandas-docs/stable/user_guide/indexing.html#returning-a-view-versus-a-copy\n",
      "  ginco_pred[\"y_pred_to-X-GENRE\"] = ginco_pred[\"y_pred_GINCO_downcast\"].map(map_GINCO).fillna(\"check\")\n"
     ]
    },
    {
     "data": {
      "text/plain": [
       "News                       49\n",
       "Promotion                  47\n",
       "Opinion/Argumentation      25\n",
       "Information/Explanation    21\n",
       "Instruction                11\n",
       "Forum                      10\n",
       "Other                       8\n",
       "discarded                   4\n",
       "Legal                       4\n",
       "Name: y_pred_to-X-GENRE, dtype: int64"
      ]
     },
     "execution_count": 22,
     "metadata": {},
     "output_type": "execute_result"
    }
   ],
   "source": [
    "# Map the predicted labels as well\n",
    "ginco_pred[\"y_pred_to-X-GENRE\"] = ginco_pred[\"y_pred_GINCO_downcast\"].map(map_GINCO).fillna(\"check\")\n",
    "\n",
    "ginco_pred[\"y_pred_to-X-GENRE\"].value_counts()"
   ]
  },
  {
   "cell_type": "code",
   "execution_count": 23,
   "metadata": {},
   "outputs": [
    {
     "data": {
      "text/html": [
       "<div>\n",
       "<style scoped>\n",
       "    .dataframe tbody tr th:only-of-type {\n",
       "        vertical-align: middle;\n",
       "    }\n",
       "\n",
       "    .dataframe tbody tr th {\n",
       "        vertical-align: top;\n",
       "    }\n",
       "\n",
       "    .dataframe thead th {\n",
       "        text-align: right;\n",
       "    }\n",
       "</style>\n",
       "<table border=\"1\" class=\"dataframe\">\n",
       "  <thead>\n",
       "    <tr style=\"text-align: right;\">\n",
       "      <th></th>\n",
       "      <th>text</th>\n",
       "      <th>labels</th>\n",
       "      <th>y_pred_GINCO_downcast</th>\n",
       "      <th>labels_to-X-GENRE</th>\n",
       "      <th>y_pred_to-X-GENRE</th>\n",
       "    </tr>\n",
       "  </thead>\n",
       "  <tbody>\n",
       "    <tr>\n",
       "      <th>count</th>\n",
       "      <td>175</td>\n",
       "      <td>175</td>\n",
       "      <td>175</td>\n",
       "      <td>175</td>\n",
       "      <td>175</td>\n",
       "    </tr>\n",
       "    <tr>\n",
       "      <th>unique</th>\n",
       "      <td>175</td>\n",
       "      <td>8</td>\n",
       "      <td>8</td>\n",
       "      <td>8</td>\n",
       "      <td>8</td>\n",
       "    </tr>\n",
       "    <tr>\n",
       "      <th>top</th>\n",
       "      <td>Toronto Drug Bust v tujini &lt;p/&gt; Na letošnji pr...</td>\n",
       "      <td>News/Reporting</td>\n",
       "      <td>News/Reporting</td>\n",
       "      <td>News</td>\n",
       "      <td>News</td>\n",
       "    </tr>\n",
       "    <tr>\n",
       "      <th>freq</th>\n",
       "      <td>1</td>\n",
       "      <td>42</td>\n",
       "      <td>49</td>\n",
       "      <td>42</td>\n",
       "      <td>49</td>\n",
       "    </tr>\n",
       "  </tbody>\n",
       "</table>\n",
       "</div>"
      ],
      "text/plain": [
       "                                                     text          labels  \\\n",
       "count                                                 175             175   \n",
       "unique                                                175               8   \n",
       "top     Toronto Drug Bust v tujini <p/> Na letošnji pr...  News/Reporting   \n",
       "freq                                                    1              42   \n",
       "\n",
       "       y_pred_GINCO_downcast labels_to-X-GENRE y_pred_to-X-GENRE  \n",
       "count                    175               175               175  \n",
       "unique                     8                 8                 8  \n",
       "top           News/Reporting              News              News  \n",
       "freq                      49                42                49  "
      ]
     },
     "execution_count": 23,
     "metadata": {},
     "output_type": "execute_result"
    }
   ],
   "source": [
    "# Discard texts with \"discarded\" labels\n",
    "ginco_pred = ginco_pred[ginco_pred[\"y_pred_to-X-GENRE\"] != \"discarded\"]\n",
    "\n",
    "ginco_pred.describe()"
   ]
  },
  {
   "cell_type": "markdown",
   "metadata": {},
   "source": [
    "Analysis of prediction results of the GINCO-downcast classifier on 175 texts from the test split. 25 texts were not included, because they belong to the discarded categories."
   ]
  },
  {
   "cell_type": "code",
   "execution_count": 25,
   "metadata": {},
   "outputs": [
    {
     "data": {
      "text/plain": [
       "['Information/Explanation',\n",
       " 'News',\n",
       " 'Promotion',\n",
       " 'Opinion/Argumentation',\n",
       " 'Forum',\n",
       " 'Other',\n",
       " 'Instruction',\n",
       " 'Legal']"
      ]
     },
     "execution_count": 25,
     "metadata": {},
     "output_type": "execute_result"
    }
   ],
   "source": [
    "LABELS = list(ginco_pred[\"labels_to-X-GENRE\"].unique())\n",
    "LABELS"
   ]
  },
  {
   "cell_type": "code",
   "execution_count": 26,
   "metadata": {},
   "outputs": [
    {
     "name": "stdout",
     "output_type": "stream",
     "text": [
      "Macro f1: 0.757, Micro f1: 0.737\n"
     ]
    },
    {
     "data": {
      "image/png": "[encoded data removed]",
      "text/plain": [
       "<Figure size 648x648 with 1 Axes>"
      ]
     },
     "metadata": {
      "needs_background": "light"
     },
     "output_type": "display_data"
    },
    {
     "data": {
      "text/plain": [
       "<Figure size 432x288 with 0 Axes>"
      ]
     },
     "metadata": {},
     "output_type": "display_data"
    }
   ],
   "source": [
    "y_true = list(ginco_pred[\"labels_to-X-GENRE\"])\n",
    "y_pred = list(ginco_pred[\"y_pred_to-X-GENRE\"])\n",
    "\n",
    "macro = f1_score(y_true, y_pred, labels=LABELS, average=\"macro\")\n",
    "micro = f1_score(y_true, y_pred, labels=LABELS,  average=\"micro\")\n",
    "print(f\"Macro f1: {macro:0.3}, Micro f1: {micro:0.3}\")\n",
    "\n",
    "# Plot the confusion matrix:\n",
    "cm = confusion_matrix(y_true, y_pred, labels=LABELS)\n",
    "plt.figure(figsize=(9, 9))\n",
    "plt.imshow(cm, cmap=\"Oranges\")\n",
    "for (i, j), z in np.ndenumerate(cm):\n",
    "    plt.text(j, i, '{:d}'.format(z), ha='center', va='center')\n",
    "classNames = LABELS\n",
    "plt.ylabel('True label')\n",
    "plt.xlabel('Predicted label')\n",
    "tick_marks = np.arange(len(classNames))\n",
    "plt.xticks(tick_marks, classNames, rotation=90)\n",
    "plt.yticks(tick_marks, classNames)\n",
    "\n",
    "plt.tight_layout()\n",
    "fig1 = plt.gcf()\n",
    "plt.show()\n",
    "plt.draw()"
   ]
  },
  {
   "cell_type": "markdown",
   "metadata": {},
   "source": [
    "# FTD classifier"
   ]
  },
  {
   "cell_type": "code",
   "execution_count": 27,
   "metadata": {},
   "outputs": [
    {
     "data": {
      "text/html": [
       "<div>\n",
       "<style scoped>\n",
       "    .dataframe tbody tr th:only-of-type {\n",
       "        vertical-align: middle;\n",
       "    }\n",
       "\n",
       "    .dataframe tbody tr th {\n",
       "        vertical-align: top;\n",
       "    }\n",
       "\n",
       "    .dataframe thead th {\n",
       "        text-align: right;\n",
       "    }\n",
       "</style>\n",
       "<table border=\"1\" class=\"dataframe\">\n",
       "  <thead>\n",
       "    <tr style=\"text-align: right;\">\n",
       "      <th></th>\n",
       "      <th>text</th>\n",
       "      <th>labels</th>\n",
       "      <th>y_pred</th>\n",
       "      <th>y_true_mapped</th>\n",
       "      <th>y_pred_mapped</th>\n",
       "    </tr>\n",
       "  </thead>\n",
       "  <tbody>\n",
       "    <tr>\n",
       "      <th>926</th>\n",
       "      <td>Frank , 22 , is unemployed and still living at...</td>\n",
       "      <td>6</td>\n",
       "      <td>6</td>\n",
       "      <td>A4 (fiction)</td>\n",
       "      <td>A4 (fiction)</td>\n",
       "    </tr>\n",
       "    <tr>\n",
       "      <th>673</th>\n",
       "      <td>The following is the list of ISP supplied by M...</td>\n",
       "      <td>2</td>\n",
       "      <td>7</td>\n",
       "      <td>A12 (promotion)</td>\n",
       "      <td>A7 (instruction)</td>\n",
       "    </tr>\n",
       "    <tr>\n",
       "      <th>451</th>\n",
       "      <td>Search results for Results 12081 to 12090 of 1...</td>\n",
       "      <td>8</td>\n",
       "      <td>8</td>\n",
       "      <td>A8 (news)</td>\n",
       "      <td>A8 (news)</td>\n",
       "    </tr>\n",
       "    <tr>\n",
       "      <th>1568</th>\n",
       "      <td>Last-minute solution . Even if it 's something...</td>\n",
       "      <td>7</td>\n",
       "      <td>7</td>\n",
       "      <td>A7 (instruction)</td>\n",
       "      <td>A7 (instruction)</td>\n",
       "    </tr>\n",
       "    <tr>\n",
       "      <th>1088</th>\n",
       "      <td>1 Application-level Fault-Tolerance Protocols ...</td>\n",
       "      <td>3</td>\n",
       "      <td>3</td>\n",
       "      <td>A14 (academic)</td>\n",
       "      <td>A14 (academic)</td>\n",
       "    </tr>\n",
       "    <tr>\n",
       "      <th>...</th>\n",
       "      <td>...</td>\n",
       "      <td>...</td>\n",
       "      <td>...</td>\n",
       "      <td>...</td>\n",
       "      <td>...</td>\n",
       "    </tr>\n",
       "    <tr>\n",
       "      <th>622</th>\n",
       "      <td>It still sounds quite broad though ? ' A lot o...</td>\n",
       "      <td>1</td>\n",
       "      <td>1</td>\n",
       "      <td>A11 (personal)</td>\n",
       "      <td>A11 (personal)</td>\n",
       "    </tr>\n",
       "    <tr>\n",
       "      <th>1262</th>\n",
       "      <td>Article III of the United States Constitution ...</td>\n",
       "      <td>9</td>\n",
       "      <td>4</td>\n",
       "      <td>A9 (legal)</td>\n",
       "      <td>A16 (information)</td>\n",
       "    </tr>\n",
       "    <tr>\n",
       "      <th>1429</th>\n",
       "      <td>A How-To Guide for Purchasing Salvage Vehicles...</td>\n",
       "      <td>7</td>\n",
       "      <td>7</td>\n",
       "      <td>A7 (instruction)</td>\n",
       "      <td>A7 (instruction)</td>\n",
       "    </tr>\n",
       "    <tr>\n",
       "      <th>436</th>\n",
       "      <td>Most liaison psychiatry posts are now managed ...</td>\n",
       "      <td>9</td>\n",
       "      <td>7</td>\n",
       "      <td>A9 (legal)</td>\n",
       "      <td>A7 (instruction)</td>\n",
       "    </tr>\n",
       "    <tr>\n",
       "      <th>1470</th>\n",
       "      <td>Though the forecast for the economy is startin...</td>\n",
       "      <td>0</td>\n",
       "      <td>0</td>\n",
       "      <td>A1 (argumentative)</td>\n",
       "      <td>A1 (argumentative)</td>\n",
       "    </tr>\n",
       "  </tbody>\n",
       "</table>\n",
       "<p>283 rows × 5 columns</p>\n",
       "</div>"
      ],
      "text/plain": [
       "                                                   text  labels  y_pred  \\\n",
       "926   Frank , 22 , is unemployed and still living at...       6       6   \n",
       "673   The following is the list of ISP supplied by M...       2       7   \n",
       "451   Search results for Results 12081 to 12090 of 1...       8       8   \n",
       "1568  Last-minute solution . Even if it 's something...       7       7   \n",
       "1088  1 Application-level Fault-Tolerance Protocols ...       3       3   \n",
       "...                                                 ...     ...     ...   \n",
       "622   It still sounds quite broad though ? ' A lot o...       1       1   \n",
       "1262  Article III of the United States Constitution ...       9       4   \n",
       "1429  A How-To Guide for Purchasing Salvage Vehicles...       7       7   \n",
       "436   Most liaison psychiatry posts are now managed ...       9       7   \n",
       "1470  Though the forecast for the economy is startin...       0       0   \n",
       "\n",
       "           y_true_mapped       y_pred_mapped  \n",
       "926         A4 (fiction)        A4 (fiction)  \n",
       "673      A12 (promotion)    A7 (instruction)  \n",
       "451            A8 (news)           A8 (news)  \n",
       "1568    A7 (instruction)    A7 (instruction)  \n",
       "1088      A14 (academic)      A14 (academic)  \n",
       "...                  ...                 ...  \n",
       "622       A11 (personal)      A11 (personal)  \n",
       "1262          A9 (legal)   A16 (information)  \n",
       "1429    A7 (instruction)    A7 (instruction)  \n",
       "436           A9 (legal)    A7 (instruction)  \n",
       "1470  A1 (argumentative)  A1 (argumentative)  \n",
       "\n",
       "[283 rows x 5 columns]"
      ]
     },
     "execution_count": 27,
     "metadata": {},
     "output_type": "execute_result"
    }
   ],
   "source": [
    "# Import data\n",
    "ftd_pred = pd.read_csv(\"results/FTD-classifier-predictions-on-test-sheet-with-predictions.csv\", sep=\"\\t\", index_col = 0)\n",
    "\n",
    "ftd_pred"
   ]
  },
  {
   "cell_type": "code",
   "execution_count": 28,
   "metadata": {},
   "outputs": [
    {
     "data": {
      "text/plain": [
       "discarded                  73\n",
       "Promotion                  51\n",
       "Information/Explanation    49\n",
       "Instruction                33\n",
       "News                       27\n",
       "Prose/Lyrical              19\n",
       "Opinion/Argumentation      16\n",
       "Legal                      15\n",
       "Name: labels_to-X-GENRE, dtype: int64"
      ]
     },
     "execution_count": 28,
     "metadata": {},
     "output_type": "execute_result"
    }
   ],
   "source": [
    "# Map the labels\n",
    "ftd_pred[\"labels_to-X-GENRE\"] = ftd_pred[\"y_true_mapped\"].map(map_FTD).fillna(\"check\")\n",
    "\n",
    "ftd_pred[\"labels_to-X-GENRE\"].value_counts()"
   ]
  },
  {
   "cell_type": "code",
   "execution_count": 29,
   "metadata": {},
   "outputs": [
    {
     "data": {
      "text/html": [
       "<div>\n",
       "<style scoped>\n",
       "    .dataframe tbody tr th:only-of-type {\n",
       "        vertical-align: middle;\n",
       "    }\n",
       "\n",
       "    .dataframe tbody tr th {\n",
       "        vertical-align: top;\n",
       "    }\n",
       "\n",
       "    .dataframe thead th {\n",
       "        text-align: right;\n",
       "    }\n",
       "</style>\n",
       "<table border=\"1\" class=\"dataframe\">\n",
       "  <thead>\n",
       "    <tr style=\"text-align: right;\">\n",
       "      <th></th>\n",
       "      <th>labels</th>\n",
       "      <th>y_pred</th>\n",
       "    </tr>\n",
       "  </thead>\n",
       "  <tbody>\n",
       "    <tr>\n",
       "      <th>count</th>\n",
       "      <td>210.000000</td>\n",
       "      <td>210.000000</td>\n",
       "    </tr>\n",
       "    <tr>\n",
       "      <th>mean</th>\n",
       "      <td>4.733333</td>\n",
       "      <td>4.638095</td>\n",
       "    </tr>\n",
       "    <tr>\n",
       "      <th>std</th>\n",
       "      <td>2.616717</td>\n",
       "      <td>2.749941</td>\n",
       "    </tr>\n",
       "    <tr>\n",
       "      <th>min</th>\n",
       "      <td>1.000000</td>\n",
       "      <td>0.000000</td>\n",
       "    </tr>\n",
       "    <tr>\n",
       "      <th>25%</th>\n",
       "      <td>2.000000</td>\n",
       "      <td>2.000000</td>\n",
       "    </tr>\n",
       "    <tr>\n",
       "      <th>50%</th>\n",
       "      <td>4.000000</td>\n",
       "      <td>4.000000</td>\n",
       "    </tr>\n",
       "    <tr>\n",
       "      <th>75%</th>\n",
       "      <td>7.000000</td>\n",
       "      <td>7.000000</td>\n",
       "    </tr>\n",
       "    <tr>\n",
       "      <th>max</th>\n",
       "      <td>9.000000</td>\n",
       "      <td>9.000000</td>\n",
       "    </tr>\n",
       "  </tbody>\n",
       "</table>\n",
       "</div>"
      ],
      "text/plain": [
       "           labels      y_pred\n",
       "count  210.000000  210.000000\n",
       "mean     4.733333    4.638095\n",
       "std      2.616717    2.749941\n",
       "min      1.000000    0.000000\n",
       "25%      2.000000    2.000000\n",
       "50%      4.000000    4.000000\n",
       "75%      7.000000    7.000000\n",
       "max      9.000000    9.000000"
      ]
     },
     "execution_count": 29,
     "metadata": {},
     "output_type": "execute_result"
    }
   ],
   "source": [
    "# Discard texts with \"discarded\" labels\n",
    "ftd_pred = ftd_pred[ftd_pred[\"labels_to-X-GENRE\"] != \"discarded\"]\n",
    "\n",
    "ftd_pred.describe()"
   ]
  },
  {
   "cell_type": "code",
   "execution_count": 30,
   "metadata": {},
   "outputs": [
    {
     "name": "stderr",
     "output_type": "stream",
     "text": [
      "C:\\Users\\TajaK\\AppData\\Local\\Temp\\ipykernel_13596\\2978306926.py:2: SettingWithCopyWarning: \n",
      "A value is trying to be set on a copy of a slice from a DataFrame.\n",
      "Try using .loc[row_indexer,col_indexer] = value instead\n",
      "\n",
      "See the caveats in the documentation: https://pandas.pydata.org/pandas-docs/stable/user_guide/indexing.html#returning-a-view-versus-a-copy\n",
      "  ftd_pred[\"y_pred_to-X-GENRE\"] = ftd_pred[\"y_pred_mapped\"].map(map_FTD).fillna(\"check\")\n"
     ]
    },
    {
     "data": {
      "text/plain": [
       "Promotion                  47\n",
       "Information/Explanation    40\n",
       "Instruction                33\n",
       "News                       30\n",
       "Prose/Lyrical              18\n",
       "Opinion/Argumentation      16\n",
       "discarded                  13\n",
       "Legal                      13\n",
       "Name: y_pred_to-X-GENRE, dtype: int64"
      ]
     },
     "execution_count": 30,
     "metadata": {},
     "output_type": "execute_result"
    }
   ],
   "source": [
    "# Map the predicted labels as well\n",
    "ftd_pred[\"y_pred_to-X-GENRE\"] = ftd_pred[\"y_pred_mapped\"].map(map_FTD).fillna(\"check\")\n",
    "\n",
    "ftd_pred[\"y_pred_to-X-GENRE\"].value_counts()"
   ]
  },
  {
   "cell_type": "code",
   "execution_count": 31,
   "metadata": {},
   "outputs": [
    {
     "data": {
      "text/html": [
       "<div>\n",
       "<style scoped>\n",
       "    .dataframe tbody tr th:only-of-type {\n",
       "        vertical-align: middle;\n",
       "    }\n",
       "\n",
       "    .dataframe tbody tr th {\n",
       "        vertical-align: top;\n",
       "    }\n",
       "\n",
       "    .dataframe thead th {\n",
       "        text-align: right;\n",
       "    }\n",
       "</style>\n",
       "<table border=\"1\" class=\"dataframe\">\n",
       "  <thead>\n",
       "    <tr style=\"text-align: right;\">\n",
       "      <th></th>\n",
       "      <th>labels</th>\n",
       "      <th>y_pred</th>\n",
       "    </tr>\n",
       "  </thead>\n",
       "  <tbody>\n",
       "    <tr>\n",
       "      <th>count</th>\n",
       "      <td>197.000000</td>\n",
       "      <td>197.000000</td>\n",
       "    </tr>\n",
       "    <tr>\n",
       "      <th>mean</th>\n",
       "      <td>4.705584</td>\n",
       "      <td>4.842640</td>\n",
       "    </tr>\n",
       "    <tr>\n",
       "      <th>std</th>\n",
       "      <td>2.599965</td>\n",
       "      <td>2.651647</td>\n",
       "    </tr>\n",
       "    <tr>\n",
       "      <th>min</th>\n",
       "      <td>1.000000</td>\n",
       "      <td>1.000000</td>\n",
       "    </tr>\n",
       "    <tr>\n",
       "      <th>25%</th>\n",
       "      <td>2.000000</td>\n",
       "      <td>2.000000</td>\n",
       "    </tr>\n",
       "    <tr>\n",
       "      <th>50%</th>\n",
       "      <td>4.000000</td>\n",
       "      <td>4.000000</td>\n",
       "    </tr>\n",
       "    <tr>\n",
       "      <th>75%</th>\n",
       "      <td>7.000000</td>\n",
       "      <td>7.000000</td>\n",
       "    </tr>\n",
       "    <tr>\n",
       "      <th>max</th>\n",
       "      <td>9.000000</td>\n",
       "      <td>9.000000</td>\n",
       "    </tr>\n",
       "  </tbody>\n",
       "</table>\n",
       "</div>"
      ],
      "text/plain": [
       "           labels      y_pred\n",
       "count  197.000000  197.000000\n",
       "mean     4.705584    4.842640\n",
       "std      2.599965    2.651647\n",
       "min      1.000000    1.000000\n",
       "25%      2.000000    2.000000\n",
       "50%      4.000000    4.000000\n",
       "75%      7.000000    7.000000\n",
       "max      9.000000    9.000000"
      ]
     },
     "execution_count": 31,
     "metadata": {},
     "output_type": "execute_result"
    }
   ],
   "source": [
    "# Discard texts with \"discarded\" labels\n",
    "ftd_pred = ftd_pred[ftd_pred[\"y_pred_to-X-GENRE\"] != \"discarded\"]\n",
    "\n",
    "ftd_pred.describe()"
   ]
  },
  {
   "cell_type": "code",
   "execution_count": 32,
   "metadata": {},
   "outputs": [
    {
     "data": {
      "text/plain": [
       "86"
      ]
     },
     "execution_count": 32,
     "metadata": {},
     "output_type": "execute_result"
    }
   ],
   "source": [
    "283-197"
   ]
  },
  {
   "cell_type": "markdown",
   "metadata": {},
   "source": [
    "Analysis of prediction results of the FTD classifier on 197 texts from the test split. 86 texts were not included, because they belong to the discarded categories."
   ]
  },
  {
   "cell_type": "code",
   "execution_count": 33,
   "metadata": {},
   "outputs": [
    {
     "data": {
      "text/plain": [
       "['Prose/Lyrical',\n",
       " 'Promotion',\n",
       " 'News',\n",
       " 'Instruction',\n",
       " 'Information/Explanation',\n",
       " 'Opinion/Argumentation',\n",
       " 'Legal']"
      ]
     },
     "execution_count": 33,
     "metadata": {},
     "output_type": "execute_result"
    }
   ],
   "source": [
    "LABELS = list(ftd_pred[\"labels_to-X-GENRE\"].unique())\n",
    "LABELS"
   ]
  },
  {
   "cell_type": "code",
   "execution_count": 34,
   "metadata": {},
   "outputs": [
    {
     "name": "stdout",
     "output_type": "stream",
     "text": [
      "Macro f1: 0.859, Micro f1: 0.853\n"
     ]
    },
    {
     "data": {
      "image/png": "[encoded data removed]",
      "text/plain": [
       "<Figure size 648x648 with 1 Axes>"
      ]
     },
     "metadata": {
      "needs_background": "light"
     },
     "output_type": "display_data"
    },
    {
     "data": {
      "text/plain": [
       "<Figure size 432x288 with 0 Axes>"
      ]
     },
     "metadata": {},
     "output_type": "display_data"
    }
   ],
   "source": [
    "y_true = list(ftd_pred[\"labels_to-X-GENRE\"])\n",
    "y_pred = list(ftd_pred[\"y_pred_to-X-GENRE\"])\n",
    "\n",
    "macro = f1_score(y_true, y_pred, labels=LABELS, average=\"macro\")\n",
    "micro = f1_score(y_true, y_pred, labels=LABELS,  average=\"micro\")\n",
    "print(f\"Macro f1: {macro:0.3}, Micro f1: {micro:0.3}\")\n",
    "\n",
    "# Plot the confusion matrix:\n",
    "cm = confusion_matrix(y_true, y_pred, labels=LABELS)\n",
    "plt.figure(figsize=(9, 9))\n",
    "plt.imshow(cm, cmap=\"Oranges\")\n",
    "for (i, j), z in np.ndenumerate(cm):\n",
    "    plt.text(j, i, '{:d}'.format(z), ha='center', va='center')\n",
    "classNames = LABELS\n",
    "plt.ylabel('True label')\n",
    "plt.xlabel('Predicted label')\n",
    "tick_marks = np.arange(len(classNames))\n",
    "plt.xticks(tick_marks, classNames, rotation=90)\n",
    "plt.yticks(tick_marks, classNames)\n",
    "\n",
    "plt.tight_layout()\n",
    "fig1 = plt.gcf()\n",
    "plt.show()\n",
    "plt.draw()"
   ]
  },
  {
   "cell_type": "markdown",
   "metadata": {},
   "source": [
    "# CORE"
   ]
  },
  {
   "cell_type": "code",
   "execution_count": 35,
   "metadata": {},
   "outputs": [
    {
     "data": {
      "text/html": [
       "<div>\n",
       "<style scoped>\n",
       "    .dataframe tbody tr th:only-of-type {\n",
       "        vertical-align: middle;\n",
       "    }\n",
       "\n",
       "    .dataframe tbody tr th {\n",
       "        vertical-align: top;\n",
       "    }\n",
       "\n",
       "    .dataframe thead th {\n",
       "        text-align: right;\n",
       "    }\n",
       "</style>\n",
       "<table border=\"1\" class=\"dataframe\">\n",
       "  <thead>\n",
       "    <tr style=\"text-align: right;\">\n",
       "      <th></th>\n",
       "      <th>experiment</th>\n",
       "      <th>num_train_epochs</th>\n",
       "      <th>train_batch_size</th>\n",
       "      <th>learning_rate</th>\n",
       "      <th>microF1</th>\n",
       "      <th>macroF1</th>\n",
       "      <th>y_true</th>\n",
       "      <th>y_pred</th>\n",
       "    </tr>\n",
       "  </thead>\n",
       "  <tbody>\n",
       "    <tr>\n",
       "      <th>0</th>\n",
       "      <td>testing-CORE-main-on-dev</td>\n",
       "      <td>4</td>\n",
       "      <td>8</td>\n",
       "      <td>0.00001</td>\n",
       "      <td>0.736180</td>\n",
       "      <td>0.623031</td>\n",
       "      <td>{'6282': 'Narrative', '7725': 'Narrative', '18...</td>\n",
       "      <td>{'6282': 'Narrative', '7725': 'Narrative', '18...</td>\n",
       "    </tr>\n",
       "    <tr>\n",
       "      <th>1</th>\n",
       "      <td>testing-CORE-main-on-test</td>\n",
       "      <td>4</td>\n",
       "      <td>8</td>\n",
       "      <td>0.00001</td>\n",
       "      <td>0.744662</td>\n",
       "      <td>0.620480</td>\n",
       "      <td>{'32898': 'Informational Description/Explanati...</td>\n",
       "      <td>{'32898': 'Informational Description/Explanati...</td>\n",
       "    </tr>\n",
       "    <tr>\n",
       "      <th>2</th>\n",
       "      <td>testing-CORE-sub-on-dev</td>\n",
       "      <td>6</td>\n",
       "      <td>8</td>\n",
       "      <td>0.00001</td>\n",
       "      <td>0.661529</td>\n",
       "      <td>0.395807</td>\n",
       "      <td>{'30471': 'News Report/Blog', '29668': 'Sports...</td>\n",
       "      <td>{'30471': 'News Report/Blog', '29668': 'Sports...</td>\n",
       "    </tr>\n",
       "    <tr>\n",
       "      <th>3</th>\n",
       "      <td>testing-CORE-sub-on-test</td>\n",
       "      <td>6</td>\n",
       "      <td>8</td>\n",
       "      <td>0.00001</td>\n",
       "      <td>0.661214</td>\n",
       "      <td>0.394314</td>\n",
       "      <td>{'18157': 'Personal Blog', '38004': 'Opinion B...</td>\n",
       "      <td>{'18157': 'Opinion Blog', '38004': 'Sports Rep...</td>\n",
       "    </tr>\n",
       "  </tbody>\n",
       "</table>\n",
       "</div>"
      ],
      "text/plain": [
       "                  experiment  num_train_epochs  train_batch_size  \\\n",
       "0   testing-CORE-main-on-dev                 4                 8   \n",
       "1  testing-CORE-main-on-test                 4                 8   \n",
       "2    testing-CORE-sub-on-dev                 6                 8   \n",
       "3   testing-CORE-sub-on-test                 6                 8   \n",
       "\n",
       "   learning_rate   microF1   macroF1  \\\n",
       "0        0.00001  0.736180  0.623031   \n",
       "1        0.00001  0.744662  0.620480   \n",
       "2        0.00001  0.661529  0.395807   \n",
       "3        0.00001  0.661214  0.394314   \n",
       "\n",
       "                                              y_true  \\\n",
       "0  {'6282': 'Narrative', '7725': 'Narrative', '18...   \n",
       "1  {'32898': 'Informational Description/Explanati...   \n",
       "2  {'30471': 'News Report/Blog', '29668': 'Sports...   \n",
       "3  {'18157': 'Personal Blog', '38004': 'Opinion B...   \n",
       "\n",
       "                                              y_pred  \n",
       "0  {'6282': 'Narrative', '7725': 'Narrative', '18...  \n",
       "1  {'32898': 'Informational Description/Explanati...  \n",
       "2  {'30471': 'News Report/Blog', '29668': 'Sports...  \n",
       "3  {'18157': 'Opinion Blog', '38004': 'Sports Rep...  "
      ]
     },
     "execution_count": 35,
     "metadata": {},
     "output_type": "execute_result"
    }
   ],
   "source": [
    "import json\n",
    "# Import data\n",
    "core_pred = pd.read_json(\"results/CORE-main-Experiments-Results.json\")\n",
    "\n",
    "core_pred"
   ]
  },
  {
   "cell_type": "code",
   "execution_count": 36,
   "metadata": {},
   "outputs": [
    {
     "data": {
      "text/html": [
       "<div>\n",
       "<style scoped>\n",
       "    .dataframe tbody tr th:only-of-type {\n",
       "        vertical-align: middle;\n",
       "    }\n",
       "\n",
       "    .dataframe tbody tr th {\n",
       "        vertical-align: top;\n",
       "    }\n",
       "\n",
       "    .dataframe thead th {\n",
       "        text-align: right;\n",
       "    }\n",
       "</style>\n",
       "<table border=\"1\" class=\"dataframe\">\n",
       "  <thead>\n",
       "    <tr style=\"text-align: right;\">\n",
       "      <th></th>\n",
       "      <th>experiment</th>\n",
       "      <th>num_train_epochs</th>\n",
       "      <th>train_batch_size</th>\n",
       "      <th>learning_rate</th>\n",
       "      <th>microF1</th>\n",
       "      <th>macroF1</th>\n",
       "      <th>y_true</th>\n",
       "      <th>y_pred</th>\n",
       "    </tr>\n",
       "  </thead>\n",
       "  <tbody>\n",
       "    <tr>\n",
       "      <th>3</th>\n",
       "      <td>testing-CORE-sub-on-test</td>\n",
       "      <td>6</td>\n",
       "      <td>8</td>\n",
       "      <td>0.00001</td>\n",
       "      <td>0.661214</td>\n",
       "      <td>0.394314</td>\n",
       "      <td>{'18157': 'Personal Blog', '38004': 'Opinion B...</td>\n",
       "      <td>{'18157': 'Opinion Blog', '38004': 'Sports Rep...</td>\n",
       "    </tr>\n",
       "  </tbody>\n",
       "</table>\n",
       "</div>"
      ],
      "text/plain": [
       "                 experiment  num_train_epochs  train_batch_size  \\\n",
       "3  testing-CORE-sub-on-test                 6                 8   \n",
       "\n",
       "   learning_rate   microF1   macroF1  \\\n",
       "3        0.00001  0.661214  0.394314   \n",
       "\n",
       "                                              y_true  \\\n",
       "3  {'18157': 'Personal Blog', '38004': 'Opinion B...   \n",
       "\n",
       "                                              y_pred  \n",
       "3  {'18157': 'Opinion Blog', '38004': 'Sports Rep...  "
      ]
     },
     "execution_count": 36,
     "metadata": {},
     "output_type": "execute_result"
    }
   ],
   "source": [
    "core_pred = core_pred[core_pred[\"experiment\"] == \"testing-CORE-sub-on-test\"]\n",
    "core_pred"
   ]
  },
  {
   "cell_type": "code",
   "execution_count": 47,
   "metadata": {},
   "outputs": [
    {
     "data": {
      "text/plain": [
       "dict_values(['Opinion Blog', 'Sports Report', 'News Report/Blog', 'Sports Report', 'Description of a Thing', 'Description of a Thing', 'News Report/Blog', 'Opinion Blog', 'Reviews', 'Information Blog', 'Personal Blog', 'Sports Report', 'Research Article', 'Sports Report', 'News Report/Blog', 'Discussion Forum', 'Reviews', 'Information Blog', 'News Report/Blog', 'How-to', 'News Report/Blog', 'News Report/Blog', 'Research Article', 'News Report/Blog', 'How-to', 'Reviews', 'Information Blog', 'Description of a Thing', 'Reviews', 'News Report/Blog', 'Opinion Blog', 'Interview', 'Interview', 'Description of a Thing', 'Personal Blog', 'News Report/Blog', 'Opinion Blog', 'News Report/Blog', 'Information Blog', 'Legal terms', 'News Report/Blog', 'Reviews', 'News Report/Blog', 'Opinion Blog', 'Description of a Thing', 'Description of a Thing', 'Personal Blog', 'Description with Intent to Sell', 'Information Blog', 'Research Article', 'Description of a Thing', 'Historical Article', 'How-to', 'Opinion Blog', 'Short Story', 'Description with Intent to Sell', 'News Report/Blog', 'Description of a Thing', 'Personal Blog', 'Opinion Blog', 'News Report/Blog', 'Opinion Blog', 'Reviews', 'Reviews', 'Advice', 'News Report/Blog', 'News Report/Blog', 'Information Blog', 'News Report/Blog', 'Opinion Blog', 'News Report/Blog', 'Interview', 'News Report/Blog', 'News Report/Blog', 'Advice', 'Opinion Blog', 'News Report/Blog', 'News Report/Blog', 'Reviews', 'Personal Blog', 'Historical Article', 'Question/Answer Forum', 'Personal Blog', 'Description of a Thing', 'Discussion Forum', 'Religious Blogs/Sermons', 'FAQ about Information', 'Religious Blogs/Sermons', 'Question/Answer Forum', 'Description with Intent to Sell', 'Discussion Forum', 'News Report/Blog', 'Information Blog', 'Opinion Blog', 'News Report/Blog', 'Sports Report', 'Opinion Blog', 'Sports Report', 'News Report/Blog', 'Information Blog', 'Personal Blog', 'News Report/Blog', 'News Report/Blog', 'News Report/Blog', 'News Report/Blog', 'Personal Blog', 'Description with Intent to Sell', 'Opinion Blog', 'Information Blog', 'News Report/Blog', 'News Report/Blog', 'Information Blog', 'Description of a Thing', 'Discussion Forum', 'Sports Report', 'Sports Report', 'Personal Blog', 'Information Blog', 'News Report/Blog', 'News Report/Blog', 'News Report/Blog', 'Description of a Person', 'News Report/Blog', 'News Report/Blog', 'Travel Blog', 'News Report/Blog', 'Short Story', 'News Report/Blog', 'Advice', 'Interview', 'Discussion Forum', 'Personal Blog', 'Opinion Blog', 'News Report/Blog', 'Description of a Person', 'Description of a Person', 'Discussion Forum', 'Discussion Forum', 'FAQ about Information', 'Personal Blog', 'News Report/Blog', 'Advice', 'How-to', 'Question/Answer Forum', 'Sports Report', 'How-to', 'Discussion Forum', 'News Report/Blog', 'Sports Report', 'Reviews', 'Description with Intent to Sell', 'Opinion Blog', 'News Report/Blog', 'News Report/Blog', 'Personal Blog', 'Description of a Thing', 'Religious Blogs/Sermons', 'Opinion Blog', 'Encyclopedia Article', 'News Report/Blog', 'Description with Intent to Sell', 'News Report/Blog', 'News Report/Blog', 'Personal Blog', 'Sports Report', 'Reviews', 'News Report/Blog', 'Personal Blog', 'Research Article', 'News Report/Blog', 'Legal terms', 'Opinion Blog', 'News Report/Blog', 'News Report/Blog', 'Description of a Thing', 'Information Blog', 'Description of a Thing', 'Personal Blog', 'Sports Report', 'News Report/Blog', 'News Report/Blog', 'News Report/Blog', 'News Report/Blog', 'Discussion Forum', 'Description of a Thing', 'News Report/Blog', 'Description of a Thing', 'FAQ about Information', 'Personal Blog', 'Information Blog', 'News Report/Blog', 'Description of a Person', 'News Report/Blog', 'Song Lyrics', 'Personal Blog', 'Opinion Blog', 'News Report/Blog', 'Opinion Blog', 'Research Article', 'News Report/Blog', 'News Report/Blog', 'Description with Intent to Sell', 'Opinion Blog', 'Description of a Thing', 'News Report/Blog', 'Discussion Forum', 'News Report/Blog', 'Interview', 'Personal Blog', 'Description of a Thing', 'Description of a Thing', 'News Report/Blog', 'Opinion Blog', 'Discussion Forum', 'News Report/Blog', 'Discussion Forum', 'Discussion Forum', 'Personal Blog', 'Discussion Forum', 'Opinion Blog', 'Personal Blog', 'News Report/Blog', 'News Report/Blog', 'Discussion Forum', 'News Report/Blog', 'News Report/Blog', 'Sports Report', 'Description with Intent to Sell', 'News Report/Blog', 'Opinion Blog', 'Opinion Blog', 'How-to', 'Description of a Thing', 'Description of a Thing', 'Information Blog', 'Reviews', 'News Report/Blog', 'Sports Report', 'Personal Blog', 'News Report/Blog', 'News Report/Blog', 'News Report/Blog', 'Discussion Forum', 'Opinion Blog', 'News Report/Blog', 'News Report/Blog', 'News Report/Blog', 'News Report/Blog', 'Personal Blog', 'Information Blog', 'Opinion Blog', 'News Report/Blog', 'Personal Blog', 'FAQ about Information', 'Opinion Blog', 'News Report/Blog', 'Description of a Thing', 'Description of a Thing', 'Research Article', 'Reviews', 'News Report/Blog', 'News Report/Blog', 'Reviews', 'Question/Answer Forum', 'News Report/Blog', 'Research Article', 'News Report/Blog', 'Information Blog', 'How-to', 'News Report/Blog', 'Description of a Person', 'Description of a Thing', 'News Report/Blog', 'Description of a Thing', 'Sports Report', 'Opinion Blog', 'Reviews', 'Personal Blog', 'Description of a Thing', 'Description of a Thing', 'Reviews', 'Information Blog', 'Reviews', 'News Report/Blog', 'Personal Blog', 'News Report/Blog', 'News Report/Blog', 'Information Blog', 'Description of a Thing', 'News Report/Blog', 'Information Blog', 'Description of a Thing', 'How-to', 'Personal Blog', 'News Report/Blog', 'Description with Intent to Sell', 'Reviews', 'Personal Blog', 'Description of a Thing', 'Religious Blogs/Sermons', 'Personal Blog', 'Description of a Thing', 'Discussion Forum', 'Research Article', 'Legal terms', 'News Report/Blog', 'Description of a Thing', 'Discussion Forum', 'Description of a Person', 'Interview', 'News Report/Blog', 'Discussion Forum', 'Question/Answer Forum', 'Sports Report', 'News Report/Blog', 'Information Blog', 'News Report/Blog', 'Description of a Thing', 'Discussion Forum', 'Sports Report', 'Research Article', 'Sports Report', 'News Report/Blog', 'News Report/Blog', 'Reviews', 'News Report/Blog', 'Advice', 'Personal Blog', 'Research Article', 'Advice', 'Opinion Blog', 'Religious Blogs/Sermons', 'Description of a Person', 'Encyclopedia Article', 'Sports Report', 'Opinion Blog', 'Discussion Forum', 'Description of a Thing', 'News Report/Blog', 'Opinion Blog', 'Description of a Thing', 'Description of a Person', 'News Report/Blog', 'Religious Blogs/Sermons', 'News Report/Blog', 'Description of a Thing', 'Opinion Blog', 'News Report/Blog', 'Opinion Blog', 'News Report/Blog', 'Personal Blog', 'Encyclopedia Article', 'Reviews', 'Sports Report', 'News Report/Blog', 'Description of a Thing', 'Opinion Blog', 'Discussion Forum', 'Discussion Forum', 'News Report/Blog', 'Advice', 'News Report/Blog', 'Description with Intent to Sell', 'Interview', 'Personal Blog', 'Discussion Forum', 'News Report/Blog', 'News Report/Blog', 'Opinion Blog', 'News Report/Blog', 'Sports Report', 'Information Blog', 'Advice', 'Discussion Forum', 'News Report/Blog', 'News Report/Blog', 'Sports Report', 'News Report/Blog', 'Description of a Person', 'Opinion Blog', 'Information Blog', 'Religious Blogs/Sermons', 'News Report/Blog', 'Description of a Thing', 'News Report/Blog', 'Sports Report', 'Religious Blogs/Sermons', 'Short Story', 'Description of a Person', 'Encyclopedia Article', 'How-to', 'News Report/Blog', 'News Report/Blog', 'News Report/Blog', 'Description of a Thing', 'News Report/Blog', 'Reviews', 'Sports Report', 'How-to', 'Sports Report', 'News Report/Blog', 'Opinion Blog', 'Description of a Thing', 'Song Lyrics', 'News Report/Blog', 'News Report/Blog', 'Sports Report', 'Opinion Blog', 'How-to', 'Personal Blog', 'Personal Blog', 'Opinion Blog', 'Advice', 'News Report/Blog', 'Question/Answer Forum', 'Description of a Thing', 'Discussion Forum', 'Sports Report', 'News Report/Blog', 'Reviews', 'Description of a Thing', 'Sports Report', 'How-to', 'News Report/Blog', 'Discussion Forum', 'Research Article', 'News Report/Blog', 'Description of a Person', 'Discussion Forum', 'Sports Report', 'Research Article', 'Reviews', 'Information Blog', 'Description with Intent to Sell', 'News Report/Blog', 'Personal Blog', 'Reviews', 'How-to', 'Description of a Thing', 'Sports Report', 'Description of a Thing', 'News Report/Blog', 'Information Blog', 'Research Article', 'Information Blog', 'News Report/Blog', 'Discussion Forum', 'News Report/Blog', 'How-to', 'Discussion Forum', 'Reviews', 'News Report/Blog', 'Reviews', 'Sports Report', 'Opinion Blog', 'News Report/Blog', 'News Report/Blog', 'Opinion Blog', 'Information Blog', 'Historical Article', 'Reviews', 'Religious Blogs/Sermons', 'News Report/Blog', 'Sports Report', 'Information Blog', 'Description of a Thing', 'News Report/Blog', 'Information Blog', 'Description of a Thing', 'News Report/Blog', 'Encyclopedia Article', 'Sports Report', 'Religious Blogs/Sermons', 'News Report/Blog', 'News Report/Blog', 'Reviews', 'Description of a Person', 'Opinion Blog', 'Opinion Blog', 'News Report/Blog', 'Sports Report', 'Research Article', 'Reviews', 'Advice', 'News Report/Blog', 'Sports Report', 'Description of a Thing', 'Personal Blog', 'Description of a Person', 'Opinion Blog', 'Opinion Blog', 'Description of a Thing', 'Opinion Blog', 'Opinion Blog', 'News Report/Blog', 'Question/Answer Forum', 'Opinion Blog', 'News Report/Blog', 'Discussion Forum', 'How-to', 'News Report/Blog', 'News Report/Blog', 'Opinion Blog', 'News Report/Blog', 'Religious Blogs/Sermons', 'News Report/Blog', 'Sports Report', 'Opinion Blog', 'Description of a Thing', 'Reviews', 'Personal Blog', 'Description with Intent to Sell', 'Discussion Forum', 'How-to', 'How-to', 'Religious Blogs/Sermons', 'News Report/Blog', 'Advice', 'Description with Intent to Sell', 'Opinion Blog', 'News Report/Blog', 'News Report/Blog', 'Discussion Forum', 'News Report/Blog', 'Question/Answer Forum', 'News Report/Blog', 'Personal Blog', 'Opinion Blog', 'Description of a Thing', 'Advice', 'Research Article', 'News Report/Blog', 'Advice', 'News Report/Blog', 'Opinion Blog', 'News Report/Blog', 'News Report/Blog', 'News Report/Blog', 'Sports Report', 'Personal Blog', 'Advice', 'How-to', 'Advice', 'Song Lyrics', 'Personal Blog', 'Opinion Blog', 'Description of a Thing', 'Advice', 'News Report/Blog', 'Description of a Thing', 'How-to', 'Sports Report', 'Discussion Forum', 'Sports Report', 'News Report/Blog', 'News Report/Blog', 'News Report/Blog', 'Interview', 'Description with Intent to Sell', 'How-to', 'Reviews', 'Opinion Blog', 'Description of a Person', 'Sports Report', 'News Report/Blog', 'Discussion Forum', 'Description of a Thing', 'Opinion Blog', 'News Report/Blog', 'How-to', 'News Report/Blog', 'Opinion Blog', 'Religious Blogs/Sermons', 'Historical Article', 'Personal Blog', 'News Report/Blog', 'Historical Article', 'Description of a Thing', 'News Report/Blog', 'How-to', 'Description with Intent to Sell', 'News Report/Blog', 'Description of a Person', 'Song Lyrics', 'News Report/Blog', 'News Report/Blog', 'News Report/Blog', 'Description of a Person', 'Recipe', 'News Report/Blog', 'Description of a Person', 'News Report/Blog', 'Advice', 'News Report/Blog', 'Question/Answer Forum', 'Question/Answer Forum', 'Sports Report', 'News Report/Blog', 'Opinion Blog', 'Reviews', 'News Report/Blog', 'Reviews', 'Research Article', 'News Report/Blog', 'Personal Blog', 'Description of a Thing', 'News Report/Blog', 'News Report/Blog', 'Reviews', 'Religious Blogs/Sermons', 'Description of a Thing', 'Discussion Forum', 'News Report/Blog', 'Personal Blog', 'Description of a Person', 'News Report/Blog', 'News Report/Blog', 'Reviews', 'News Report/Blog', 'News Report/Blog', 'Personal Blog', 'Description of a Thing', 'Religious Blogs/Sermons', 'Description of a Thing', 'Opinion Blog', 'Personal Blog', 'Reviews', 'Discussion Forum', 'Discussion Forum', 'News Report/Blog', 'News Report/Blog', 'Opinion Blog', 'News Report/Blog', 'News Report/Blog', 'Reviews', 'Personal Blog', 'News Report/Blog', 'Description of a Thing', 'Recipe', 'News Report/Blog', 'News Report/Blog', 'Sports Report', 'Reviews', 'News Report/Blog', 'News Report/Blog', 'Sports Report', 'News Report/Blog', 'Description of a Thing', 'Description of a Thing', 'Opinion Blog', 'Information Blog', 'Encyclopedia Article', 'Description with Intent to Sell', 'Personal Blog', 'Question/Answer Forum', 'Sports Report', 'Opinion Blog', 'Song Lyrics', 'Discussion Forum', 'News Report/Blog', 'Song Lyrics', 'Information Blog', 'How-to', 'Question/Answer Forum', 'Description of a Person', 'News Report/Blog', 'Description with Intent to Sell', 'Song Lyrics', 'Discussion Forum', 'Information Blog', 'Religious Blogs/Sermons', 'Question/Answer Forum', 'News Report/Blog', 'Sports Report', 'News Report/Blog', 'Opinion Blog', 'News Report/Blog', 'Description of a Thing', 'Description of a Thing', 'News Report/Blog', 'Research Article', 'Reviews', 'Reviews', 'Discussion Forum', 'News Report/Blog', 'Advice', 'Sports Report', 'Advice', 'Interview', 'Description with Intent to Sell', 'News Report/Blog', 'News Report/Blog', 'Discussion Forum', 'News Report/Blog', 'Question/Answer Forum', 'Description of a Thing', 'News Report/Blog', 'Reviews', 'Personal Blog', 'Description of a Person', 'News Report/Blog', 'Opinion Blog', 'News Report/Blog', 'Song Lyrics', 'How-to', 'Description of a Person', 'News Report/Blog', 'News Report/Blog', 'News Report/Blog', 'News Report/Blog', 'How-to', 'News Report/Blog', 'Opinion Blog', 'News Report/Blog', 'News Report/Blog', 'Personal Blog', 'Personal Blog', 'Recipe', 'Description of a Person', 'News Report/Blog', 'Reviews', 'Sports Report', 'Sports Report', 'News Report/Blog', 'Personal Blog', 'News Report/Blog', 'News Report/Blog', 'Sports Report', 'Reviews', 'Personal Blog', 'News Report/Blog', 'News Report/Blog', 'News Report/Blog', 'Question/Answer Forum', 'Sports Report', 'Song Lyrics', 'Interview', 'Discussion Forum', 'Opinion Blog', 'Description of a Thing', 'Sports Report', 'Interview', 'Discussion Forum', 'Description of a Thing', 'Discussion Forum', 'Encyclopedia Article', 'How-to', 'Description with Intent to Sell', 'Personal Blog', 'Description of a Thing', 'Opinion Blog', 'Description of a Thing', 'Sports Report', 'Opinion Blog', 'News Report/Blog', 'Opinion Blog', 'News Report/Blog', 'Historical Article', 'News Report/Blog', 'Sports Report', 'Description of a Thing', 'Reviews', 'Encyclopedia Article', 'Description of a Thing', 'News Report/Blog', 'How-to', 'News Report/Blog', 'News Report/Blog', 'News Report/Blog', 'Description of a Person', 'How-to', 'Encyclopedia Article', 'News Report/Blog', 'Research Article', 'Opinion Blog', 'Personal Blog', 'Research Article', 'News Report/Blog', 'Personal Blog', 'News Report/Blog', 'News Report/Blog', 'News Report/Blog', 'Reviews', 'News Report/Blog', 'Description of a Thing', 'Personal Blog', 'Advice', 'Description of a Thing', 'Opinion Blog', 'Song Lyrics', 'Information Blog', 'Sports Report', 'News Report/Blog', 'Personal Blog', 'Legal terms', 'Research Article', 'Information Blog', 'Sports Report', 'Opinion Blog', 'Sports Report', 'News Report/Blog', 'Information Blog', 'News Report/Blog', 'News Report/Blog', 'Recipe', 'News Report/Blog', 'Encyclopedia Article', 'Sports Report', 'Discussion Forum', 'News Report/Blog', 'Opinion Blog', 'Reviews', 'Religious Blogs/Sermons', 'News Report/Blog', 'News Report/Blog', 'News Report/Blog', 'News Report/Blog', 'Sports Report', 'News Report/Blog', 'Personal Blog', 'Religious Blogs/Sermons', 'Personal Blog', 'Encyclopedia Article', 'Research Article', 'Opinion Blog', 'Opinion Blog', 'News Report/Blog', 'Description of a Thing', 'News Report/Blog', 'Information Blog', 'News Report/Blog', 'Personal Blog', 'News Report/Blog', 'News Report/Blog', 'Opinion Blog', 'Description of a Thing', 'News Report/Blog', 'Interview', 'Reviews', 'Description of a Thing', 'Research Article', 'Opinion Blog', 'Opinion Blog', 'News Report/Blog', 'News Report/Blog', 'Description of a Thing', 'Description of a Thing', 'Opinion Blog', 'News Report/Blog', 'Opinion Blog', 'Question/Answer Forum', 'Description of a Thing', 'News Report/Blog', 'Reviews', 'News Report/Blog', 'Description of a Thing', 'Description of a Thing', 'Interview', 'Personal Blog', 'Information Blog', 'Description of a Thing', 'News Report/Blog', 'News Report/Blog', 'Reviews', 'News Report/Blog', 'Reviews', 'Religious Blogs/Sermons', 'Opinion Blog', 'Sports Report', 'Recipe', 'Research Article', 'News Report/Blog', 'News Report/Blog', 'Description of a Thing', 'Song Lyrics', 'Reviews', 'How-to', 'Opinion Blog', 'News Report/Blog', 'Sports Report', 'Opinion Blog', 'Description of a Thing', 'Reviews', 'News Report/Blog', 'Sports Report', 'Personal Blog', 'News Report/Blog', 'Description of a Thing', 'News Report/Blog', 'How-to', 'Personal Blog', 'News Report/Blog', 'News Report/Blog', 'Advice', 'How-to', 'News Report/Blog', 'Encyclopedia Article', 'News Report/Blog', 'Personal Blog', 'Description of a Thing', 'How-to', 'Description of a Thing', 'Opinion Blog', 'Description of a Thing', 'Description of a Thing', 'How-to', 'Discussion Forum', 'Sports Report', 'News Report/Blog', 'Description of a Thing', 'News Report/Blog', 'Description of a Person', 'Reviews', 'Description of a Thing', 'Discussion Forum', 'Reviews', 'Song Lyrics', 'Discussion Forum', 'News Report/Blog', 'Personal Blog', 'Description of a Thing', 'Description of a Thing', 'News Report/Blog', 'News Report/Blog', 'Legal terms', 'How-to', 'Discussion Forum', 'Religious Blogs/Sermons', 'News Report/Blog', 'Song Lyrics', 'News Report/Blog', 'Sports Report', 'Sports Report', 'Description of a Person', 'Research Article', 'Opinion Blog', 'How-to', 'News Report/Blog', 'Reviews', 'How-to', 'News Report/Blog', 'Question/Answer Forum', 'Opinion Blog', 'News Report/Blog', 'News Report/Blog', 'Discussion Forum', 'Sports Report', 'Opinion Blog', 'Opinion Blog', 'Sports Report', 'Description of a Person', 'Description of a Thing', 'News Report/Blog', 'Sports Report', 'Advice', 'Religious Blogs/Sermons', 'Opinion Blog', 'Interview', 'News Report/Blog', 'Personal Blog', 'Advice', 'Opinion Blog', 'Description of a Thing', 'News Report/Blog', 'News Report/Blog', 'Reviews', 'Opinion Blog', 'Opinion Blog', 'FAQ about Information', 'Question/Answer Forum', 'News Report/Blog', 'News Report/Blog', 'News Report/Blog', 'Personal Blog', 'Information Blog', 'News Report/Blog', 'Reviews', 'Description of a Thing', 'News Report/Blog', 'Encyclopedia Article', 'Description of a Person', 'News Report/Blog', 'Song Lyrics', 'Reviews', 'Sports Report', 'Religious Blogs/Sermons', 'News Report/Blog', 'Reviews', 'Discussion Forum', 'News Report/Blog', 'Encyclopedia Article', 'Sports Report', 'How-to', 'Sports Report', 'Personal Blog', 'Song Lyrics', 'Information Blog', 'Reviews', 'Opinion Blog', 'How-to', 'News Report/Blog', 'Description of a Thing', 'Opinion Blog', 'News Report/Blog', 'Description of a Thing', 'News Report/Blog', 'Opinion Blog', 'Religious Blogs/Sermons', 'Personal Blog', 'Short Story', 'News Report/Blog', 'News Report/Blog', 'Description of a Thing', 'News Report/Blog', 'Short Story', 'News Report/Blog', 'Personal Blog', 'Opinion Blog', 'Opinion Blog', 'Research Article', 'Opinion Blog', 'Description of a Person', 'News Report/Blog', 'Sports Report', 'News Report/Blog', 'How-to', 'Song Lyrics', 'How-to', 'Information Blog', 'Personal Blog', 'Description with Intent to Sell', 'Research Article', 'Personal Blog', 'Reviews', 'Reviews', 'Sports Report', 'Description of a Thing', 'Opinion Blog', 'News Report/Blog', 'Personal Blog', 'How-to', 'Personal Blog', 'Question/Answer Forum', 'Opinion Blog', 'Personal Blog', 'Personal Blog', 'Historical Article', 'News Report/Blog', 'News Report/Blog', 'News Report/Blog', 'Opinion Blog', 'Reviews', 'Opinion Blog', 'News Report/Blog', 'Reviews', 'Encyclopedia Article', 'News Report/Blog', 'Opinion Blog', 'News Report/Blog', 'News Report/Blog', 'How-to', 'Description of a Thing', 'News Report/Blog', 'Description of a Thing', 'Religious Blogs/Sermons', 'Reviews', 'News Report/Blog', 'News Report/Blog', 'News Report/Blog', 'News Report/Blog', 'Reviews', 'Sports Report', 'Question/Answer Forum', 'Description of a Thing', 'Description with Intent to Sell', 'Encyclopedia Article', 'Opinion Blog', 'News Report/Blog', 'News Report/Blog', 'News Report/Blog', 'Opinion Blog', 'Discussion Forum', 'Discussion Forum', 'News Report/Blog', 'Description of a Thing', 'Opinion Blog', 'News Report/Blog', 'Personal Blog', 'News Report/Blog', 'Description with Intent to Sell', 'Discussion Forum', 'Description of a Thing', 'News Report/Blog', 'Advice', 'Question/Answer Forum', 'Description of a Thing', 'Research Article', 'Personal Blog', 'News Report/Blog', 'Description of a Thing', 'How-to', 'Short Story', 'News Report/Blog', 'Opinion Blog', 'News Report/Blog', 'Advice', 'News Report/Blog', 'Personal Blog', 'Description of a Thing', 'Opinion Blog', 'Personal Blog', 'Opinion Blog', 'Description of a Thing', 'Research Article', 'Interview', 'Opinion Blog', 'Description with Intent to Sell', 'Encyclopedia Article', 'Sports Report', 'News Report/Blog', 'Information Blog', 'News Report/Blog', 'How-to', 'Advice', 'News Report/Blog', 'News Report/Blog', 'Personal Blog', 'Research Article', 'News Report/Blog', 'Opinion Blog', 'News Report/Blog', 'Description of a Thing', 'Reviews', 'Sports Report', 'Description of a Thing', 'News Report/Blog', 'Opinion Blog', 'News Report/Blog', 'News Report/Blog', 'Reviews', 'How-to', 'News Report/Blog', 'Information Blog', 'Encyclopedia Article', 'Opinion Blog', 'Description of a Thing', 'Song Lyrics', 'Opinion Blog', 'News Report/Blog', 'News Report/Blog', 'Description of a Thing', 'Information Blog', 'Information Blog', 'How-to', 'How-to', 'Description of a Thing', 'News Report/Blog', 'Opinion Blog', 'Recipe', 'How-to', 'FAQ about Information', 'How-to', 'Research Article', 'Information Blog', 'News Report/Blog', 'Reviews', 'Opinion Blog', 'Opinion Blog', 'Opinion Blog', 'FAQ about Information', 'Discussion Forum', 'News Report/Blog', 'News Report/Blog', 'Song Lyrics', 'Description of a Thing', 'Personal Blog', 'Opinion Blog', 'News Report/Blog', 'Description of a Thing', 'Information Blog', 'Reviews', 'News Report/Blog', 'News Report/Blog', 'News Report/Blog', 'Personal Blog', 'Description of a Thing', 'Information Blog', 'News Report/Blog', 'Sports Report', 'How-to', 'Description of a Thing', 'How-to', 'Opinion Blog', 'Research Article', 'Question/Answer Forum', 'Research Article', 'Encyclopedia Article', 'Opinion Blog', 'Reviews', 'Religious Blogs/Sermons', 'Interview', 'Sports Report', 'Opinion Blog', 'Interview', 'Description of a Thing', 'Sports Report', 'News Report/Blog', 'Sports Report', 'News Report/Blog', 'Information Blog', 'Research Article', 'Information Blog', 'Description of a Thing', 'How-to', 'News Report/Blog', 'Research Article', 'News Report/Blog', 'Description of a Thing', 'News Report/Blog', 'Sports Report', 'Historical Article', 'Description of a Thing', 'Personal Blog', 'News Report/Blog', 'How-to', 'Information Blog', 'Opinion Blog', 'Personal Blog', 'Personal Blog', 'Reviews', 'News Report/Blog', 'Personal Blog', 'Description of a Thing', 'Information Blog', 'Sports Report', 'Song Lyrics', 'News Report/Blog', 'Description of a Thing', 'Opinion Blog', 'FAQ about Information', 'Personal Blog', 'Personal Blog', 'News Report/Blog', 'News Report/Blog', 'Discussion Forum', 'Description of a Person', 'Discussion Forum', 'Opinion Blog', 'News Report/Blog', 'Religious Blogs/Sermons', 'News Report/Blog', 'Opinion Blog', 'Description of a Thing', 'Information Blog', 'Description of a Thing', 'Description of a Thing', 'Song Lyrics', 'News Report/Blog', 'Interview', 'Description of a Person', 'News Report/Blog', 'News Report/Blog', 'Opinion Blog', 'News Report/Blog', 'Personal Blog', 'Personal Blog', 'How-to', 'News Report/Blog', 'Sports Report', 'Description of a Thing', 'Religious Blogs/Sermons', 'Question/Answer Forum', 'Description of a Thing', 'FAQ about Information', 'Sports Report', 'Discussion Forum', 'How-to', 'Opinion Blog', 'Question/Answer Forum', 'Advice', 'News Report/Blog', 'Reviews', 'Personal Blog', 'Description of a Thing', 'Description of a Thing', 'Description of a Thing', 'Opinion Blog', 'News Report/Blog', 'News Report/Blog', 'News Report/Blog', 'News Report/Blog', 'How-to', 'News Report/Blog', 'News Report/Blog', 'How-to', 'Discussion Forum', 'Description with Intent to Sell', 'Religious Blogs/Sermons', 'Song Lyrics', 'Personal Blog', 'Discussion Forum', 'Sports Report', 'Opinion Blog', 'Opinion Blog', 'How-to', 'Personal Blog', 'News Report/Blog', 'FAQ about Information', 'How-to', 'Religious Blogs/Sermons', 'Song Lyrics', 'News Report/Blog', 'Advice', 'Sports Report', 'Description of a Person', 'News Report/Blog', 'Question/Answer Forum', 'Sports Report', 'Sports Report', 'Description of a Thing', 'Opinion Blog', 'Description of a Thing', 'Description of a Thing', 'Description of a Thing', 'News Report/Blog', 'Sports Report', 'Song Lyrics', 'Research Article', 'News Report/Blog', 'Opinion Blog', 'News Report/Blog', 'News Report/Blog', 'News Report/Blog', 'News Report/Blog', 'FAQ about Information', 'Personal Blog', 'Historical Article', 'News Report/Blog', 'Question/Answer Forum', 'Discussion Forum', 'News Report/Blog', 'How-to', 'Personal Blog', 'News Report/Blog', 'Opinion Blog', 'News Report/Blog', 'Sports Report', 'News Report/Blog', 'Sports Report', 'Question/Answer Forum', 'Personal Blog', 'News Report/Blog', 'Description of a Thing', 'News Report/Blog', 'Short Story', 'Description of a Thing', 'Research Article', 'News Report/Blog', 'News Report/Blog', 'Encyclopedia Article', 'Reviews', 'Encyclopedia Article', 'Description with Intent to Sell', 'How-to', 'Short Story', 'Information Blog', 'Description of a Thing', 'Religious Blogs/Sermons', 'News Report/Blog', 'Sports Report', 'Opinion Blog', 'Description of a Thing', 'Question/Answer Forum', 'Reviews', 'Reviews', 'Religious Blogs/Sermons', 'News Report/Blog', 'News Report/Blog', 'Opinion Blog', 'Reviews', 'Short Story', 'Song Lyrics', 'Religious Blogs/Sermons', 'News Report/Blog', 'News Report/Blog', 'Discussion Forum', 'Sports Report', 'Sports Report', 'News Report/Blog', 'Description of a Thing', 'Encyclopedia Article', 'Sports Report', 'News Report/Blog', 'Sports Report', 'Opinion Blog', 'Description with Intent to Sell', 'Description of a Thing', 'News Report/Blog', 'News Report/Blog', 'News Report/Blog', 'Description of a Thing', 'News Report/Blog', 'Personal Blog', 'Question/Answer Forum', 'News Report/Blog', 'News Report/Blog', 'Description of a Person', 'Discussion Forum', 'Discussion Forum', 'News Report/Blog', 'Legal terms', 'Opinion Blog', 'Discussion Forum', 'Opinion Blog', 'Sports Report', 'News Report/Blog', 'News Report/Blog', 'Sports Report', 'How-to', 'Discussion Forum', 'News Report/Blog', 'News Report/Blog', 'Advice', 'Sports Report', 'Opinion Blog', 'Opinion Blog', 'News Report/Blog', 'Reviews', 'Description of a Thing', 'Personal Blog', 'Opinion Blog', 'Sports Report', 'Recipe', 'News Report/Blog', 'Description of a Thing', 'Personal Blog', 'Sports Report', 'Discussion Forum', 'News Report/Blog', 'Advice', 'Research Article', 'Opinion Blog', 'News Report/Blog', 'Description of a Thing', 'Sports Report', 'News Report/Blog', 'Description of a Thing', 'Religious Blogs/Sermons', 'Religious Blogs/Sermons', 'News Report/Blog', 'Description of a Thing', 'Personal Blog', 'Song Lyrics', 'Description with Intent to Sell', 'News Report/Blog', 'Legal terms', 'Research Article', 'Information Blog', 'Description of a Person', 'Opinion Blog', 'News Report/Blog', 'Description of a Thing', 'Advice', 'Sports Report', 'News Report/Blog', 'Sports Report', 'How-to', 'Sports Report', 'News Report/Blog', 'News Report/Blog', 'Opinion Blog', 'Interview', 'Information Blog', 'Religious Blogs/Sermons', 'Discussion Forum', 'Sports Report', 'Sports Report', 'News Report/Blog', 'Sports Report', 'News Report/Blog', 'News Report/Blog', 'News Report/Blog', 'Description of a Thing', 'Discussion Forum', 'Opinion Blog', 'News Report/Blog', 'Sports Report', 'Personal Blog', 'Description of a Thing', 'Personal Blog', 'Reviews', 'Personal Blog', 'Description with Intent to Sell', 'News Report/Blog', 'Opinion Blog', 'News Report/Blog', 'Opinion Blog', 'News Report/Blog', 'News Report/Blog', 'How-to', 'Advice', 'News Report/Blog', 'Opinion Blog', 'Information Blog', 'Sports Report', 'Information Blog', 'Opinion Blog', 'Sports Report', 'News Report/Blog', 'Opinion Blog', 'Opinion Blog', 'News Report/Blog', 'Encyclopedia Article', 'Description of a Person', 'Sports Report', 'News Report/Blog', 'News Report/Blog', 'Personal Blog', 'News Report/Blog', 'News Report/Blog', 'Discussion Forum', 'Personal Blog', 'Opinion Blog', 'Discussion Forum', 'How-to', 'Information Blog', 'Description of a Thing', 'Personal Blog', 'News Report/Blog', 'Sports Report', 'News Report/Blog', 'Song Lyrics', 'News Report/Blog', 'Legal terms', 'Sports Report', 'Religious Blogs/Sermons', 'Reviews', 'Personal Blog', 'How-to', 'Song Lyrics', 'News Report/Blog', 'Description of a Thing', 'News Report/Blog', 'Advice', 'News Report/Blog', 'Religious Blogs/Sermons', 'Research Article', 'Sports Report', 'Advice', 'News Report/Blog', 'Sports Report', 'News Report/Blog', 'Information Blog', 'Personal Blog', 'Discussion Forum', 'Sports Report', 'Description of a Thing', 'Description of a Thing', 'Opinion Blog', 'News Report/Blog', 'Description of a Person', 'Encyclopedia Article', 'Description of a Person', 'Sports Report', 'Information Blog', 'Description of a Thing', 'Description of a Thing', 'News Report/Blog', 'Sports Report', 'Discussion Forum', 'News Report/Blog', 'News Report/Blog', 'News Report/Blog', 'Opinion Blog', 'News Report/Blog', 'Description with Intent to Sell', 'How-to', 'Sports Report', 'News Report/Blog', 'Reviews', 'News Report/Blog', 'News Report/Blog', 'Information Blog', 'How-to', 'News Report/Blog', 'Personal Blog', 'News Report/Blog', 'Historical Article', 'Discussion Forum', 'How-to', 'Historical Article', 'News Report/Blog', 'Discussion Forum', 'News Report/Blog', 'Opinion Blog', 'Opinion Blog', 'News Report/Blog', 'Sports Report', 'How-to', 'Discussion Forum', 'Reviews', 'Personal Blog', 'Sports Report', 'Reviews', 'News Report/Blog', 'Question/Answer Forum', 'News Report/Blog', 'News Report/Blog', 'Reviews', 'Opinion Blog', 'Advice', 'Sports Report', 'News Report/Blog', 'Discussion Forum', 'News Report/Blog', 'News Report/Blog', 'How-to', 'Advice', 'News Report/Blog', 'Description with Intent to Sell', 'How-to', 'How-to', 'News Report/Blog', 'Religious Blogs/Sermons', 'How-to', 'News Report/Blog', 'Personal Blog', 'Discussion Forum', 'News Report/Blog', 'Personal Blog', 'Description of a Thing', 'Reviews', 'News Report/Blog', 'Opinion Blog', 'News Report/Blog', 'How-to', 'Description with Intent to Sell', 'News Report/Blog', 'How-to', 'News Report/Blog', 'News Report/Blog', 'Information Blog', 'News Report/Blog', 'News Report/Blog', 'Research Article', 'Description of a Person', 'Encyclopedia Article', 'Description with Intent to Sell', 'Personal Blog', 'Discussion Forum', 'Reviews', 'Song Lyrics', 'News Report/Blog', 'News Report/Blog', 'News Report/Blog', 'News Report/Blog', 'Sports Report', 'Description of a Thing', 'Opinion Blog', 'News Report/Blog', 'News Report/Blog', 'Research Article', 'News Report/Blog', 'Opinion Blog', 'News Report/Blog', 'Discussion Forum', 'News Report/Blog', 'Opinion Blog', 'Advice', 'News Report/Blog', 'Religious Blogs/Sermons', 'Description of a Thing', 'Sports Report', 'News Report/Blog', 'News Report/Blog', 'How-to', 'Personal Blog', 'Description of a Thing', 'Description of a Thing', 'Discussion Forum', 'Reviews', 'News Report/Blog', 'News Report/Blog', 'Song Lyrics', 'Description of a Thing', 'Historical Article', 'Information Blog', 'News Report/Blog', 'News Report/Blog', 'Description of a Thing', 'News Report/Blog', 'Religious Blogs/Sermons', 'Research Article', 'Description of a Thing', 'Description of a Thing', 'Opinion Blog', 'Encyclopedia Article', 'Advice', 'Song Lyrics', 'How-to', 'Advice', 'Information Blog', 'News Report/Blog', 'News Report/Blog', 'News Report/Blog', 'News Report/Blog', 'Discussion Forum', 'News Report/Blog', 'Reviews', 'News Report/Blog', 'Sports Report', 'Legal terms', 'Discussion Forum', 'News Report/Blog', 'News Report/Blog', 'News Report/Blog', 'Reviews', 'Description with Intent to Sell', 'Description of a Thing', 'Sports Report', 'News Report/Blog', 'Song Lyrics', 'Opinion Blog', 'Information Blog', 'Personal Blog', 'News Report/Blog', 'Question/Answer Forum', 'News Report/Blog', 'Reviews', 'Encyclopedia Article', 'Personal Blog', 'Opinion Blog', 'How-to', 'News Report/Blog', 'Personal Blog', 'Opinion Blog', 'Personal Blog', 'News Report/Blog', 'Historical Article', 'Religious Blogs/Sermons', 'News Report/Blog', 'Personal Blog', 'Discussion Forum', 'Reviews', 'Description of a Person', 'Research Article', 'News Report/Blog', 'News Report/Blog', 'Religious Blogs/Sermons', 'Advice', 'News Report/Blog', 'Description of a Thing', 'Personal Blog', 'Discussion Forum', 'News Report/Blog', 'Opinion Blog', 'News Report/Blog', 'Description of a Thing', 'Description of a Thing', 'Opinion Blog', 'Question/Answer Forum', 'News Report/Blog', 'News Report/Blog', 'Discussion Forum', 'Sports Report', 'News Report/Blog', 'Question/Answer Forum', 'News Report/Blog', 'Religious Blogs/Sermons', 'Reviews', 'How-to', 'Reviews', 'How-to', 'News Report/Blog', 'Reviews', 'Encyclopedia Article', 'News Report/Blog', 'Sports Report', 'Advice', 'Opinion Blog', 'Opinion Blog', 'Interview', 'Sports Report', 'Legal terms', 'News Report/Blog', 'Reviews', 'Interview', 'Personal Blog', 'Personal Blog', 'Description of a Thing', 'News Report/Blog', 'News Report/Blog', 'Description of a Thing', 'Discussion Forum', 'Reviews', 'News Report/Blog', 'News Report/Blog', 'News Report/Blog', 'Research Article', 'Description with Intent to Sell', 'Personal Blog', 'Personal Blog', 'News Report/Blog', 'Legal terms', 'Description of a Thing', 'Description of a Thing', 'Information Blog', 'Description of a Person', 'Historical Article', 'Sports Report', 'News Report/Blog', 'Question/Answer Forum', 'Discussion Forum', 'News Report/Blog', 'Research Article', 'News Report/Blog', 'News Report/Blog', 'News Report/Blog', 'Reviews', 'Encyclopedia Article', 'Description of a Thing', 'Discussion Forum', 'Sports Report', 'News Report/Blog', 'Description of a Thing', 'Opinion Blog', 'Information Blog', 'How-to', 'News Report/Blog', 'Description of a Person', 'Description of a Thing', 'News Report/Blog', 'Reviews', 'News Report/Blog', 'Encyclopedia Article', 'News Report/Blog', 'Reviews', 'How-to', 'Sports Report', 'News Report/Blog', 'Information Blog', 'News Report/Blog', 'Discussion Forum', 'News Report/Blog', 'News Report/Blog', 'How-to', 'Short Story', 'Opinion Blog', 'News Report/Blog', 'News Report/Blog', 'News Report/Blog', 'Description of a Thing', 'Reviews', 'Opinion Blog', 'News Report/Blog', 'Opinion Blog', 'Description of a Thing', 'News Report/Blog', 'Song Lyrics', 'Personal Blog', 'Question/Answer Forum', 'Personal Blog', 'Sports Report', 'Opinion Blog', 'Historical Article', 'News Report/Blog', 'Opinion Blog', 'Description of a Thing', 'News Report/Blog', 'Personal Blog', 'Short Story', 'Description of a Thing', 'News Report/Blog', 'Sports Report', 'News Report/Blog', 'Description with Intent to Sell', 'Discussion Forum', 'Personal Blog', 'Sports Report', 'News Report/Blog', 'News Report/Blog', 'Opinion Blog', 'News Report/Blog', 'News Report/Blog', 'News Report/Blog', 'Discussion Forum', 'News Report/Blog', 'Opinion Blog', 'News Report/Blog', 'Opinion Blog', 'Information Blog', 'Religious Blogs/Sermons', 'How-to', 'Question/Answer Forum', 'Discussion Forum', 'Discussion Forum', 'News Report/Blog', 'News Report/Blog', 'Description of a Thing', 'Discussion Forum', 'Description of a Thing', 'Advice', 'News Report/Blog', 'Description of a Thing', 'Description of a Thing', 'News Report/Blog', 'News Report/Blog', 'News Report/Blog', 'Sports Report', 'Description of a Thing', 'Opinion Blog', 'News Report/Blog', 'Interview', 'Personal Blog', 'Sports Report', 'Question/Answer Forum', 'News Report/Blog', 'Religious Blogs/Sermons', 'News Report/Blog', 'Description with Intent to Sell', 'Opinion Blog', 'Description of a Thing', 'How-to', 'Description with Intent to Sell', 'News Report/Blog', 'Sports Report', 'Discussion Forum', 'Description with Intent to Sell', 'Reviews', 'News Report/Blog', 'Description with Intent to Sell', 'Advice', 'Recipe', 'News Report/Blog', 'Opinion Blog', 'News Report/Blog', 'Description of a Thing', 'Description with Intent to Sell', 'Information Blog', 'News Report/Blog', 'Sports Report', 'Sports Report', 'Opinion Blog', 'Sports Report', 'News Report/Blog', 'How-to', 'How-to', 'News Report/Blog', 'Description with Intent to Sell', 'Reviews', 'Description with Intent to Sell', 'Research Article', 'Reviews', 'Opinion Blog', 'How-to', 'Description of a Thing', 'Opinion Blog', 'Personal Blog', 'How-to', 'Opinion Blog', 'News Report/Blog', 'News Report/Blog', 'News Report/Blog', 'Information Blog', 'Religious Blogs/Sermons', 'Opinion Blog', 'Discussion Forum', 'Reviews', 'News Report/Blog', 'Information Blog', 'How-to', 'Sports Report', 'Opinion Blog', 'News Report/Blog', 'Sports Report', 'Personal Blog', 'News Report/Blog', 'News Report/Blog', 'News Report/Blog', 'Discussion Forum', 'Personal Blog', 'News Report/Blog', 'Sports Report', 'Description with Intent to Sell', 'News Report/Blog', 'Information Blog', 'Sports Report', 'Discussion Forum', 'Sports Report', 'News Report/Blog', 'News Report/Blog', 'Description of a Thing', 'News Report/Blog', 'News Report/Blog', 'How-to', 'News Report/Blog', 'Reviews', 'Discussion Forum', 'Opinion Blog', 'News Report/Blog', 'Song Lyrics', 'News Report/Blog', 'Description of a Thing', 'Opinion Blog', 'News Report/Blog', 'Question/Answer Forum', 'Description of a Thing', 'Personal Blog', 'News Report/Blog', 'Description of a Thing', 'Opinion Blog', 'Reviews', 'Personal Blog', 'Encyclopedia Article', 'Description of a Thing', 'News Report/Blog', 'Personal Blog', 'News Report/Blog', 'News Report/Blog', 'Advice', 'Description of a Thing', 'Reviews', 'News Report/Blog', 'Opinion Blog', 'Reviews', 'Sports Report', 'Discussion Forum', 'Description of a Thing', 'Reviews', 'Information Blog', 'Personal Blog', 'Sports Report', 'Information Blog', 'Description of a Thing', 'Reviews', 'How-to', 'News Report/Blog', 'News Report/Blog', 'Historical Article', 'Discussion Forum', 'Description of a Person', 'News Report/Blog', 'Information Blog', 'News Report/Blog', 'Advice', 'Sports Report', 'Description of a Person', 'News Report/Blog', 'Personal Blog', 'Information Blog', 'Description of a Thing', 'Question/Answer Forum', 'Personal Blog', 'Sports Report', 'Interview', 'News Report/Blog', 'Sports Report', 'Opinion Blog', 'News Report/Blog', 'How-to', 'Opinion Blog', 'Short Story', 'Sports Report', 'Advice', 'Reviews', 'News Report/Blog', 'Opinion Blog', 'News Report/Blog', 'Opinion Blog', 'Reviews', 'Opinion Blog', 'Encyclopedia Article', 'Personal Blog', 'News Report/Blog', 'News Report/Blog', 'Description of a Person', 'Description of a Thing', 'News Report/Blog', 'Sports Report', 'News Report/Blog', 'News Report/Blog', 'Description of a Thing', 'Reviews', 'Sports Report', 'News Report/Blog', 'Opinion Blog', 'News Report/Blog', 'Personal Blog', 'News Report/Blog', 'News Report/Blog', 'Discussion Forum', 'Sports Report', 'Sports Report', 'Religious Blogs/Sermons', 'Information Blog', 'Discussion Forum', 'News Report/Blog', 'Information Blog', 'Sports Report', 'News Report/Blog', 'News Report/Blog', 'News Report/Blog', 'How-to', 'News Report/Blog', 'Personal Blog', 'Opinion Blog', 'Description of a Thing', 'Reviews', 'Research Article', 'News Report/Blog', 'Personal Blog', 'Research Article', 'Information Blog', 'News Report/Blog', 'Description of a Thing', 'Sports Report', 'Encyclopedia Article', 'Religious Blogs/Sermons', 'Discussion Forum', 'Description of a Thing', 'Description of a Thing', 'Interview', 'Religious Blogs/Sermons', 'Opinion Blog', 'Encyclopedia Article', 'Description of a Thing', 'News Report/Blog', 'Opinion Blog', 'News Report/Blog', 'Description of a Thing', 'Religious Blogs/Sermons', 'Reviews', 'Opinion Blog', 'Sports Report', 'Sports Report', 'Question/Answer Forum', 'Opinion Blog', 'Opinion Blog', 'News Report/Blog', 'Description of a Thing', 'Religious Blogs/Sermons', 'News Report/Blog', 'Discussion Forum', 'Historical Article', 'Description of a Thing', 'Song Lyrics', 'Advice', 'Opinion Blog', 'Opinion Blog', 'News Report/Blog', 'News Report/Blog', 'News Report/Blog', 'Opinion Blog', 'Personal Blog', 'Interview', 'Description of a Thing', 'Personal Blog', 'Encyclopedia Article', 'Information Blog', 'Information Blog', 'Opinion Blog', 'Description of a Thing', 'Description of a Person', 'Description with Intent to Sell', 'News Report/Blog', 'News Report/Blog', 'News Report/Blog', 'News Report/Blog', 'Description of a Thing', 'Opinion Blog', 'News Report/Blog', 'Description with Intent to Sell', 'Interview', 'Reviews', 'Question/Answer Forum', 'News Report/Blog', 'Information Blog', 'News Report/Blog', 'Description of a Thing', 'FAQ about Information', 'Description of a Person', 'How-to', 'News Report/Blog', 'News Report/Blog', 'News Report/Blog', 'News Report/Blog', 'Personal Blog', 'Description of a Thing', 'Description of a Thing', 'News Report/Blog', 'Advice', 'Advice', 'How-to', 'News Report/Blog', 'Short Story', 'Discussion Forum', 'Personal Blog', 'Description of a Thing', 'Personal Blog', 'News Report/Blog', 'How-to', 'Advice', 'Interview', 'Description of a Thing', 'Information Blog', 'Description of a Thing', 'Advice', 'Information Blog', 'Description of a Thing', 'News Report/Blog', 'News Report/Blog', 'News Report/Blog', 'News Report/Blog', 'News Report/Blog', 'Discussion Forum', 'News Report/Blog', 'Historical Article', 'News Report/Blog', 'Encyclopedia Article', 'Personal Blog', 'Information Blog', 'News Report/Blog', 'Encyclopedia Article', 'News Report/Blog', 'Advice', 'Sports Report', 'Opinion Blog', 'Information Blog', 'Information Blog', 'Reviews', 'How-to', 'How-to', 'Information Blog', 'Reviews', 'Description of a Thing', 'News Report/Blog', 'Sports Report', 'Personal Blog', 'Discussion Forum', 'News Report/Blog', 'How-to', 'Description of a Thing', 'Personal Blog', 'Description with Intent to Sell', 'Description with Intent to Sell', 'Sports Report', 'Information Blog', 'Opinion Blog', 'Description of a Person', 'Reviews', 'News Report/Blog', 'Research Article', 'Reviews', 'Opinion Blog', 'Description of a Thing', 'News Report/Blog', 'News Report/Blog', 'Interview', 'Advice', 'Research Article', 'Opinion Blog', 'Sports Report', 'News Report/Blog', 'Historical Article', 'Description of a Thing', 'Sports Report', 'News Report/Blog', 'News Report/Blog', 'Reviews', 'Historical Article', 'Sports Report', 'How-to', 'Discussion Forum', 'News Report/Blog', 'Opinion Blog', 'News Report/Blog', 'Discussion Forum', 'News Report/Blog', 'News Report/Blog', 'How-to', 'Description of a Thing', 'Description of a Person', 'Description of a Thing', 'Sports Report', 'Interview', 'Description of a Thing', 'Information Blog', 'News Report/Blog', 'Personal Blog', 'Sports Report', 'Question/Answer Forum', 'Short Story', 'News Report/Blog', 'Sports Report', 'Discussion Forum', 'Question/Answer Forum', 'Sports Report', 'Description of a Thing', 'Interview', 'Sports Report', 'News Report/Blog', 'Personal Blog', 'News Report/Blog', 'Description of a Thing', 'Advice', 'Personal Blog', 'Description of a Thing', 'News Report/Blog', 'Religious Blogs/Sermons', 'News Report/Blog', 'News Report/Blog', 'Opinion Blog', 'Discussion Forum', 'Description of a Thing', 'News Report/Blog', 'Question/Answer Forum', 'News Report/Blog', 'Question/Answer Forum', 'News Report/Blog', 'News Report/Blog', 'Research Article', 'Description of a Thing', 'News Report/Blog', 'News Report/Blog', 'Description of a Thing', 'Opinion Blog', 'News Report/Blog', 'Description of a Thing', 'News Report/Blog', 'Recipe', 'News Report/Blog', 'Discussion Forum', 'Description of a Thing', 'News Report/Blog', 'Personal Blog', 'News Report/Blog', 'Reviews', 'News Report/Blog', 'News Report/Blog', 'Advice', 'Reviews', 'Advice', 'News Report/Blog', 'News Report/Blog', 'Personal Blog', 'News Report/Blog', 'Opinion Blog', 'How-to', 'Reviews', 'News Report/Blog', 'News Report/Blog', 'Information Blog', 'Information Blog', 'Short Story', 'Personal Blog', 'Sports Report', 'Opinion Blog', 'Discussion Forum', 'Description of a Thing', 'Description with Intent to Sell', 'Description of a Thing', 'News Report/Blog', 'Question/Answer Forum', 'Description of a Thing', 'Short Story', 'Information Blog', 'News Report/Blog', 'Reviews', 'Information Blog', 'Sports Report', 'How-to', 'Description of a Thing', 'News Report/Blog', 'Religious Blogs/Sermons', 'Discussion Forum', 'Opinion Blog', 'Discussion Forum', 'Description of a Thing', 'News Report/Blog', 'Description with Intent to Sell', 'News Report/Blog', 'FAQ about Information', 'Reviews', 'Personal Blog', 'Sports Report', 'Information Blog', 'Personal Blog', 'Question/Answer Forum', 'Sports Report', 'Advice', 'News Report/Blog', 'How-to', 'Personal Blog', 'Opinion Blog', 'Opinion Blog', 'Sports Report', 'Sports Report', 'News Report/Blog', 'Opinion Blog', 'Description of a Thing', 'Description of a Thing', 'Reviews', 'How-to', 'Reviews', 'Opinion Blog', 'Opinion Blog', 'Opinion Blog', 'Advice', 'News Report/Blog', 'News Report/Blog', 'News Report/Blog', 'Information Blog', 'Personal Blog', 'How-to', 'Personal Blog', 'Question/Answer Forum', 'Song Lyrics', 'News Report/Blog', 'Description of a Person', 'News Report/Blog', 'Description of a Thing', 'Reviews', 'Reviews', 'Description of a Thing', 'Discussion Forum', 'Description of a Person', 'Sports Report', 'Information Blog', 'News Report/Blog', 'Discussion Forum', 'Information Blog', 'Description of a Person', 'News Report/Blog', 'Description of a Thing', 'Opinion Blog', 'Personal Blog', 'Description with Intent to Sell', 'Description of a Thing', 'Sports Report', 'News Report/Blog', 'How-to', 'Description with Intent to Sell', 'News Report/Blog', 'Information Blog', 'News Report/Blog', 'Interview', 'Description of a Thing', 'Opinion Blog', 'Song Lyrics', 'Historical Article', 'Personal Blog', 'Description of a Thing', 'Research Article', 'Discussion Forum', 'Opinion Blog', 'Personal Blog', 'Description of a Thing', 'Information Blog', 'Reviews', 'Description of a Thing', 'News Report/Blog', 'Sports Report', 'Advice', 'Recipe', 'Information Blog', 'News Report/Blog', 'Personal Blog', 'Discussion Forum', 'Opinion Blog', 'News Report/Blog', 'Legal terms', 'News Report/Blog', 'Description of a Person', 'Discussion Forum', 'Discussion Forum', 'Reviews', 'Description with Intent to Sell', 'Description of a Thing', 'Religious Blogs/Sermons', 'News Report/Blog', 'Description of a Thing', 'Recipe', 'Opinion Blog', 'Opinion Blog', 'Personal Blog', 'Interview', 'Question/Answer Forum', 'News Report/Blog', 'Description of a Thing', 'News Report/Blog', 'Description with Intent to Sell', 'Sports Report', 'Description of a Thing', 'How-to', 'Description of a Thing', 'Opinion Blog', 'News Report/Blog', 'Description of a Thing', 'News Report/Blog', 'News Report/Blog', 'News Report/Blog', 'News Report/Blog', 'News Report/Blog', 'Discussion Forum', 'News Report/Blog', 'Sports Report', 'Opinion Blog', 'News Report/Blog', 'Legal terms', 'News Report/Blog', 'Research Article', 'News Report/Blog', 'Description of a Person', 'Sports Report', 'Sports Report', 'News Report/Blog', 'Short Story', 'News Report/Blog', 'Personal Blog', 'Reviews', 'Opinion Blog', 'News Report/Blog', 'Reviews', 'Personal Blog', 'How-to', 'Personal Blog', 'Opinion Blog', 'Opinion Blog', 'Discussion Forum', 'Research Article', 'News Report/Blog', 'News Report/Blog', 'Discussion Forum', 'Description with Intent to Sell', 'Sports Report', 'Opinion Blog', 'Advice', 'News Report/Blog', 'News Report/Blog', 'Information Blog', 'Description of a Thing', 'How-to', 'Sports Report', 'Discussion Forum', 'Description of a Person', 'Research Article', 'News Report/Blog', 'Description of a Thing', 'Sports Report', 'How-to', 'Information Blog', 'Discussion Forum', 'Sports Report', 'Question/Answer Forum', 'News Report/Blog', 'News Report/Blog', 'Description of a Person', 'Sports Report', 'Description of a Thing', 'Personal Blog', 'News Report/Blog', 'News Report/Blog', 'News Report/Blog', 'Discussion Forum', 'Historical Article', 'News Report/Blog', 'Discussion Forum', 'Description of a Thing', 'Sports Report', 'Reviews', 'Advice', 'Opinion Blog', 'Question/Answer Forum', 'News Report/Blog', 'News Report/Blog', 'Personal Blog', 'Description of a Person', 'Description of a Thing', 'News Report/Blog', 'Question/Answer Forum', 'Description of a Person', 'FAQ about Information', 'Song Lyrics', 'How-to', 'Description of a Thing', 'Personal Blog', 'Opinion Blog', 'Discussion Forum', 'Description of a Thing', 'Opinion Blog', 'Sports Report', 'Reviews', 'News Report/Blog', 'News Report/Blog', 'Song Lyrics', 'Discussion Forum', 'Personal Blog', 'Description with Intent to Sell', 'Sports Report', 'Personal Blog', 'Opinion Blog', 'Description of a Thing', 'News Report/Blog', 'Description of a Thing', 'Encyclopedia Article', 'News Report/Blog', 'News Report/Blog', 'Description of a Thing', 'News Report/Blog', 'Discussion Forum', 'Description of a Person', 'Information Blog', 'Opinion Blog', 'Opinion Blog', 'Sports Report', 'News Report/Blog', 'How-to', 'Personal Blog', 'FAQ about Information', 'Discussion Forum', 'Encyclopedia Article', 'Description of a Thing', 'Description with Intent to Sell', 'Information Blog', 'Description with Intent to Sell', 'News Report/Blog', 'Description of a Person', 'Recipe', 'Research Article', 'Information Blog', 'Description of a Thing', 'Question/Answer Forum', 'Question/Answer Forum', 'Sports Report', 'Opinion Blog', 'Discussion Forum', 'Historical Article', 'Research Article', 'Description of a Thing', 'Opinion Blog', 'News Report/Blog', 'Description of a Thing', 'Discussion Forum', 'Reviews', 'Information Blog', 'Religious Blogs/Sermons', 'How-to', 'How-to', 'Discussion Forum', 'News Report/Blog', 'Religious Blogs/Sermons', 'News Report/Blog', 'Opinion Blog', 'News Report/Blog', 'Description of a Thing', 'Opinion Blog', 'News Report/Blog', 'News Report/Blog', 'Research Article', 'Encyclopedia Article', 'News Report/Blog', 'News Report/Blog', 'Sports Report', 'Sports Report', 'News Report/Blog', 'Personal Blog', 'Sports Report', 'Opinion Blog', 'Question/Answer Forum', 'News Report/Blog', 'Information Blog', 'Reviews', 'Song Lyrics', 'Personal Blog', 'News Report/Blog', 'Religious Blogs/Sermons', 'Sports Report', 'News Report/Blog', 'How-to', 'How-to', 'Personal Blog', 'Opinion Blog', 'News Report/Blog', 'Description of a Thing', 'News Report/Blog', 'Description of a Thing', 'Discussion Forum', 'Sports Report', 'Discussion Forum', 'Advice', 'Opinion Blog', 'Discussion Forum', 'Question/Answer Forum', 'Sports Report', 'Personal Blog', 'News Report/Blog', 'Opinion Blog', 'Reviews', 'Personal Blog', 'News Report/Blog', 'Question/Answer Forum', 'Historical Article', 'Encyclopedia Article', 'Description of a Person', 'News Report/Blog', 'News Report/Blog', 'Question/Answer Forum', 'Sports Report', 'News Report/Blog', 'News Report/Blog', 'Song Lyrics', 'Sports Report', 'Advice', 'Research Article', 'Discussion Forum', 'How-to', 'Personal Blog', 'Religious Blogs/Sermons', 'Research Article', 'Question/Answer Forum', 'Research Article', 'News Report/Blog', 'Reviews', 'Discussion Forum', 'Personal Blog', 'News Report/Blog', 'Discussion Forum', 'Advice', 'Recipe', 'Description of a Thing', 'News Report/Blog', 'Opinion Blog', 'Description with Intent to Sell', 'Reviews', 'Description of a Thing', 'Personal Blog', 'Information Blog', 'Sports Report', 'Information Blog', 'Information Blog', 'How-to', 'Opinion Blog', 'Short Story', 'Religious Blogs/Sermons', 'Opinion Blog', 'News Report/Blog', 'News Report/Blog', 'News Report/Blog', 'Description of a Thing', 'Question/Answer Forum', 'Encyclopedia Article', 'News Report/Blog', 'Description with Intent to Sell', 'Description of a Person', 'Personal Blog', 'Opinion Blog', 'News Report/Blog', 'Opinion Blog', 'Research Article', 'Religious Blogs/Sermons', 'Description of a Thing', 'Sports Report', 'Opinion Blog', 'Description of a Thing', 'Encyclopedia Article', 'Personal Blog', 'Discussion Forum', 'Sports Report', 'Advice', 'Information Blog', 'Research Article', 'News Report/Blog', 'Discussion Forum', 'News Report/Blog', 'Discussion Forum', 'News Report/Blog', 'Opinion Blog', 'Recipe', 'Description with Intent to Sell', 'Opinion Blog', 'Description of a Thing', 'News Report/Blog', 'Question/Answer Forum', 'Reviews', 'Discussion Forum', 'News Report/Blog', 'Opinion Blog', 'Description with Intent to Sell', 'Question/Answer Forum', 'News Report/Blog', 'Description of a Thing', 'Advice', 'Advice', 'News Report/Blog', 'News Report/Blog', 'Short Story', 'How-to', 'News Report/Blog', 'News Report/Blog', 'How-to', 'FAQ about Information', 'News Report/Blog', 'Description of a Thing', 'Research Article', 'Description of a Thing', 'News Report/Blog', 'Information Blog', 'Description of a Thing', 'Description with Intent to Sell', 'Description of a Thing', 'Information Blog', 'Sports Report', 'News Report/Blog', 'Opinion Blog', 'Interview', 'Opinion Blog', 'Personal Blog', 'News Report/Blog', 'Description with Intent to Sell', 'News Report/Blog', 'News Report/Blog', 'Information Blog', 'Description of a Thing', 'Advice', 'Information Blog', 'News Report/Blog', 'News Report/Blog', 'Religious Blogs/Sermons', 'Opinion Blog', 'News Report/Blog', 'Advice', 'News Report/Blog', 'Opinion Blog', 'Description of a Thing', 'Description of a Thing', 'How-to', 'Information Blog', 'Personal Blog', 'Recipe', 'News Report/Blog', 'Personal Blog', 'News Report/Blog', 'Description of a Thing', 'Sports Report', 'News Report/Blog', 'Information Blog', 'Information Blog', 'News Report/Blog', 'News Report/Blog', 'Reviews', 'News Report/Blog', 'Song Lyrics', 'Opinion Blog', 'News Report/Blog', 'Question/Answer Forum', 'Advice', 'News Report/Blog', 'Religious Blogs/Sermons', 'How-to', 'Opinion Blog', 'Opinion Blog', 'Discussion Forum', 'News Report/Blog', 'Question/Answer Forum', 'Description of a Thing', 'How-to', 'How-to', 'Research Article', 'Opinion Blog', 'Question/Answer Forum', 'Information Blog', 'Legal terms', 'Description of a Thing', 'News Report/Blog', 'News Report/Blog', 'Information Blog', 'News Report/Blog', 'Personal Blog', 'Personal Blog', 'Description of a Thing', 'Opinion Blog', 'Discussion Forum', 'How-to', 'Reviews', 'News Report/Blog', 'Description with Intent to Sell', 'Discussion Forum', 'News Report/Blog', 'FAQ about Information', 'Song Lyrics', 'Opinion Blog', 'Research Article', 'Sports Report', 'Question/Answer Forum', 'Interview', 'Reviews', 'News Report/Blog', 'How-to', 'News Report/Blog', 'Religious Blogs/Sermons', 'Opinion Blog', 'Description of a Thing', 'Opinion Blog', 'News Report/Blog', 'News Report/Blog', 'Sports Report', 'Religious Blogs/Sermons', 'Encyclopedia Article', 'Sports Report', 'News Report/Blog', 'Opinion Blog', 'Discussion Forum', 'Personal Blog', 'Sports Report', 'Information Blog', 'FAQ about Information', 'News Report/Blog', 'News Report/Blog', 'Reviews', 'Legal terms', 'News Report/Blog', 'Description of a Thing', 'Personal Blog', 'News Report/Blog', 'Description with Intent to Sell', 'Description of a Person', 'Discussion Forum', 'News Report/Blog', 'News Report/Blog', 'Personal Blog', 'Reviews', 'Opinion Blog', 'News Report/Blog', 'News Report/Blog', 'Sports Report', 'Description of a Thing', 'News Report/Blog', 'Opinion Blog', 'How-to', 'News Report/Blog', 'Religious Blogs/Sermons', 'Information Blog', 'Reviews', 'News Report/Blog', 'How-to', 'News Report/Blog', 'Advice', 'News Report/Blog', 'Description with Intent to Sell', 'Personal Blog', 'Sports Report', 'Personal Blog', 'News Report/Blog', 'Discussion Forum', 'Personal Blog', 'Description of a Thing', 'Description of a Thing', 'Encyclopedia Article', 'News Report/Blog', 'News Report/Blog', 'Sports Report', 'Reviews', 'News Report/Blog', 'Sports Report', 'News Report/Blog', 'News Report/Blog', 'News Report/Blog', 'Opinion Blog', 'News Report/Blog', 'Advice', 'Description of a Person', 'News Report/Blog', 'Discussion Forum', 'Sports Report', 'Description of a Thing', 'Opinion Blog', 'News Report/Blog', 'Information Blog', 'Personal Blog', 'Information Blog', 'Opinion Blog', 'Description of a Thing', 'Personal Blog', 'Description of a Thing', 'Description of a Thing', 'Interview', 'Information Blog', 'Personal Blog', 'Personal Blog', 'Opinion Blog', 'News Report/Blog', 'Discussion Forum', 'Religious Blogs/Sermons', 'News Report/Blog', 'Discussion Forum', 'Information Blog', 'Description of a Thing', 'Description of a Thing', 'News Report/Blog', 'Religious Blogs/Sermons', 'News Report/Blog', 'News Report/Blog', 'Reviews', 'Religious Blogs/Sermons', 'Description of a Person', 'News Report/Blog', 'Personal Blog', 'Discussion Forum', 'Personal Blog', 'Song Lyrics', 'Sports Report', 'Sports Report', 'Personal Blog', 'Religious Blogs/Sermons', 'Sports Report', 'News Report/Blog', 'News Report/Blog', 'Personal Blog', 'Opinion Blog', 'Reviews', 'News Report/Blog', 'News Report/Blog', 'Reviews', 'News Report/Blog', 'Sports Report', 'Opinion Blog', 'News Report/Blog', 'News Report/Blog', 'Encyclopedia Article', 'News Report/Blog', 'Song Lyrics', 'Sports Report', 'Discussion Forum', 'Reviews', 'News Report/Blog', 'News Report/Blog', 'Legal terms', 'Song Lyrics', 'Sports Report', 'Reviews', 'Description with Intent to Sell', 'Description of a Thing', 'Reviews', 'Personal Blog', 'Advice', 'Opinion Blog', 'Description of a Thing', 'Description of a Thing', 'Description of a Thing', 'News Report/Blog', 'Information Blog', 'News Report/Blog', 'News Report/Blog', 'News Report/Blog', 'How-to', 'Research Article', 'News Report/Blog', 'Description of a Thing', 'Personal Blog', 'Advice', 'News Report/Blog', 'Discussion Forum', 'Discussion Forum', 'Description with Intent to Sell', 'News Report/Blog', 'News Report/Blog', 'News Report/Blog', 'Personal Blog', 'News Report/Blog', 'Information Blog', 'Discussion Forum', 'News Report/Blog', 'Sports Report', 'How-to', 'Interview', 'Discussion Forum', 'News Report/Blog', 'Personal Blog', 'Reviews', 'Question/Answer Forum', 'Discussion Forum', 'News Report/Blog', 'News Report/Blog', 'How-to', 'Personal Blog', 'News Report/Blog', 'Advice', 'Description of a Thing', 'How-to', 'News Report/Blog', 'News Report/Blog', 'News Report/Blog', 'Research Article', 'Personal Blog', 'Description with Intent to Sell', 'Sports Report', 'Opinion Blog', 'Description with Intent to Sell', 'News Report/Blog', 'Description of a Thing', 'News Report/Blog', 'Research Article', 'Information Blog', 'Research Article', 'Reviews', 'Opinion Blog', 'Religious Blogs/Sermons', 'Interview', 'Description of a Thing', 'Personal Blog', 'Historical Article', 'News Report/Blog', 'Sports Report', 'Sports Report', 'News Report/Blog', 'News Report/Blog', 'Opinion Blog', 'Advice', 'Sports Report', 'News Report/Blog', 'News Report/Blog', 'Song Lyrics', 'News Report/Blog', 'Sports Report', 'Description of a Thing', 'Sports Report', 'News Report/Blog', 'Song Lyrics', 'News Report/Blog', 'Opinion Blog', 'News Report/Blog', 'Information Blog', 'Opinion Blog', 'News Report/Blog', 'Description of a Thing', 'News Report/Blog', 'Opinion Blog', 'Description of a Thing', 'Information Blog', 'Description of a Thing', 'Description of a Thing', 'Description of a Thing', 'Personal Blog', 'Opinion Blog', 'Description with Intent to Sell', 'Opinion Blog', 'Opinion Blog', 'Description of a Thing', 'Sports Report', 'Opinion Blog', 'News Report/Blog', 'Opinion Blog', 'Description with Intent to Sell', 'News Report/Blog', 'News Report/Blog', 'Opinion Blog', 'News Report/Blog', 'Description of a Thing', 'News Report/Blog', 'Song Lyrics', 'Description of a Thing', 'Description of a Thing', 'Opinion Blog', 'Information Blog', 'Religious Blogs/Sermons', 'Sports Report', 'Personal Blog', 'News Report/Blog', 'Reviews', 'Opinion Blog', 'Advice', 'News Report/Blog', 'Information Blog', 'Personal Blog', 'Information Blog', 'Description of a Person', 'Research Article', 'Opinion Blog', 'Opinion Blog'])"
      ]
     },
     "execution_count": 47,
     "metadata": {},
     "output_type": "execute_result"
    }
   ],
   "source": [
    "list(core_pred[\"y_pred\"].to_list()[0].values()=ore_pred[\"y_pred\"].to_list()[0].values()"
   ]
  },
  {
   "cell_type": "code",
   "execution_count": 50,
   "metadata": {},
   "outputs": [
    {
     "data": {
      "text/html": [
       "<div>\n",
       "<style scoped>\n",
       "    .dataframe tbody tr th:only-of-type {\n",
       "        vertical-align: middle;\n",
       "    }\n",
       "\n",
       "    .dataframe tbody tr th {\n",
       "        vertical-align: top;\n",
       "    }\n",
       "\n",
       "    .dataframe thead th {\n",
       "        text-align: right;\n",
       "    }\n",
       "</style>\n",
       "<table border=\"1\" class=\"dataframe\">\n",
       "  <thead>\n",
       "    <tr style=\"text-align: right;\">\n",
       "      <th></th>\n",
       "      <th>y_true</th>\n",
       "      <th>y_pred</th>\n",
       "    </tr>\n",
       "  </thead>\n",
       "  <tbody>\n",
       "    <tr>\n",
       "      <th>0</th>\n",
       "      <td>Personal Blog</td>\n",
       "      <td>Opinion Blog</td>\n",
       "    </tr>\n",
       "    <tr>\n",
       "      <th>1</th>\n",
       "      <td>Opinion Blog</td>\n",
       "      <td>Sports Report</td>\n",
       "    </tr>\n",
       "    <tr>\n",
       "      <th>2</th>\n",
       "      <td>News Report/Blog</td>\n",
       "      <td>News Report/Blog</td>\n",
       "    </tr>\n",
       "    <tr>\n",
       "      <th>3</th>\n",
       "      <td>Sports Report</td>\n",
       "      <td>Sports Report</td>\n",
       "    </tr>\n",
       "    <tr>\n",
       "      <th>4</th>\n",
       "      <td>Information Blog</td>\n",
       "      <td>Description of a Thing</td>\n",
       "    </tr>\n",
       "    <tr>\n",
       "      <th>...</th>\n",
       "      <td>...</td>\n",
       "      <td>...</td>\n",
       "    </tr>\n",
       "    <tr>\n",
       "      <th>3174</th>\n",
       "      <td>Advice</td>\n",
       "      <td>Information Blog</td>\n",
       "    </tr>\n",
       "    <tr>\n",
       "      <th>3175</th>\n",
       "      <td>News Report/Blog</td>\n",
       "      <td>Description of a Person</td>\n",
       "    </tr>\n",
       "    <tr>\n",
       "      <th>3176</th>\n",
       "      <td>Research Article</td>\n",
       "      <td>Research Article</td>\n",
       "    </tr>\n",
       "    <tr>\n",
       "      <th>3177</th>\n",
       "      <td>Opinion Blog</td>\n",
       "      <td>Opinion Blog</td>\n",
       "    </tr>\n",
       "    <tr>\n",
       "      <th>3178</th>\n",
       "      <td>Personal Blog</td>\n",
       "      <td>Opinion Blog</td>\n",
       "    </tr>\n",
       "  </tbody>\n",
       "</table>\n",
       "<p>3179 rows × 2 columns</p>\n",
       "</div>"
      ],
      "text/plain": [
       "                y_true                   y_pred\n",
       "0        Personal Blog             Opinion Blog\n",
       "1         Opinion Blog            Sports Report\n",
       "2     News Report/Blog         News Report/Blog\n",
       "3        Sports Report            Sports Report\n",
       "4     Information Blog   Description of a Thing\n",
       "...                ...                      ...\n",
       "3174            Advice         Information Blog\n",
       "3175  News Report/Blog  Description of a Person\n",
       "3176  Research Article         Research Article\n",
       "3177      Opinion Blog             Opinion Blog\n",
       "3178     Personal Blog             Opinion Blog\n",
       "\n",
       "[3179 rows x 2 columns]"
      ]
     },
     "execution_count": 50,
     "metadata": {},
     "output_type": "execute_result"
    }
   ],
   "source": [
    "core_pred_df = pd.DataFrame({\"y_true\": list(core_pred[\"y_true\"].to_list()[0].values()), \"y_pred\": list(core_pred[\"y_pred\"].to_list()[0].values())})\n",
    "\n",
    "core_pred_df"
   ]
  },
  {
   "cell_type": "code",
   "execution_count": 52,
   "metadata": {},
   "outputs": [
    {
     "data": {
      "text/plain": [
       "News                       1066\n",
       "discarded                   890\n",
       "Opinion/Argumentation       718\n",
       "Forum                       156\n",
       "Instruction                 123\n",
       "Information/Explanation     108\n",
       "Prose/Lyrical                66\n",
       "Other                        37\n",
       "Legal                        15\n",
       "Name: labels_to-X-GENRE, dtype: int64"
      ]
     },
     "execution_count": 52,
     "metadata": {},
     "output_type": "execute_result"
    }
   ],
   "source": [
    "# Map the labels\n",
    "core_pred_df[\"labels_to-X-GENRE\"] = core_pred_df[\"y_true\"].map(map_CORE).fillna(\"check\")\n",
    "\n",
    "core_pred_df[\"labels_to-X-GENRE\"].value_counts()"
   ]
  },
  {
   "cell_type": "code",
   "execution_count": 53,
   "metadata": {},
   "outputs": [
    {
     "data": {
      "text/html": [
       "<div>\n",
       "<style scoped>\n",
       "    .dataframe tbody tr th:only-of-type {\n",
       "        vertical-align: middle;\n",
       "    }\n",
       "\n",
       "    .dataframe tbody tr th {\n",
       "        vertical-align: top;\n",
       "    }\n",
       "\n",
       "    .dataframe thead th {\n",
       "        text-align: right;\n",
       "    }\n",
       "</style>\n",
       "<table border=\"1\" class=\"dataframe\">\n",
       "  <thead>\n",
       "    <tr style=\"text-align: right;\">\n",
       "      <th></th>\n",
       "      <th>y_true</th>\n",
       "      <th>y_pred</th>\n",
       "      <th>labels_to-X-GENRE</th>\n",
       "    </tr>\n",
       "  </thead>\n",
       "  <tbody>\n",
       "    <tr>\n",
       "      <th>count</th>\n",
       "      <td>2289</td>\n",
       "      <td>2289</td>\n",
       "      <td>2289</td>\n",
       "    </tr>\n",
       "    <tr>\n",
       "      <th>unique</th>\n",
       "      <td>19</td>\n",
       "      <td>23</td>\n",
       "      <td>8</td>\n",
       "    </tr>\n",
       "    <tr>\n",
       "      <th>top</th>\n",
       "      <td>News Report/Blog</td>\n",
       "      <td>News Report/Blog</td>\n",
       "      <td>News</td>\n",
       "    </tr>\n",
       "    <tr>\n",
       "      <th>freq</th>\n",
       "      <td>840</td>\n",
       "      <td>794</td>\n",
       "      <td>1066</td>\n",
       "    </tr>\n",
       "  </tbody>\n",
       "</table>\n",
       "</div>"
      ],
      "text/plain": [
       "                  y_true            y_pred labels_to-X-GENRE\n",
       "count               2289              2289              2289\n",
       "unique                19                23                 8\n",
       "top     News Report/Blog  News Report/Blog              News\n",
       "freq                 840               794              1066"
      ]
     },
     "execution_count": 53,
     "metadata": {},
     "output_type": "execute_result"
    }
   ],
   "source": [
    "# Discard texts with \"discarded\" labels\n",
    "core_pred_df = core_pred_df[core_pred_df[\"labels_to-X-GENRE\"] != \"discarded\"]\n",
    "\n",
    "core_pred_df.describe()"
   ]
  },
  {
   "cell_type": "code",
   "execution_count": 54,
   "metadata": {},
   "outputs": [
    {
     "name": "stderr",
     "output_type": "stream",
     "text": [
      "C:\\Users\\TajaK\\AppData\\Local\\Temp\\ipykernel_13596\\1479538369.py:2: SettingWithCopyWarning: \n",
      "A value is trying to be set on a copy of a slice from a DataFrame.\n",
      "Try using .loc[row_indexer,col_indexer] = value instead\n",
      "\n",
      "See the caveats in the documentation: https://pandas.pydata.org/pandas-docs/stable/user_guide/indexing.html#returning-a-view-versus-a-copy\n",
      "  core_pred_df[\"y_pred_to-X-GENRE\"] = core_pred_df[\"y_pred\"].map(map_CORE).fillna(\"check\")\n"
     ]
    },
    {
     "data": {
      "text/plain": [
       "News                       1023\n",
       "Opinion/Argumentation       590\n",
       "discarded                   241\n",
       "Forum                       137\n",
       "Instruction                 109\n",
       "Information/Explanation      83\n",
       "Prose/Lyrical                60\n",
       "Other                        34\n",
       "Legal                        12\n",
       "Name: y_pred_to-X-GENRE, dtype: int64"
      ]
     },
     "execution_count": 54,
     "metadata": {},
     "output_type": "execute_result"
    }
   ],
   "source": [
    "# Map the predicted labels as well\n",
    "core_pred_df[\"y_pred_to-X-GENRE\"] = core_pred_df[\"y_pred\"].map(map_CORE).fillna(\"check\")\n",
    "\n",
    "core_pred_df[\"y_pred_to-X-GENRE\"].value_counts()"
   ]
  },
  {
   "cell_type": "code",
   "execution_count": 55,
   "metadata": {},
   "outputs": [
    {
     "data": {
      "text/html": [
       "<div>\n",
       "<style scoped>\n",
       "    .dataframe tbody tr th:only-of-type {\n",
       "        vertical-align: middle;\n",
       "    }\n",
       "\n",
       "    .dataframe tbody tr th {\n",
       "        vertical-align: top;\n",
       "    }\n",
       "\n",
       "    .dataframe thead th {\n",
       "        text-align: right;\n",
       "    }\n",
       "</style>\n",
       "<table border=\"1\" class=\"dataframe\">\n",
       "  <thead>\n",
       "    <tr style=\"text-align: right;\">\n",
       "      <th></th>\n",
       "      <th>y_true</th>\n",
       "      <th>y_pred</th>\n",
       "      <th>labels_to-X-GENRE</th>\n",
       "      <th>y_pred_to-X-GENRE</th>\n",
       "    </tr>\n",
       "  </thead>\n",
       "  <tbody>\n",
       "    <tr>\n",
       "      <th>count</th>\n",
       "      <td>2048</td>\n",
       "      <td>2048</td>\n",
       "      <td>2048</td>\n",
       "      <td>2048</td>\n",
       "    </tr>\n",
       "    <tr>\n",
       "      <th>unique</th>\n",
       "      <td>19</td>\n",
       "      <td>14</td>\n",
       "      <td>8</td>\n",
       "      <td>8</td>\n",
       "    </tr>\n",
       "    <tr>\n",
       "      <th>top</th>\n",
       "      <td>News Report/Blog</td>\n",
       "      <td>News Report/Blog</td>\n",
       "      <td>News</td>\n",
       "      <td>News</td>\n",
       "    </tr>\n",
       "    <tr>\n",
       "      <th>freq</th>\n",
       "      <td>783</td>\n",
       "      <td>794</td>\n",
       "      <td>1004</td>\n",
       "      <td>1023</td>\n",
       "    </tr>\n",
       "  </tbody>\n",
       "</table>\n",
       "</div>"
      ],
      "text/plain": [
       "                  y_true            y_pred labels_to-X-GENRE y_pred_to-X-GENRE\n",
       "count               2048              2048              2048              2048\n",
       "unique                19                14                 8                 8\n",
       "top     News Report/Blog  News Report/Blog              News              News\n",
       "freq                 783               794              1004              1023"
      ]
     },
     "execution_count": 55,
     "metadata": {},
     "output_type": "execute_result"
    }
   ],
   "source": [
    "# Discard texts with \"discarded\" labels\n",
    "core_pred_df = core_pred_df[core_pred_df[\"y_pred_to-X-GENRE\"] != \"discarded\"]\n",
    "\n",
    "core_pred_df.describe()"
   ]
  },
  {
   "cell_type": "code",
   "execution_count": 56,
   "metadata": {},
   "outputs": [
    {
     "data": {
      "text/plain": [
       "1131"
      ]
     },
     "execution_count": 56,
     "metadata": {},
     "output_type": "execute_result"
    }
   ],
   "source": [
    "3179-2048"
   ]
  },
  {
   "cell_type": "markdown",
   "metadata": {},
   "source": [
    "Analysis of prediction results of the CORE-sub classifier on 2048 texts from the test split. 1131 texts were not included, because they belong to the discarded categories."
   ]
  },
  {
   "cell_type": "code",
   "execution_count": 57,
   "metadata": {},
   "outputs": [
    {
     "data": {
      "text/plain": [
       "['Opinion/Argumentation',\n",
       " 'News',\n",
       " 'Forum',\n",
       " 'Instruction',\n",
       " 'Information/Explanation',\n",
       " 'Legal',\n",
       " 'Prose/Lyrical',\n",
       " 'Other']"
      ]
     },
     "execution_count": 57,
     "metadata": {},
     "output_type": "execute_result"
    }
   ],
   "source": [
    "LABELS = list(core_pred_df[\"labels_to-X-GENRE\"].unique())\n",
    "LABELS"
   ]
  },
  {
   "cell_type": "code",
   "execution_count": 58,
   "metadata": {},
   "outputs": [
    {
     "name": "stdout",
     "output_type": "stream",
     "text": [
      "Macro f1: 0.86, Micro f1: 0.867\n"
     ]
    },
    {
     "data": {
      "image/png": "[encoded data removed]",
      "text/plain": [
       "<Figure size 648x648 with 1 Axes>"
      ]
     },
     "metadata": {
      "needs_background": "light"
     },
     "output_type": "display_data"
    },
    {
     "data": {
      "text/plain": [
       "<Figure size 432x288 with 0 Axes>"
      ]
     },
     "metadata": {},
     "output_type": "display_data"
    }
   ],
   "source": [
    "y_true = list(core_pred_df[\"labels_to-X-GENRE\"])\n",
    "y_pred = list(core_pred_df[\"y_pred_to-X-GENRE\"])\n",
    "\n",
    "macro = f1_score(y_true, y_pred, labels=LABELS, average=\"macro\")\n",
    "micro = f1_score(y_true, y_pred, labels=LABELS,  average=\"micro\")\n",
    "print(f\"Macro f1: {macro:0.3}, Micro f1: {micro:0.3}\")\n",
    "\n",
    "# Plot the confusion matrix:\n",
    "cm = confusion_matrix(y_true, y_pred, labels=LABELS)\n",
    "plt.figure(figsize=(9, 9))\n",
    "plt.imshow(cm, cmap=\"Oranges\")\n",
    "for (i, j), z in np.ndenumerate(cm):\n",
    "    plt.text(j, i, '{:d}'.format(z), ha='center', va='center')\n",
    "classNames = LABELS\n",
    "plt.ylabel('True label')\n",
    "plt.xlabel('Predicted label')\n",
    "tick_marks = np.arange(len(classNames))\n",
    "plt.xticks(tick_marks, classNames, rotation=90)\n",
    "plt.yticks(tick_marks, classNames)\n",
    "\n",
    "plt.tight_layout()\n",
    "fig1 = plt.gcf()\n",
    "plt.show()\n",
    "plt.draw()"
   ]
  }
 ],
 "metadata": {
  "kernelspec": {
   "display_name": "Python 3.10.2 64-bit",
   "language": "python",
   "name": "python3"
  },
  "language_info": {
   "codemirror_mode": {
    "name": "ipython",
    "version": 3
   },
   "file_extension": ".py",
   "mimetype": "text/x-python",
   "name": "python",
   "nbconvert_exporter": "python",
   "pygments_lexer": "ipython3",
   "version": "3.10.2"
  },
  "orig_nbformat": 4,
  "vscode": {
   "interpreter": {
    "hash": "4054637ba3b142bc5aa565ef637e29d85952330aa10ad5bd25955ba00ae91bfa"
   }
  }
 },
 "nbformat": 4,
 "nbformat_minor": 2
}
