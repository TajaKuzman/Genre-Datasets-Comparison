{
 "cells": [
  {
   "attachments": {},
   "cell_type": "markdown",
   "metadata": {},
   "source": [
    "Here, we prepare a sample from MaCoCu-sl, on which we use the genre classifiers. To prepare the sample, we first need to discard all texts with text length smaller than 75 - I created a dictionary of all domains and urls of texts that are long enough. Then we want to extract 10 texts from each of the domains to which I've assigned genres during the manual checkup."
   ]
  },
  {
   "cell_type": "code",
   "execution_count": 1,
   "metadata": {},
   "outputs": [],
   "source": [
    "import gzip\n",
    "import wget\n",
    "import regex as re\n",
    "import pandas as pd\n",
    "import numpy as np\n",
    "import json\n",
    "import random\n",
    "from tqdm import tqdm"
   ]
  },
  {
   "cell_type": "code",
   "execution_count": 2,
   "metadata": {},
   "outputs": [],
   "source": [
    "# Compile regex for url and domain\n",
    "url_re = re.compile('url=\"(.*?)\"')\n",
    "domain_re = re.compile('domain=\"(.*?)\"')"
   ]
  },
  {
   "cell_type": "markdown",
   "metadata": {},
   "source": [
    "## Download and open the XLM file"
   ]
  },
  {
   "cell_type": "code",
   "execution_count": 3,
   "metadata": {},
   "outputs": [
    {
     "name": "stdout",
     "output_type": "stream",
     "text": [
      "Downloading Completed\n"
     ]
    }
   ],
   "source": [
    "# Download the corpus\n",
    "# Download the file\n",
    "\n",
    "#Defining the zip file URL\n",
    "url = \"https://www.clarin.si/repository/xmlui/bitstream/handle/11356/1517/MaCoCu-sl.xml.gz\"\n",
    "\n",
    "# Downloading the file by sending the request to the URL\n",
    "corpus_file = wget.download(url)\n",
    "print('Downloading Completed')"
   ]
  },
  {
   "cell_type": "code",
   "execution_count": 3,
   "metadata": {},
   "outputs": [],
   "source": [
    "file = gzip.open('MaCoCu-sl.xml.gz', 'rt', encoding='utf-8')"
   ]
  },
  {
   "cell_type": "markdown",
   "metadata": {},
   "source": [
    "## Create a dataframe with the most frequent domains and a sample of 10 URLs from each domain"
   ]
  },
  {
   "cell_type": "code",
   "execution_count": 6,
   "metadata": {},
   "outputs": [
    {
     "data": {
      "text/html": [
       "<div>\n",
       "<style scoped>\n",
       "    .dataframe tbody tr th:only-of-type {\n",
       "        vertical-align: middle;\n",
       "    }\n",
       "\n",
       "    .dataframe tbody tr th {\n",
       "        vertical-align: top;\n",
       "    }\n",
       "\n",
       "    .dataframe thead th {\n",
       "        text-align: right;\n",
       "    }\n",
       "</style>\n",
       "<table border=\"1\" class=\"dataframe\">\n",
       "  <thead>\n",
       "    <tr style=\"text-align: right;\">\n",
       "      <th></th>\n",
       "      <th>Web domain</th>\n",
       "      <th>Genre</th>\n",
       "    </tr>\n",
       "  </thead>\n",
       "  <tbody>\n",
       "    <tr>\n",
       "      <th>0</th>\n",
       "      <td>sodnapraksa.si</td>\n",
       "      <td>legal/regulation</td>\n",
       "    </tr>\n",
       "    <tr>\n",
       "      <th>1</th>\n",
       "      <td>dkom.si</td>\n",
       "      <td>legal/regulation</td>\n",
       "    </tr>\n",
       "  </tbody>\n",
       "</table>\n",
       "</div>"
      ],
      "text/plain": [
       "       Web domain             Genre\n",
       "0  sodnapraksa.si  legal/regulation\n",
       "1         dkom.si  legal/regulation"
      ]
     },
     "execution_count": 6,
     "metadata": {},
     "output_type": "execute_result"
    }
   ],
   "source": [
    "# Get a list of domains you are interested in\n",
    "manual_an_df = pd.read_csv(\"genres-in-Slovene-domains.csv\")\n",
    "manual_an_df.head(2)"
   ]
  },
  {
   "cell_type": "code",
   "execution_count": 9,
   "metadata": {},
   "outputs": [
    {
     "name": "stdout",
     "output_type": "stream",
     "text": [
      "301\n"
     ]
    },
    {
     "data": {
      "text/plain": [
       "['sodnapraksa.si', 'dkom.si', 'uradni-list.si']"
      ]
     },
     "execution_count": 9,
     "metadata": {},
     "output_type": "execute_result"
    }
   ],
   "source": [
    "annotated_domains = list(manual_an_df[\"Web domain\"].unique())\n",
    "print(len(annotated_domains))\n",
    "annotated_domains[:3]"
   ]
  },
  {
   "attachments": {},
   "cell_type": "markdown",
   "metadata": {},
   "source": [
    "First, get a list of all domains from the annotated_domains list and urls of texts that have are more than 75 words long."
   ]
  },
  {
   "cell_type": "code",
   "execution_count": 10,
   "metadata": {},
   "outputs": [
    {
     "name": "stderr",
     "output_type": "stream",
     "text": [
      "151967742it [06:43, 376199.72it/s]\n"
     ]
    }
   ],
   "source": [
    "text_counter = 0\n",
    "\n",
    "texts = []\n",
    "\n",
    "for line in tqdm(file):\n",
    "\tif line.startswith(\"<doc\"):\n",
    "\t\tcurrent_text = []\n",
    "\t\tpure_text = \"\"\n",
    "\t\ttext_length = 0\n",
    "\t\tcurrent_url = \"\"\n",
    "\t\tcurrent_domain = \"\"\n",
    "\t\tcurrent_url = url_re.search(line).group(1)\n",
    "\t\tcurrent_domain = domain_re.search(line).group(1)\n",
    "\telif line.startswith(\"<p\"):\n",
    "\t\tcontinue\n",
    "\telif line.startswith(\"</p\"):\n",
    "\t\tcontinue\n",
    "\telif line.startswith(\"</doc\"):\n",
    "\t\tif current_domain in annotated_domains:\n",
    "\t\t\ttext_length = len(pure_text.split())\n",
    "\t\t\tif text_length > 75:\n",
    "\t\t\t\tcurrent_text = [current_domain, current_url]\n",
    "\t\t\t\ttexts.append(current_text)\n",
    "\t\t\t\ttext_counter += 1\n",
    "\telif line.startswith(\"<corpus\"):\n",
    "\t\tcontinue\n",
    "\telif line.startswith(\"</corpus\"):\n",
    "\t\tcontinue\n",
    "\telse:\n",
    "\t\tpure_text += line"
   ]
  },
  {
   "cell_type": "code",
   "execution_count": 11,
   "metadata": {},
   "outputs": [
    {
     "data": {
      "text/html": [
       "<div>\n",
       "<style scoped>\n",
       "    .dataframe tbody tr th:only-of-type {\n",
       "        vertical-align: middle;\n",
       "    }\n",
       "\n",
       "    .dataframe tbody tr th {\n",
       "        vertical-align: top;\n",
       "    }\n",
       "\n",
       "    .dataframe thead th {\n",
       "        text-align: right;\n",
       "    }\n",
       "</style>\n",
       "<table border=\"1\" class=\"dataframe\">\n",
       "  <thead>\n",
       "    <tr style=\"text-align: right;\">\n",
       "      <th></th>\n",
       "      <th>domain</th>\n",
       "      <th>url</th>\n",
       "    </tr>\n",
       "  </thead>\n",
       "  <tbody>\n",
       "    <tr>\n",
       "      <th>0</th>\n",
       "      <td>bal.si</td>\n",
       "      <td>https://bal.si/</td>\n",
       "    </tr>\n",
       "    <tr>\n",
       "      <th>1</th>\n",
       "      <td>e30.si</td>\n",
       "      <td>https://e30.si/</td>\n",
       "    </tr>\n",
       "    <tr>\n",
       "      <th>2</th>\n",
       "      <td>rsg.si</td>\n",
       "      <td>https://www.rsg.si/</td>\n",
       "    </tr>\n",
       "    <tr>\n",
       "      <th>3</th>\n",
       "      <td>vsi.si</td>\n",
       "      <td>https://www.vsi.si/</td>\n",
       "    </tr>\n",
       "    <tr>\n",
       "      <th>4</th>\n",
       "      <td>sta.si</td>\n",
       "      <td>https://www.sta.si/</td>\n",
       "    </tr>\n",
       "  </tbody>\n",
       "</table>\n",
       "</div>"
      ],
      "text/plain": [
       "   domain                  url\n",
       "0  bal.si      https://bal.si/\n",
       "1  e30.si      https://e30.si/\n",
       "2  rsg.si  https://www.rsg.si/\n",
       "3  vsi.si  https://www.vsi.si/\n",
       "4  sta.si  https://www.sta.si/"
      ]
     },
     "execution_count": 11,
     "metadata": {},
     "output_type": "execute_result"
    }
   ],
   "source": [
    "# Create a dataframe\n",
    "df = pd.DataFrame({\"domain\": [x[0] for x in texts], \"url\": [x[1] for x in texts]})\n",
    "\n",
    "df.head()"
   ]
  },
  {
   "cell_type": "code",
   "execution_count": 12,
   "metadata": {},
   "outputs": [
    {
     "data": {
      "text/html": [
       "<div>\n",
       "<style scoped>\n",
       "    .dataframe tbody tr th:only-of-type {\n",
       "        vertical-align: middle;\n",
       "    }\n",
       "\n",
       "    .dataframe tbody tr th {\n",
       "        vertical-align: top;\n",
       "    }\n",
       "\n",
       "    .dataframe thead th {\n",
       "        text-align: right;\n",
       "    }\n",
       "</style>\n",
       "<table border=\"1\" class=\"dataframe\">\n",
       "  <thead>\n",
       "    <tr style=\"text-align: right;\">\n",
       "      <th></th>\n",
       "      <th>domain</th>\n",
       "      <th>url</th>\n",
       "    </tr>\n",
       "  </thead>\n",
       "  <tbody>\n",
       "    <tr>\n",
       "      <th>count</th>\n",
       "      <td>1261519</td>\n",
       "      <td>1261519</td>\n",
       "    </tr>\n",
       "    <tr>\n",
       "      <th>unique</th>\n",
       "      <td>300</td>\n",
       "      <td>1258301</td>\n",
       "    </tr>\n",
       "    <tr>\n",
       "      <th>top</th>\n",
       "      <td>rtvslo.si</td>\n",
       "      <td>https://www.rtvslo.si/sport</td>\n",
       "    </tr>\n",
       "    <tr>\n",
       "      <th>freq</th>\n",
       "      <td>39012</td>\n",
       "      <td>8</td>\n",
       "    </tr>\n",
       "  </tbody>\n",
       "</table>\n",
       "</div>"
      ],
      "text/plain": [
       "           domain                          url\n",
       "count     1261519                      1261519\n",
       "unique        300                      1258301\n",
       "top     rtvslo.si  https://www.rtvslo.si/sport\n",
       "freq        39012                            8"
      ]
     },
     "execution_count": 12,
     "metadata": {},
     "output_type": "execute_result"
    }
   ],
   "source": [
    "df.describe(include=\"all\")"
   ]
  },
  {
   "cell_type": "markdown",
   "metadata": {},
   "source": [
    "We got 3,779,253 texts in 49,096 domains."
   ]
  },
  {
   "cell_type": "code",
   "execution_count": 13,
   "metadata": {},
   "outputs": [
    {
     "data": {
      "text/html": [
       "<div>\n",
       "<style scoped>\n",
       "    .dataframe tbody tr th:only-of-type {\n",
       "        vertical-align: middle;\n",
       "    }\n",
       "\n",
       "    .dataframe tbody tr th {\n",
       "        vertical-align: top;\n",
       "    }\n",
       "\n",
       "    .dataframe thead th {\n",
       "        text-align: right;\n",
       "    }\n",
       "</style>\n",
       "<table border=\"1\" class=\"dataframe\">\n",
       "  <thead>\n",
       "    <tr style=\"text-align: right;\">\n",
       "      <th></th>\n",
       "      <th>domain</th>\n",
       "      <th>frequency</th>\n",
       "    </tr>\n",
       "  </thead>\n",
       "  <tbody>\n",
       "    <tr>\n",
       "      <th>0</th>\n",
       "      <td>rtvslo.si</td>\n",
       "      <td>39012</td>\n",
       "    </tr>\n",
       "    <tr>\n",
       "      <th>1</th>\n",
       "      <td>regionalobala.si</td>\n",
       "      <td>35803</td>\n",
       "    </tr>\n",
       "    <tr>\n",
       "      <th>2</th>\n",
       "      <td>primorske.si</td>\n",
       "      <td>31999</td>\n",
       "    </tr>\n",
       "    <tr>\n",
       "      <th>3</th>\n",
       "      <td>zurnal24.si</td>\n",
       "      <td>29880</td>\n",
       "    </tr>\n",
       "    <tr>\n",
       "      <th>4</th>\n",
       "      <td>1zavse.si</td>\n",
       "      <td>28335</td>\n",
       "    </tr>\n",
       "    <tr>\n",
       "      <th>...</th>\n",
       "      <td>...</td>\n",
       "      <td>...</td>\n",
       "    </tr>\n",
       "    <tr>\n",
       "      <th>295</th>\n",
       "      <td>adrialog.com</td>\n",
       "      <td>113</td>\n",
       "    </tr>\n",
       "    <tr>\n",
       "      <th>296</th>\n",
       "      <td>bal.si</td>\n",
       "      <td>110</td>\n",
       "    </tr>\n",
       "    <tr>\n",
       "      <th>297</th>\n",
       "      <td>dom24.si</td>\n",
       "      <td>87</td>\n",
       "    </tr>\n",
       "    <tr>\n",
       "      <th>298</th>\n",
       "      <td>murjeplovec.mojforum.si</td>\n",
       "      <td>78</td>\n",
       "    </tr>\n",
       "    <tr>\n",
       "      <th>299</th>\n",
       "      <td>vsipopusti.si</td>\n",
       "      <td>24</td>\n",
       "    </tr>\n",
       "  </tbody>\n",
       "</table>\n",
       "<p>300 rows × 2 columns</p>\n",
       "</div>"
      ],
      "text/plain": [
       "                      domain  frequency\n",
       "0                  rtvslo.si      39012\n",
       "1           regionalobala.si      35803\n",
       "2               primorske.si      31999\n",
       "3                zurnal24.si      29880\n",
       "4                  1zavse.si      28335\n",
       "..                       ...        ...\n",
       "295             adrialog.com        113\n",
       "296                   bal.si        110\n",
       "297                 dom24.si         87\n",
       "298  murjeplovec.mojforum.si         78\n",
       "299            vsipopusti.si         24\n",
       "\n",
       "[300 rows x 2 columns]"
      ]
     },
     "execution_count": 13,
     "metadata": {},
     "output_type": "execute_result"
    }
   ],
   "source": [
    "# Calculate domain distribution\n",
    "domain_distribution = pd.DataFrame({\"domain\": list(df.domain.value_counts().to_dict().keys()), \"frequency\":list(df.domain.value_counts().to_dict().values())})\n",
    "domain_distribution"
   ]
  },
  {
   "cell_type": "code",
   "execution_count": 14,
   "metadata": {},
   "outputs": [
    {
     "data": {
      "text/plain": [
       "(300, 2)"
      ]
     },
     "execution_count": 14,
     "metadata": {},
     "output_type": "execute_result"
    }
   ],
   "source": [
    "# Discard instances with frequency less than 10\n",
    "domain_distribution = domain_distribution[domain_distribution[\"frequency\"] > 9]\n",
    "\n",
    "domain_distribution.shape"
   ]
  },
  {
   "cell_type": "code",
   "execution_count": 19,
   "metadata": {},
   "outputs": [
    {
     "data": {
      "text/html": [
       "<div>\n",
       "<style scoped>\n",
       "    .dataframe tbody tr th:only-of-type {\n",
       "        vertical-align: middle;\n",
       "    }\n",
       "\n",
       "    .dataframe tbody tr th {\n",
       "        vertical-align: top;\n",
       "    }\n",
       "\n",
       "    .dataframe thead th {\n",
       "        text-align: right;\n",
       "    }\n",
       "</style>\n",
       "<table border=\"1\" class=\"dataframe\">\n",
       "  <thead>\n",
       "    <tr style=\"text-align: right;\">\n",
       "      <th></th>\n",
       "      <th>domain</th>\n",
       "      <th>url</th>\n",
       "    </tr>\n",
       "  </thead>\n",
       "  <tbody>\n",
       "    <tr>\n",
       "      <th>1213635</th>\n",
       "      <td>sodnapraksa.si</td>\n",
       "      <td>http://sodnapraksa.si/?q=285%20&amp;amp;database%5...</td>\n",
       "    </tr>\n",
       "    <tr>\n",
       "      <th>1259525</th>\n",
       "      <td>sodnapraksa.si</td>\n",
       "      <td>http://sodnapraksa.si/?q=podatki%20iz%20uradni...</td>\n",
       "    </tr>\n",
       "    <tr>\n",
       "      <th>1242556</th>\n",
       "      <td>sodnapraksa.si</td>\n",
       "      <td>http://www.sodnapraksa.si/?q=Odpoved%20pravici...</td>\n",
       "    </tr>\n",
       "    <tr>\n",
       "      <th>1209561</th>\n",
       "      <td>sodnapraksa.si</td>\n",
       "      <td>http://www.sodnapraksa.si/search.php?q=G35/12&amp;...</td>\n",
       "    </tr>\n",
       "    <tr>\n",
       "      <th>1211501</th>\n",
       "      <td>sodnapraksa.si</td>\n",
       "      <td>http://www.sodnapraksa.si/search.php?q=G35/12&amp;...</td>\n",
       "    </tr>\n",
       "    <tr>\n",
       "      <th>1256542</th>\n",
       "      <td>sodnapraksa.si</td>\n",
       "      <td>http://www.sodnapraksa.si/?q=sklep%20G%2034/20...</td>\n",
       "    </tr>\n",
       "    <tr>\n",
       "      <th>1215644</th>\n",
       "      <td>sodnapraksa.si</td>\n",
       "      <td>http://www.sodnapraksa.si/?q=id:20150811114380...</td>\n",
       "    </tr>\n",
       "    <tr>\n",
       "      <th>1216726</th>\n",
       "      <td>sodnapraksa.si</td>\n",
       "      <td>http://www.sodnapraksa.si/?q=id:20150811114470...</td>\n",
       "    </tr>\n",
       "    <tr>\n",
       "      <th>1178712</th>\n",
       "      <td>sodnapraksa.si</td>\n",
       "      <td>http://sodnapraksa.si/?q=ViiiIps193/2010&amp;amp;d...</td>\n",
       "    </tr>\n",
       "    <tr>\n",
       "      <th>1255387</th>\n",
       "      <td>sodnapraksa.si</td>\n",
       "      <td>http://www.sodnapraksa.si/?q=id:20100408152525...</td>\n",
       "    </tr>\n",
       "  </tbody>\n",
       "</table>\n",
       "</div>"
      ],
      "text/plain": [
       "                 domain                                                url\n",
       "1213635  sodnapraksa.si  http://sodnapraksa.si/?q=285%20&amp;database%5...\n",
       "1259525  sodnapraksa.si  http://sodnapraksa.si/?q=podatki%20iz%20uradni...\n",
       "1242556  sodnapraksa.si  http://www.sodnapraksa.si/?q=Odpoved%20pravici...\n",
       "1209561  sodnapraksa.si  http://www.sodnapraksa.si/search.php?q=G35/12&...\n",
       "1211501  sodnapraksa.si  http://www.sodnapraksa.si/search.php?q=G35/12&...\n",
       "1256542  sodnapraksa.si  http://www.sodnapraksa.si/?q=sklep%20G%2034/20...\n",
       "1215644  sodnapraksa.si  http://www.sodnapraksa.si/?q=id:20150811114380...\n",
       "1216726  sodnapraksa.si  http://www.sodnapraksa.si/?q=id:20150811114470...\n",
       "1178712  sodnapraksa.si  http://sodnapraksa.si/?q=ViiiIps193/2010&amp;d...\n",
       "1255387  sodnapraksa.si  http://www.sodnapraksa.si/?q=id:20100408152525..."
      ]
     },
     "execution_count": 19,
     "metadata": {},
     "output_type": "execute_result"
    }
   ],
   "source": [
    "# For each domain, sample out 10 texts from the initial dataframe\n",
    "\n",
    "# First create the initial df to which all others in the loop will be added\n",
    "final_sample = df[df[\"domain\"] == annotated_domains[0]].sample(n=10)\n",
    "\n",
    "final_sample"
   ]
  },
  {
   "cell_type": "code",
   "execution_count": 20,
   "metadata": {},
   "outputs": [
    {
     "name": "stdout",
     "output_type": "stream",
     "text": [
      "| domain   | url   |\n",
      "|----------|-------|\n"
     ]
    },
    {
     "data": {
      "text/plain": [
       "(3000, 2)"
      ]
     },
     "execution_count": 20,
     "metadata": {},
     "output_type": "execute_result"
    }
   ],
   "source": [
    "# Add all other domains\n",
    "remaining_list = annotated_domains[1:]\n",
    "\n",
    "for i in remaining_list:\n",
    "\ttry:\n",
    "\t\tadded_instances = df[df[\"domain\"] == i].sample(n=10)\n",
    "\t\tfinal_sample = pd.concat([final_sample, added_instances])\n",
    "\texcept:\n",
    "\t\tprint(df[df[\"domain\"] == i][:2].to_markdown())\n",
    "\n",
    "final_sample.shape"
   ]
  },
  {
   "cell_type": "code",
   "execution_count": 21,
   "metadata": {},
   "outputs": [
    {
     "data": {
      "text/html": [
       "<div>\n",
       "<style scoped>\n",
       "    .dataframe tbody tr th:only-of-type {\n",
       "        vertical-align: middle;\n",
       "    }\n",
       "\n",
       "    .dataframe tbody tr th {\n",
       "        vertical-align: top;\n",
       "    }\n",
       "\n",
       "    .dataframe thead th {\n",
       "        text-align: right;\n",
       "    }\n",
       "</style>\n",
       "<table border=\"1\" class=\"dataframe\">\n",
       "  <thead>\n",
       "    <tr style=\"text-align: right;\">\n",
       "      <th></th>\n",
       "      <th>domain</th>\n",
       "      <th>url</th>\n",
       "    </tr>\n",
       "  </thead>\n",
       "  <tbody>\n",
       "    <tr>\n",
       "      <th>count</th>\n",
       "      <td>3000</td>\n",
       "      <td>3000</td>\n",
       "    </tr>\n",
       "    <tr>\n",
       "      <th>unique</th>\n",
       "      <td>300</td>\n",
       "      <td>3000</td>\n",
       "    </tr>\n",
       "    <tr>\n",
       "      <th>top</th>\n",
       "      <td>sodnapraksa.si</td>\n",
       "      <td>http://sodnapraksa.si/?q=285%20&amp;amp;database%5...</td>\n",
       "    </tr>\n",
       "    <tr>\n",
       "      <th>freq</th>\n",
       "      <td>10</td>\n",
       "      <td>1</td>\n",
       "    </tr>\n",
       "  </tbody>\n",
       "</table>\n",
       "</div>"
      ],
      "text/plain": [
       "                domain                                                url\n",
       "count             3000                                               3000\n",
       "unique             300                                               3000\n",
       "top     sodnapraksa.si  http://sodnapraksa.si/?q=285%20&amp;database%5...\n",
       "freq                10                                                  1"
      ]
     },
     "execution_count": 21,
     "metadata": {},
     "output_type": "execute_result"
    }
   ],
   "source": [
    "final_sample.describe()"
   ]
  },
  {
   "cell_type": "code",
   "execution_count": 26,
   "metadata": {},
   "outputs": [],
   "source": [
    "# Save the df\n",
    "final_sample.to_csv(\"MaCoCu-manual_ann_sample-domains-and-urls.csv\", sep=\"\\t\")"
   ]
  },
  {
   "cell_type": "markdown",
   "metadata": {},
   "source": [
    "## Extract the text from the TMX based on the URL list"
   ]
  },
  {
   "cell_type": "code",
   "execution_count": 4,
   "metadata": {},
   "outputs": [
    {
     "data": {
      "text/html": [
       "<div>\n",
       "<style scoped>\n",
       "    .dataframe tbody tr th:only-of-type {\n",
       "        vertical-align: middle;\n",
       "    }\n",
       "\n",
       "    .dataframe tbody tr th {\n",
       "        vertical-align: top;\n",
       "    }\n",
       "\n",
       "    .dataframe thead th {\n",
       "        text-align: right;\n",
       "    }\n",
       "</style>\n",
       "<table border=\"1\" class=\"dataframe\">\n",
       "  <thead>\n",
       "    <tr style=\"text-align: right;\">\n",
       "      <th></th>\n",
       "      <th>domain</th>\n",
       "      <th>url</th>\n",
       "    </tr>\n",
       "  </thead>\n",
       "  <tbody>\n",
       "    <tr>\n",
       "      <th>1213635</th>\n",
       "      <td>sodnapraksa.si</td>\n",
       "      <td>http://sodnapraksa.si/?q=285%20&amp;amp;database%5...</td>\n",
       "    </tr>\n",
       "    <tr>\n",
       "      <th>1259525</th>\n",
       "      <td>sodnapraksa.si</td>\n",
       "      <td>http://sodnapraksa.si/?q=podatki%20iz%20uradni...</td>\n",
       "    </tr>\n",
       "  </tbody>\n",
       "</table>\n",
       "</div>"
      ],
      "text/plain": [
       "                 domain                                                url\n",
       "1213635  sodnapraksa.si  http://sodnapraksa.si/?q=285%20&amp;database%5...\n",
       "1259525  sodnapraksa.si  http://sodnapraksa.si/?q=podatki%20iz%20uradni..."
      ]
     },
     "execution_count": 4,
     "metadata": {},
     "output_type": "execute_result"
    }
   ],
   "source": [
    "# Open the df with domains and urls for the sample\n",
    "final_sample = pd.read_csv(\"MaCoCu-manual_ann_sample-domains-and-urls.csv\", sep=\"\\t\", index_col = 0)\n",
    "\n",
    "final_sample.head(2)"
   ]
  },
  {
   "cell_type": "code",
   "execution_count": 5,
   "metadata": {},
   "outputs": [
    {
     "data": {
      "text/plain": [
       "(3000, 2)"
      ]
     },
     "execution_count": 5,
     "metadata": {},
     "output_type": "execute_result"
    }
   ],
   "source": [
    "final_sample.shape"
   ]
  },
  {
   "cell_type": "code",
   "execution_count": 6,
   "metadata": {},
   "outputs": [
    {
     "data": {
      "text/plain": [
       "['http://sodnapraksa.si/?q=285%20&amp;database%5BSOVS%5D=SOVS&amp;database%5BIESP%5D=IESP&amp;_submit=išči&amp;order=date&amp;direction=asc&amp;rowsPerPage=50&amp;page=12',\n",
       " 'http://sodnapraksa.si/?q=podatki%20iz%20uradnih%20evidenc&amp;database%5BSOVS%5D=SOVS&amp;database%5BIESP%5D=IESP&amp;database%5BVDSS%5D=VDSS&amp;database%5BUPRS%5D=UPRS&amp;database%5BSEU%5D=SEU&amp;database%5BNEGM%5D=NEGM&amp;database%5BSOSC%5D=SOSC&amp;database%5BSOPM%5D=SOPM&amp;_submit=išči&amp;rowsPerPage=20&amp;page=3&amp;id=2012032113044158',\n",
       " 'http://www.sodnapraksa.si/?q=Odpoved%20pravici%20zoper%20pritožbe%20o%20dedovanju%20&amp;database%5BIESP%5D=IESP&amp;_submit=išči&amp;rowsPerPage=20&amp;page=0&amp;moreLikeThis=1&amp;id=doc_53571',\n",
       " 'http://www.sodnapraksa.si/search.php?q=G35/12&amp;database%5BSOVS%5D=SOVS&amp;_submit=i�èi&amp;order=date&amp;direction=asc&amp;page=2&amp;moreLikeThis=1&amp;id=doc_18218',\n",
       " 'http://www.sodnapraksa.si/search.php?q=G35/12&amp;database%5BSOVS%5D=SOVS&amp;_submit=i�èi&amp;order=code&amp;direction=asc&amp;page=35&amp;moreLikeThis=1&amp;id=doc_62842',\n",
       " 'http://www.sodnapraksa.si/?q=sklep%20G%2034/2010&amp;database%5BSOVS%5D=SOVS&amp;_submit=išči&amp;fbclid=IwAR2_mF9LANG0_n1T8AnCBfn1OOXwqmaQEINCUBCVlMnxeC5LsBls9a0_gRo&amp;order=changeDate&amp;direction=asc&amp;rowsPerPage=20&amp;page=0&amp;id=2012032113057784',\n",
       " 'http://www.sodnapraksa.si/?q=id:2015081111438064&amp;database%5BIESP%5D=IESP&amp;_submit=išči&amp;rowsPerPage=20&amp;page=0&amp;moreLikeThis=1&amp;id=doc_2015081111421964',\n",
       " 'http://www.sodnapraksa.si/?q=id:2015081111447009&amp;database%5BIESP%5D=IESP&amp;_submit=išči&amp;rowsPerPage=20&amp;page=0&amp;moreLikeThis=1&amp;id=doc_2010040815259652',\n",
       " 'http://sodnapraksa.si/?q=ViiiIps193/2010&amp;database%5BSOVS%5D=SOVS&amp;_submit=išči&amp;page=448&amp;moreLikeThis=1&amp;id=doc_2010040815252909',\n",
       " 'http://www.sodnapraksa.si/?q=id:2010040815252546&amp;database%5BSOVS%5D=SOVS&amp;database%5BIESP%5D=IESP&amp;database%5BVDSS%5D=VDSS&amp;database%5BUPRS%5D=UPRS&amp;_submit=išči&amp;page=0&amp;rowsPerPage=20&amp;moreLikeThis=1&amp;id=doc_2010040815248171']"
      ]
     },
     "execution_count": 6,
     "metadata": {},
     "output_type": "execute_result"
    }
   ],
   "source": [
    "# Create a list of urls in the sample\n",
    "url_list = list(final_sample[\"url\"].unique())\n",
    "url_list[:10]"
   ]
  },
  {
   "cell_type": "code",
   "execution_count": 7,
   "metadata": {},
   "outputs": [
    {
     "data": {
      "text/plain": [
       "3000"
      ]
     },
     "execution_count": 7,
     "metadata": {},
     "output_type": "execute_result"
    }
   ],
   "source": [
    "len(url_list)"
   ]
  },
  {
   "cell_type": "code",
   "execution_count": 8,
   "metadata": {},
   "outputs": [
    {
     "name": "stderr",
     "output_type": "stream",
     "text": [
      "151967742it [08:20, 303624.01it/s]\n"
     ]
    }
   ],
   "source": [
    "# Now that I have the URL list, I will extract texts from the MaCoCu-sl.xml.gz for the sample based on the URL list.\n",
    "\n",
    "text_all_counter = 0\n",
    "\n",
    "texts_all = []\n",
    "\n",
    "for line in tqdm(file):\n",
    "\tif line.startswith(\"<doc\"):\n",
    "\t\tcurrent_text = []\n",
    "\t\tpure_text = \"\"\n",
    "\t\tcurrent_url = \"\"\n",
    "\t\tcurrent_domain = \"\"\n",
    "\t\tcurrent_url = url_re.search(line).group(1)\n",
    "\t\tcurrent_domain = domain_re.search(line).group(1)\n",
    "\telif line.startswith(\"<p\"):\n",
    "\t\tcontinue\n",
    "\telif line.startswith(\"</p\"):\n",
    "\t\tcontinue\n",
    "\telif line.startswith(\"</doc\"):\n",
    "\t\tif current_url in url_list:\n",
    "\t\t\tcurrent_text = [current_domain, current_url, pure_text]\n",
    "\t\t\ttexts_all.append(current_text)\n",
    "\t\t\ttext_all_counter += 1\n",
    "\telif line.startswith(\"<corpus\"):\n",
    "\t\tcontinue\n",
    "\telif line.startswith(\"</corpus\"):\n",
    "\t\tcontinue\n",
    "\telse:\n",
    "\t\tpure_text += line"
   ]
  },
  {
   "cell_type": "code",
   "execution_count": 9,
   "metadata": {},
   "outputs": [
    {
     "data": {
      "text/plain": [
       "3033"
      ]
     },
     "execution_count": 9,
     "metadata": {},
     "output_type": "execute_result"
    }
   ],
   "source": [
    "text_all_counter"
   ]
  },
  {
   "cell_type": "code",
   "execution_count": 11,
   "metadata": {},
   "outputs": [
    {
     "data": {
      "text/html": [
       "<div>\n",
       "<style scoped>\n",
       "    .dataframe tbody tr th:only-of-type {\n",
       "        vertical-align: middle;\n",
       "    }\n",
       "\n",
       "    .dataframe tbody tr th {\n",
       "        vertical-align: top;\n",
       "    }\n",
       "\n",
       "    .dataframe thead th {\n",
       "        text-align: right;\n",
       "    }\n",
       "</style>\n",
       "<table border=\"1\" class=\"dataframe\">\n",
       "  <thead>\n",
       "    <tr style=\"text-align: right;\">\n",
       "      <th></th>\n",
       "      <th>domain</th>\n",
       "      <th>url</th>\n",
       "      <th>text</th>\n",
       "    </tr>\n",
       "  </thead>\n",
       "  <tbody>\n",
       "    <tr>\n",
       "      <th>0</th>\n",
       "      <td>solemio.si</td>\n",
       "      <td>https://solemio.si/</td>\n",
       "      <td>Ker nam ni vseeno\\nTočke zvestobe\\nZvestobo na...</td>\n",
       "    </tr>\n",
       "    <tr>\n",
       "      <th>1</th>\n",
       "      <td>bimbo.si</td>\n",
       "      <td>https://www.bimbo.si/cam</td>\n",
       "      <td>Cam\\nGledati na svet z otroškimi očmi, da bi r...</td>\n",
       "    </tr>\n",
       "    <tr>\n",
       "      <th>2</th>\n",
       "      <td>bimbo.si</td>\n",
       "      <td>https://www.bimbo.si/cam</td>\n",
       "      <td>Cam\\nCam CULLAMI antracite col 153 - Otroška o...</td>\n",
       "    </tr>\n",
       "    <tr>\n",
       "      <th>3</th>\n",
       "      <td>kwon.si</td>\n",
       "      <td>https://www.kwon.si/acerr</td>\n",
       "      <td>Ne glede na to, ali gledate filme, igrate igre...</td>\n",
       "    </tr>\n",
       "    <tr>\n",
       "      <th>4</th>\n",
       "      <td>kwon.si</td>\n",
       "      <td>https://www.kwon.si/IIYAMA</td>\n",
       "      <td>Gaming monitor IIYAMA G-MASTER GB2730HSU-B1 Bl...</td>\n",
       "    </tr>\n",
       "  </tbody>\n",
       "</table>\n",
       "</div>"
      ],
      "text/plain": [
       "       domain                         url  \\\n",
       "0  solemio.si         https://solemio.si/   \n",
       "1    bimbo.si    https://www.bimbo.si/cam   \n",
       "2    bimbo.si    https://www.bimbo.si/cam   \n",
       "3     kwon.si   https://www.kwon.si/acerr   \n",
       "4     kwon.si  https://www.kwon.si/IIYAMA   \n",
       "\n",
       "                                                text  \n",
       "0  Ker nam ni vseeno\\nTočke zvestobe\\nZvestobo na...  \n",
       "1  Cam\\nGledati na svet z otroškimi očmi, da bi r...  \n",
       "2  Cam\\nCam CULLAMI antracite col 153 - Otroška o...  \n",
       "3  Ne glede na to, ali gledate filme, igrate igre...  \n",
       "4  Gaming monitor IIYAMA G-MASTER GB2730HSU-B1 Bl...  "
      ]
     },
     "execution_count": 11,
     "metadata": {},
     "output_type": "execute_result"
    }
   ],
   "source": [
    "# Create a dataframe out of the text file\n",
    "\n",
    "df_long_texts = pd.DataFrame({\"domain\": [x[0] for x in texts_all], \"url\": [x[1] for x in texts_all], \"text\": [x[2] for x in texts_all]})\n",
    "\n",
    "df_long_texts.head()"
   ]
  },
  {
   "cell_type": "code",
   "execution_count": 12,
   "metadata": {},
   "outputs": [
    {
     "data": {
      "text/html": [
       "<div>\n",
       "<style scoped>\n",
       "    .dataframe tbody tr th:only-of-type {\n",
       "        vertical-align: middle;\n",
       "    }\n",
       "\n",
       "    .dataframe tbody tr th {\n",
       "        vertical-align: top;\n",
       "    }\n",
       "\n",
       "    .dataframe thead th {\n",
       "        text-align: right;\n",
       "    }\n",
       "</style>\n",
       "<table border=\"1\" class=\"dataframe\">\n",
       "  <thead>\n",
       "    <tr style=\"text-align: right;\">\n",
       "      <th></th>\n",
       "      <th>domain</th>\n",
       "      <th>url</th>\n",
       "      <th>text</th>\n",
       "    </tr>\n",
       "  </thead>\n",
       "  <tbody>\n",
       "    <tr>\n",
       "      <th>count</th>\n",
       "      <td>3033</td>\n",
       "      <td>3033</td>\n",
       "      <td>3033</td>\n",
       "    </tr>\n",
       "    <tr>\n",
       "      <th>unique</th>\n",
       "      <td>300</td>\n",
       "      <td>3000</td>\n",
       "      <td>3033</td>\n",
       "    </tr>\n",
       "    <tr>\n",
       "      <th>top</th>\n",
       "      <td>telex.si</td>\n",
       "      <td>https://www.izstopaj.si/sl/za-punce/oblacila</td>\n",
       "      <td>Ker nam ni vseeno\\nTočke zvestobe\\nZvestobo na...</td>\n",
       "    </tr>\n",
       "    <tr>\n",
       "      <th>freq</th>\n",
       "      <td>17</td>\n",
       "      <td>3</td>\n",
       "      <td>1</td>\n",
       "    </tr>\n",
       "  </tbody>\n",
       "</table>\n",
       "</div>"
      ],
      "text/plain": [
       "          domain                                           url  \\\n",
       "count       3033                                          3033   \n",
       "unique       300                                          3000   \n",
       "top     telex.si  https://www.izstopaj.si/sl/za-punce/oblacila   \n",
       "freq          17                                             3   \n",
       "\n",
       "                                                     text  \n",
       "count                                                3033  \n",
       "unique                                               3033  \n",
       "top     Ker nam ni vseeno\\nTočke zvestobe\\nZvestobo na...  \n",
       "freq                                                    1  "
      ]
     },
     "execution_count": 12,
     "metadata": {},
     "output_type": "execute_result"
    }
   ],
   "source": [
    "df_long_texts.describe(include=\"all\")"
   ]
  },
  {
   "cell_type": "code",
   "execution_count": 13,
   "metadata": {},
   "outputs": [
    {
     "data": {
      "text/plain": [
       "telex.si              17\n",
       "indigo-nails.si       13\n",
       "podsvojostreho.net    12\n",
       "extremevital.com      12\n",
       "tenisportal.si        12\n",
       "                      ..\n",
       "liderpnevmatik.si     10\n",
       "besedilo.si           10\n",
       "mazda-si.net          10\n",
       "strelec.si            10\n",
       "sodnapraksa.si        10\n",
       "Name: domain, Length: 300, dtype: int64"
      ]
     },
     "execution_count": 13,
     "metadata": {},
     "output_type": "execute_result"
    }
   ],
   "source": [
    "df_long_texts.domain.value_counts()"
   ]
  },
  {
   "attachments": {},
   "cell_type": "markdown",
   "metadata": {},
   "source": [
    "Some URLs appear multiple times with different texts, so at the end, our sample consits of 3033 texts. The problem with this is a) that some domains have more instances than other, and b) that texts under some of the URLs might be shorter than 75 words. That is why we calculated the length of the texts again and discarded those with length less than 75 words. Then we also sampled out the domains with more than 10 texts, so that at the end all domains have 10 instances."
   ]
  },
  {
   "cell_type": "code",
   "execution_count": 14,
   "metadata": {},
   "outputs": [
    {
     "data": {
      "text/html": [
       "<div>\n",
       "<style scoped>\n",
       "    .dataframe tbody tr th:only-of-type {\n",
       "        vertical-align: middle;\n",
       "    }\n",
       "\n",
       "    .dataframe tbody tr th {\n",
       "        vertical-align: top;\n",
       "    }\n",
       "\n",
       "    .dataframe thead th {\n",
       "        text-align: right;\n",
       "    }\n",
       "</style>\n",
       "<table border=\"1\" class=\"dataframe\">\n",
       "  <thead>\n",
       "    <tr style=\"text-align: right;\">\n",
       "      <th></th>\n",
       "      <th>domain</th>\n",
       "      <th>url</th>\n",
       "      <th>text</th>\n",
       "      <th>length</th>\n",
       "    </tr>\n",
       "  </thead>\n",
       "  <tbody>\n",
       "    <tr>\n",
       "      <th>0</th>\n",
       "      <td>solemio.si</td>\n",
       "      <td>https://solemio.si/</td>\n",
       "      <td>Ker nam ni vseeno\\nTočke zvestobe\\nZvestobo na...</td>\n",
       "      <td>468</td>\n",
       "    </tr>\n",
       "    <tr>\n",
       "      <th>1</th>\n",
       "      <td>bimbo.si</td>\n",
       "      <td>https://www.bimbo.si/cam</td>\n",
       "      <td>Cam\\nGledati na svet z otroškimi očmi, da bi r...</td>\n",
       "      <td>230</td>\n",
       "    </tr>\n",
       "    <tr>\n",
       "      <th>2</th>\n",
       "      <td>bimbo.si</td>\n",
       "      <td>https://www.bimbo.si/cam</td>\n",
       "      <td>Cam\\nCam CULLAMI antracite col 153 - Otroška o...</td>\n",
       "      <td>33</td>\n",
       "    </tr>\n",
       "    <tr>\n",
       "      <th>3</th>\n",
       "      <td>kwon.si</td>\n",
       "      <td>https://www.kwon.si/acerr</td>\n",
       "      <td>Ne glede na to, ali gledate filme, igrate igre...</td>\n",
       "      <td>246</td>\n",
       "    </tr>\n",
       "    <tr>\n",
       "      <th>4</th>\n",
       "      <td>kwon.si</td>\n",
       "      <td>https://www.kwon.si/IIYAMA</td>\n",
       "      <td>Gaming monitor IIYAMA G-MASTER GB2730HSU-B1 Bl...</td>\n",
       "      <td>633</td>\n",
       "    </tr>\n",
       "  </tbody>\n",
       "</table>\n",
       "</div>"
      ],
      "text/plain": [
       "       domain                         url  \\\n",
       "0  solemio.si         https://solemio.si/   \n",
       "1    bimbo.si    https://www.bimbo.si/cam   \n",
       "2    bimbo.si    https://www.bimbo.si/cam   \n",
       "3     kwon.si   https://www.kwon.si/acerr   \n",
       "4     kwon.si  https://www.kwon.si/IIYAMA   \n",
       "\n",
       "                                                text  length  \n",
       "0  Ker nam ni vseeno\\nTočke zvestobe\\nZvestobo na...     468  \n",
       "1  Cam\\nGledati na svet z otroškimi očmi, da bi r...     230  \n",
       "2  Cam\\nCam CULLAMI antracite col 153 - Otroška o...      33  \n",
       "3  Ne glede na to, ali gledate filme, igrate igre...     246  \n",
       "4  Gaming monitor IIYAMA G-MASTER GB2730HSU-B1 Bl...     633  "
      ]
     },
     "execution_count": 14,
     "metadata": {},
     "output_type": "execute_result"
    }
   ],
   "source": [
    "# Add information on length\n",
    "df_long_texts[\"length\"] = df_long_texts[\"text\"].str.split().str.len()\n",
    "\n",
    "df_long_texts.head()"
   ]
  },
  {
   "cell_type": "code",
   "execution_count": 15,
   "metadata": {},
   "outputs": [
    {
     "data": {
      "text/plain": [
       "count     3033.000000\n",
       "mean       500.803825\n",
       "std       1324.283252\n",
       "min          9.000000\n",
       "25%        124.000000\n",
       "50%        225.000000\n",
       "75%        451.000000\n",
       "max      30308.000000\n",
       "Name: length, dtype: float64"
      ]
     },
     "execution_count": 15,
     "metadata": {},
     "output_type": "execute_result"
    }
   ],
   "source": [
    "df_long_texts[\"length\"].describe()"
   ]
  },
  {
   "cell_type": "code",
   "execution_count": 16,
   "metadata": {},
   "outputs": [
    {
     "data": {
      "text/plain": [
       "(3020, 4)"
      ]
     },
     "execution_count": 16,
     "metadata": {},
     "output_type": "execute_result"
    }
   ],
   "source": [
    "# Filter out texts, shorter than 75 words\n",
    "df_long_texts = df_long_texts[df_long_texts[\"length\"] > 75]\n",
    "df_long_texts.shape"
   ]
  },
  {
   "cell_type": "code",
   "execution_count": 17,
   "metadata": {},
   "outputs": [
    {
     "data": {
      "text/plain": [
       "{'telex.si': 17,\n",
       " 'podsvojostreho.net': 12,\n",
       " 'dobrakarma.si': 12,\n",
       " 'extremevital.com': 12,\n",
       " 'elle.metropolitan.si': 11,\n",
       " 'vestnik.si': 11,\n",
       " 'gnes.si': 11,\n",
       " 'tenisportal.si': 11,\n",
       " 'izstopaj.si': 11,\n",
       " 'gorenjskiglas.si': 11,\n",
       " 'oglasi.si': 11,\n",
       " 'mislec.net': 10,\n",
       " 'pomagamo-zivalim.si': 10,\n",
       " 'repozitorij.uni-lj.si': 10,\n",
       " 'nas-stik.si': 10,\n",
       " 'solemio.si': 10,\n",
       " 'revis.openscience.si': 10,\n",
       " 'novacebela.mojforum.si': 10,\n",
       " 'nogomania.com': 10,\n",
       " 'avto-fokus.si': 10,\n",
       " 'sony.si': 10,\n",
       " 'dk.um.si': 10,\n",
       " 'moj-letak.si': 10,\n",
       " 's5tech.net': 10,\n",
       " 'mountvacation.si': 10,\n",
       " 'dirros.openscience.si': 10,\n",
       " 'bead.si': 10,\n",
       " 'murjeplovec.mojforum.si': 10,\n",
       " 'siol.net': 10,\n",
       " 'primorske.si': 10,\n",
       " 'robin.si': 10,\n",
       " 'podjetnik.si': 10,\n",
       " 'redoljub.si': 10,\n",
       " 'regionalgoriska.si': 10,\n",
       " 'joker.muzej.si': 10,\n",
       " 'zurnal24.si': 10,\n",
       " 'lokalne-ajdovscina.si': 10,\n",
       " 'sta.si': 10,\n",
       " 'malizakladi.si': 10,\n",
       " 'rokometna-zveza.si': 10,\n",
       " 'audio-kontakt.com': 10,\n",
       " 'maxximum-portal.com': 10,\n",
       " 'pisrs.si': 10,\n",
       " 'elektronik.si': 10,\n",
       " 'repozitorij.ung.si': 10,\n",
       " 'ipop.si': 10,\n",
       " 'funtech.si': 10,\n",
       " 'dkom.si': 10,\n",
       " 'deloindom.delo.si': 10,\n",
       " 'tekaskiforum.net': 10,\n",
       " 'mojedelo.com': 10,\n",
       " 'megabon.eu': 10,\n",
       " 'makspro.si': 10,\n",
       " 'hyde-park.si': 10,\n",
       " 'lekarnaljubljana.si': 10,\n",
       " 'sloski.si': 10,\n",
       " 'makspro.hr': 10,\n",
       " 'mimovrste.com': 10,\n",
       " 'vsipopusti.si': 10,\n",
       " 'alter.si': 10,\n",
       " 'vzmd.si': 10,\n",
       " 'pugi.si': 10,\n",
       " 'ilovejudo.com': 10,\n",
       " 'arhiv.kzs.si': 10,\n",
       " 'volan.si': 10,\n",
       " 'mobile.si': 10,\n",
       " 'fotograd.si': 10,\n",
       " 'forum.zevs.si': 10,\n",
       " 'old.delo.si': 10,\n",
       " 'rtvslo.si': 10,\n",
       " 'euromobil.si': 10,\n",
       " 'pesjanar.si': 10,\n",
       " 'primorski.eu': 10,\n",
       " 'slonep.net': 10,\n",
       " 'gartlc.mojforum.si': 10,\n",
       " 'kamnik.si': 10,\n",
       " 'igralec.si': 10,\n",
       " 'agppro.si': 10,\n",
       " 'forum.modelarji.com': 10,\n",
       " 'recepti.najdi.si': 10,\n",
       " 'lunin.net': 10,\n",
       " 'zadnja-mesta.si': 10,\n",
       " 'forum.kajkupiti.si': 10,\n",
       " 't-2.rula.net': 10,\n",
       " 'notranjskoprimorske.si': 10,\n",
       " 'bogastvozdravja.si': 10,\n",
       " 'elektron.si': 10,\n",
       " 'webshop.schachermayer.com': 10,\n",
       " 'jabuk.si': 10,\n",
       " 'kvls.si': 10,\n",
       " 'kitarist.si': 10,\n",
       " 'nivaoffroadteam.com': 10,\n",
       " 'telstar.si': 10,\n",
       " 'radiotomi.si': 10,\n",
       " 'delphi.si': 10,\n",
       " 'planetaudio.si': 10,\n",
       " 'info-slovenija.si': 10,\n",
       " 'vwcampers.si': 10,\n",
       " 'nova24tv.si': 10,\n",
       " 'micna.slovenskenovice.si': 10,\n",
       " 'vlaki.info': 10,\n",
       " 'cosmopolitan.metropolitan.si': 10,\n",
       " 'lex-localis.info': 10,\n",
       " 'nivaoffroadteam.rafter.si': 10,\n",
       " 'shop.porscheinterauto.net': 10,\n",
       " 'www2.fu.uni-lj.si': 10,\n",
       " 'forum-lov.org': 10,\n",
       " 'renault-klub.si': 10,\n",
       " 'ekipa.svet24.si': 10,\n",
       " 'novice.svet24.si': 10,\n",
       " 'stirikolesniki.si': 10,\n",
       " 'nakupovanje.net': 10,\n",
       " 'govorise.metropolitan.si': 10,\n",
       " 'mtb-forum.si': 10,\n",
       " 'tabla.mtb.si': 10,\n",
       " 'forum.fiat-klub.si': 10,\n",
       " 'matsport.si': 10,\n",
       " 'dolgouhec.eu': 10,\n",
       " 'findinfo.si': 10,\n",
       " 'vecer.com': 10,\n",
       " 'arhiv.fokuspokus.si': 10,\n",
       " 'cinemania-group.si': 10,\n",
       " 'davkoplacevalci.com': 10,\n",
       " 'up-rs.si': 10,\n",
       " 'posavskiobzornik.si': 10,\n",
       " 'amzs.si': 10,\n",
       " 'openscience.si': 10,\n",
       " 'forum.hamradio.si': 10,\n",
       " 'repozitorij.upr.si': 10,\n",
       " 'planeswalker.eu': 10,\n",
       " 'avto-magazin.metropolitan.si': 10,\n",
       " 'ten-net.si': 10,\n",
       " 'insolvinfo.si': 10,\n",
       " 'citylife.si': 10,\n",
       " 'dobreknjige.si': 10,\n",
       " 'pef.uni-lj.si': 10,\n",
       " 'maribor24.si': 10,\n",
       " 'fenzy.si': 10,\n",
       " 'ricinus2.mf.uni-lj.si': 10,\n",
       " 'panasonic.com': 10,\n",
       " 'politikis.si': 10,\n",
       " 'dolenjskilist.si': 10,\n",
       " 'eur-lex.europa.eu': 10,\n",
       " 'rastline.com': 10,\n",
       " 'mojaobcina.si': 10,\n",
       " 'usersite.datalab.eu': 10,\n",
       " 'mbreport.si': 10,\n",
       " 'zenska.hudo.com': 10,\n",
       " 'avtomobilizem.com': 10,\n",
       " 'uradni-list.si': 10,\n",
       " 'tednik.si': 10,\n",
       " 'instore.si': 10,\n",
       " 'slv.acousticbiotech.com': 10,\n",
       " 'domzalske-novice.si': 10,\n",
       " 'bigbang.si': 10,\n",
       " 'bambino.si': 10,\n",
       " 'avtofil.si': 10,\n",
       " 'insportline.si': 10,\n",
       " 'pekis.si': 10,\n",
       " 'pikapolonica.si': 10,\n",
       " 'teniska-zveza.si': 10,\n",
       " 'indigo-nails.si': 10,\n",
       " 'pogledi.delo.si': 10,\n",
       " 'us-rs.si': 10,\n",
       " 'radiomars.si': 10,\n",
       " 'delimano.si': 10,\n",
       " 'zavas.si': 10,\n",
       " 'slovarms.si': 10,\n",
       " 'peticija.online': 10,\n",
       " 'kamnik.info': 10,\n",
       " 'bralnica.com': 10,\n",
       " 'domzalec.si': 10,\n",
       " 'rsg.si': 10,\n",
       " 'had.si': 10,\n",
       " 'e30.si': 10,\n",
       " 're-max.si': 10,\n",
       " 'stara.odbojka.si': 10,\n",
       " 'sa-agencija.si': 10,\n",
       " 'pefprints.pef.uni-lj.si': 10,\n",
       " 'seonet.ljse.si': 10,\n",
       " 'music24.si': 10,\n",
       " 'zaodrasle.si': 10,\n",
       " 'kozjansko.info': 10,\n",
       " 'citymagazine.si': 10,\n",
       " 'intimatemedicine.si': 10,\n",
       " 'noviglas.eu': 10,\n",
       " 'oblacila.si': 10,\n",
       " 'adrialin.si': 10,\n",
       " 'podcrto.si': 10,\n",
       " 'regionalobala.si': 10,\n",
       " 'pozareport.si': 10,\n",
       " 'pzs.si': 10,\n",
       " 'playroom.si': 10,\n",
       " 'lisac.si': 10,\n",
       " 'dnevnik.si': 10,\n",
       " 'rocker.si': 10,\n",
       " 'kakadu.si': 10,\n",
       " 'matejzalar.si': 10,\n",
       " 'differenta.si': 10,\n",
       " 'igre123.com': 10,\n",
       " 'instal.si': 10,\n",
       " 'mladina.si': 10,\n",
       " '24kul.si': 10,\n",
       " 'dom24.si': 10,\n",
       " 'ceneje.si': 10,\n",
       " '3djake.si': 10,\n",
       " 'radio1.si': 10,\n",
       " 'svetmetraze.si': 10,\n",
       " 'kwon.si': 10,\n",
       " 'actionmama.com': 10,\n",
       " 'bfcshop.si': 10,\n",
       " 'hajdi.si': 10,\n",
       " 'morel.si': 10,\n",
       " 'muziker.si': 10,\n",
       " 'gtocka.si': 10,\n",
       " 'polleosport.si': 10,\n",
       " 'cvek123.com': 10,\n",
       " 'adrialog.com': 10,\n",
       " '1nadan.si': 10,\n",
       " 'fclitija.si': 10,\n",
       " 'techtrade.si': 10,\n",
       " 'obala.net': 10,\n",
       " 'dobranovica.si': 10,\n",
       " 'shop.haberkorn.si': 10,\n",
       " 'lit.ijs.si': 10,\n",
       " 'celje.info': 10,\n",
       " 'megashop.si': 10,\n",
       " 'megapohistvo.si': 10,\n",
       " 'druzina.si': 10,\n",
       " 'grasca.si': 10,\n",
       " 'britev.si': 10,\n",
       " '1zavse.si': 10,\n",
       " 'ljubljana.si': 10,\n",
       " 'pesem.si': 10,\n",
       " 'habeco.si': 10,\n",
       " 'salonpohistva.si': 10,\n",
       " 'ecco-verde.si': 10,\n",
       " 'bal.si': 10,\n",
       " 'racunovodja.com': 10,\n",
       " 'onaplus.delo.si': 10,\n",
       " 'svetloba.si': 10,\n",
       " 'sam.si': 10,\n",
       " 'philips.si': 10,\n",
       " 'mladipodjetnik.si': 10,\n",
       " 'forum.finance.si': 10,\n",
       " 'eurogarden.eu': 10,\n",
       " 'panthera.si': 10,\n",
       " 'strelec.si': 10,\n",
       " 'damijan.org': 10,\n",
       " 'delo.si': 10,\n",
       " 'bimbo.si': 10,\n",
       " 'lokalec.si': 10,\n",
       " 'gamat.si': 10,\n",
       " 'mm-arhiv.si': 10,\n",
       " 'avtomanija.si': 10,\n",
       " 'dostop.si': 10,\n",
       " 'izvozniki.finance.si': 10,\n",
       " 'oblizniprste.si': 10,\n",
       " 'ekspertrfr.si': 10,\n",
       " 'tocnoto.si': 10,\n",
       " 'casnik.si': 10,\n",
       " 'pcplus.si': 10,\n",
       " 'modna.si': 10,\n",
       " 'fromaustria.com': 10,\n",
       " 'mazda-si.net': 10,\n",
       " 'vzajemnost.si': 10,\n",
       " 'labelhair.si': 10,\n",
       " 'vitalabo.si': 10,\n",
       " 'zvpl.com': 10,\n",
       " 'test.times.si': 10,\n",
       " 'silux.si': 10,\n",
       " 'kajkupiti.si': 10,\n",
       " 'altstore.si': 10,\n",
       " 'realmadrid.si': 10,\n",
       " 'majtoj.si': 10,\n",
       " 'zelenatrgovina.si': 10,\n",
       " 'nakupek.si': 10,\n",
       " 'locutio.si': 10,\n",
       " 'booking.com': 10,\n",
       " 'paranoid.si': 10,\n",
       " 'radiostudent.si': 10,\n",
       " 'ubuntu.si': 10,\n",
       " 'mojaleta.si': 10,\n",
       " 'besedilo.si': 10,\n",
       " 'vozimvolvo.si': 10,\n",
       " 'liderpnevmatik.si': 10,\n",
       " 'doria.si': 10,\n",
       " 'bajta.si': 10,\n",
       " 'vsi.si': 10,\n",
       " 'gurman.eu': 10,\n",
       " 'sveterotike.si': 10,\n",
       " 'podarimo.si': 10,\n",
       " 'leoss.si': 10,\n",
       " 'nazraku.si': 10,\n",
       " 'avto.finance.si': 10,\n",
       " 'yogi.si': 10,\n",
       " 'evsvet.eu': 10,\n",
       " 'avdio.ognjisce.si': 10,\n",
       " 'emundia.si': 10,\n",
       " 'sodnapraksa.si': 10}"
      ]
     },
     "execution_count": 17,
     "metadata": {},
     "output_type": "execute_result"
    }
   ],
   "source": [
    "all_domains_frequency = df_long_texts.domain.value_counts().to_dict()\n",
    "\n",
    "all_domains_frequency"
   ]
  },
  {
   "cell_type": "code",
   "execution_count": 18,
   "metadata": {},
   "outputs": [],
   "source": [
    "# Filter out a part of texts from domains that have more than 10 texts\n",
    "for item in [\"telex.si\"]:\n",
    "\tdf_long_texts = df_long_texts.drop(df_long_texts[df_long_texts['domain'] == item].sample(n=7).index)\n",
    "\n",
    "for item in ['podsvojostreho.net','dobrakarma.si', 'extremevital.com']:\n",
    "\tdf_long_texts = df_long_texts.drop(df_long_texts[df_long_texts['domain'] == item].sample(n=2).index)\n",
    "\n",
    "for item in ['elle.metropolitan.si', 'vestnik.si',  'gnes.si',  'tenisportal.si', 'izstopaj.si', 'gorenjskiglas.si', 'oglasi.si']:\n",
    "\tdf_long_texts = df_long_texts.drop(df_long_texts[df_long_texts['domain'] == item].sample(n=1).index)"
   ]
  },
  {
   "cell_type": "code",
   "execution_count": 19,
   "metadata": {},
   "outputs": [
    {
     "data": {
      "text/html": [
       "<div>\n",
       "<style scoped>\n",
       "    .dataframe tbody tr th:only-of-type {\n",
       "        vertical-align: middle;\n",
       "    }\n",
       "\n",
       "    .dataframe tbody tr th {\n",
       "        vertical-align: top;\n",
       "    }\n",
       "\n",
       "    .dataframe thead th {\n",
       "        text-align: right;\n",
       "    }\n",
       "</style>\n",
       "<table border=\"1\" class=\"dataframe\">\n",
       "  <thead>\n",
       "    <tr style=\"text-align: right;\">\n",
       "      <th></th>\n",
       "      <th>domain</th>\n",
       "      <th>url</th>\n",
       "      <th>text</th>\n",
       "      <th>length</th>\n",
       "    </tr>\n",
       "  </thead>\n",
       "  <tbody>\n",
       "    <tr>\n",
       "      <th>count</th>\n",
       "      <td>3000</td>\n",
       "      <td>3000</td>\n",
       "      <td>3000</td>\n",
       "      <td>3000.000000</td>\n",
       "    </tr>\n",
       "    <tr>\n",
       "      <th>unique</th>\n",
       "      <td>300</td>\n",
       "      <td>2986</td>\n",
       "      <td>3000</td>\n",
       "      <td>NaN</td>\n",
       "    </tr>\n",
       "    <tr>\n",
       "      <th>top</th>\n",
       "      <td>solemio.si</td>\n",
       "      <td>http://www.telex.si/index.php?s=143&amp;amp;page=2</td>\n",
       "      <td>Ker nam ni vseeno\\nTočke zvestobe\\nZvestobo na...</td>\n",
       "      <td>NaN</td>\n",
       "    </tr>\n",
       "    <tr>\n",
       "      <th>freq</th>\n",
       "      <td>10</td>\n",
       "      <td>3</td>\n",
       "      <td>1</td>\n",
       "      <td>NaN</td>\n",
       "    </tr>\n",
       "    <tr>\n",
       "      <th>mean</th>\n",
       "      <td>NaN</td>\n",
       "      <td>NaN</td>\n",
       "      <td>NaN</td>\n",
       "      <td>503.810333</td>\n",
       "    </tr>\n",
       "    <tr>\n",
       "      <th>std</th>\n",
       "      <td>NaN</td>\n",
       "      <td>NaN</td>\n",
       "      <td>NaN</td>\n",
       "      <td>1330.962600</td>\n",
       "    </tr>\n",
       "    <tr>\n",
       "      <th>min</th>\n",
       "      <td>NaN</td>\n",
       "      <td>NaN</td>\n",
       "      <td>NaN</td>\n",
       "      <td>76.000000</td>\n",
       "    </tr>\n",
       "    <tr>\n",
       "      <th>25%</th>\n",
       "      <td>NaN</td>\n",
       "      <td>NaN</td>\n",
       "      <td>NaN</td>\n",
       "      <td>125.000000</td>\n",
       "    </tr>\n",
       "    <tr>\n",
       "      <th>50%</th>\n",
       "      <td>NaN</td>\n",
       "      <td>NaN</td>\n",
       "      <td>NaN</td>\n",
       "      <td>227.500000</td>\n",
       "    </tr>\n",
       "    <tr>\n",
       "      <th>75%</th>\n",
       "      <td>NaN</td>\n",
       "      <td>NaN</td>\n",
       "      <td>NaN</td>\n",
       "      <td>452.250000</td>\n",
       "    </tr>\n",
       "    <tr>\n",
       "      <th>max</th>\n",
       "      <td>NaN</td>\n",
       "      <td>NaN</td>\n",
       "      <td>NaN</td>\n",
       "      <td>30308.000000</td>\n",
       "    </tr>\n",
       "  </tbody>\n",
       "</table>\n",
       "</div>"
      ],
      "text/plain": [
       "            domain                                             url  \\\n",
       "count         3000                                            3000   \n",
       "unique         300                                            2986   \n",
       "top     solemio.si  http://www.telex.si/index.php?s=143&amp;page=2   \n",
       "freq            10                                               3   \n",
       "mean           NaN                                             NaN   \n",
       "std            NaN                                             NaN   \n",
       "min            NaN                                             NaN   \n",
       "25%            NaN                                             NaN   \n",
       "50%            NaN                                             NaN   \n",
       "75%            NaN                                             NaN   \n",
       "max            NaN                                             NaN   \n",
       "\n",
       "                                                     text        length  \n",
       "count                                                3000   3000.000000  \n",
       "unique                                               3000           NaN  \n",
       "top     Ker nam ni vseeno\\nTočke zvestobe\\nZvestobo na...           NaN  \n",
       "freq                                                    1           NaN  \n",
       "mean                                                  NaN    503.810333  \n",
       "std                                                   NaN   1330.962600  \n",
       "min                                                   NaN     76.000000  \n",
       "25%                                                   NaN    125.000000  \n",
       "50%                                                   NaN    227.500000  \n",
       "75%                                                   NaN    452.250000  \n",
       "max                                                   NaN  30308.000000  "
      ]
     },
     "execution_count": 19,
     "metadata": {},
     "output_type": "execute_result"
    }
   ],
   "source": [
    "df_long_texts.describe(include=\"all\")"
   ]
  },
  {
   "cell_type": "code",
   "execution_count": 20,
   "metadata": {},
   "outputs": [
    {
     "data": {
      "text/plain": [
       "solemio.si                10\n",
       "mountvacation.si          10\n",
       "novacebela.mojforum.si    10\n",
       "mislec.net                10\n",
       "pomagamo-zivalim.si       10\n",
       "                          ..\n",
       "avdio.ognjisce.si         10\n",
       "emundia.si                10\n",
       "leoss.si                  10\n",
       "mojaleta.si               10\n",
       "sodnapraksa.si            10\n",
       "Name: domain, Length: 300, dtype: int64"
      ]
     },
     "execution_count": 20,
     "metadata": {},
     "output_type": "execute_result"
    }
   ],
   "source": [
    "# Check if all domains have the same number of instances\n",
    "df_long_texts.domain.value_counts()"
   ]
  },
  {
   "cell_type": "code",
   "execution_count": 21,
   "metadata": {},
   "outputs": [],
   "source": [
    "# Save the final sample\n",
    "df_long_texts.to_csv(\"MaCoCu-sl-manual-checkup-sample.csv\", sep=\"\\t\")"
   ]
  }
 ],
 "metadata": {
  "kernelspec": {
   "display_name": "Python 3.9.7 ('base')",
   "language": "python",
   "name": "python3"
  },
  "language_info": {
   "codemirror_mode": {
    "name": "ipython",
    "version": 3
   },
   "file_extension": ".py",
   "mimetype": "text/x-python",
   "name": "python",
   "nbconvert_exporter": "python",
   "pygments_lexer": "ipython3",
   "version": "3.9.7"
  },
  "orig_nbformat": 4,
  "vscode": {
   "interpreter": {
    "hash": "7e373e41fe05b496006fe2fc132d7af19f1d513370c44925a0044a5f3ee41336"
   }
  }
 },
 "nbformat": 4,
 "nbformat_minor": 2
}
